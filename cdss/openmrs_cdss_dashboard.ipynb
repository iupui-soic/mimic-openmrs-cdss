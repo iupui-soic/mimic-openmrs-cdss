{
 "cells": [
  {
   "cell_type": "code",
   "execution_count": 103,
   "id": "bcf69aa2",
   "metadata": {
    "execution": {
     "iopub.execute_input": "2023-05-02T19:05:17.806893Z",
     "iopub.status.busy": "2023-05-02T19:05:17.806472Z",
     "iopub.status.idle": "2023-05-02T19:05:17.817116Z",
     "shell.execute_reply": "2023-05-02T19:05:17.816103Z"
    },
    "extensions": {
     "jupyter_dashboards": {
      "version": 1,
      "views": {
       "grid_default": {},
       "report_default": {
        "hidden": true
       }
      }
     }
    }
   },
   "outputs": [],
   "source": [
    "# Parameters:\n",
    "patientId = 16361542\n",
    "dashboard = 1\n"
   ]
  },
  {
   "cell_type": "code",
   "execution_count": 104,
   "id": "07dbea26",
   "metadata": {
    "execution": {
     "iopub.execute_input": "2023-05-02T19:05:17.821916Z",
     "iopub.status.busy": "2023-05-02T19:05:17.821498Z",
     "iopub.status.idle": "2023-05-02T19:05:17.836452Z",
     "shell.execute_reply": "2023-05-02T19:05:17.835192Z"
    },
    "extensions": {
     "jupyter_dashboards": {
      "version": 1,
      "views": {
       "grid_default": {},
       "report_default": {
        "hidden": true
       }
      }
     }
    }
   },
   "outputs": [
    {
     "data": {
      "application/javascript": [
       "IPython.OutputArea.prototype._should_scroll = function(lines) {\n",
       "    return false;\n",
       "}\n"
      ],
      "text/plain": [
       "<IPython.core.display.Javascript object>"
      ]
     },
     "metadata": {},
     "output_type": "display_data"
    }
   ],
   "source": [
    "%%javascript\n",
    "IPython.OutputArea.prototype._should_scroll = function(lines) {\n",
    "    return false;\n",
    "}"
   ]
  },
  {
   "cell_type": "code",
   "execution_count": 105,
   "id": "6223d8d1",
   "metadata": {
    "execution": {
     "iopub.execute_input": "2023-05-02T19:05:17.841600Z",
     "iopub.status.busy": "2023-05-02T19:05:17.841239Z",
     "iopub.status.idle": "2023-05-02T19:05:17.846040Z",
     "shell.execute_reply": "2023-05-02T19:05:17.844817Z"
    },
    "extensions": {
     "jupyter_dashboards": {
      "version": 1,
      "views": {
       "grid_default": {},
       "report_default": {
        "hidden": true
       }
      }
     }
    }
   },
   "outputs": [],
   "source": [
    "#Importing required modules"
   ]
  },
  {
   "cell_type": "code",
   "execution_count": 106,
   "id": "d066e92a",
   "metadata": {
    "execution": {
     "iopub.execute_input": "2023-05-02T19:05:17.851330Z",
     "iopub.status.busy": "2023-05-02T19:05:17.850971Z",
     "iopub.status.idle": "2023-05-02T19:05:21.628081Z",
     "shell.execute_reply": "2023-05-02T19:05:21.626837Z"
    },
    "extensions": {
     "jupyter_dashboards": {
      "version": 1,
      "views": {
       "grid_default": {},
       "report_default": {
        "hidden": true
       }
      }
     }
    }
   },
   "outputs": [],
   "source": [
    "# import sys\n",
    "# !{sys.executable} -m pip install --user seaborn\n",
    "# !{sys.executable} -m pip install --user ipywidgets\n",
    "# !{sys.executable} -m pip install --user pandas\n",
    "# !{sys.executable} -m pip install --user matplotlib\n",
    "# !{sys.executable} -m pip install --user scipy\n",
    "# !{sys.executable} -m pip install --user sklearn\n",
    "# !{sys.executable} -m pip install --user fastkml\n",
    "# !{sys.executable} -m pip install --user folium\n",
    "# !{sys.executable} -m pip install --user tabulate\n",
    "\n",
    "from IPython.display import display, clear_output\n",
    "from IPython.display import Markdown\n",
    "\n",
    "import IPython.display\n",
    "import pandas as pd\n",
    "import numpy as np\n",
    "import fastai\n",
    "from fastai.tabular.all import *\n",
    "\n",
    "import ipywidgets as widgets\n",
    "from ipywidgets import Button, Layout\n",
    "from __future__ import print_function\n",
    "from ipywidgets import interact, interactive, fixed, interact_manual\n",
    "from ipywidgets import Box\n",
    "\n",
    "\n",
    "import warnings\n",
    "warnings.filterwarnings('ignore')\n",
    "\n",
    "\n",
    "from os import listdir\n",
    "from os.path import isfile, join\n",
    "\n",
    "import matplotlib.pyplot as plt\n",
    "from pandas.plotting import table\n",
    "\n",
    "from scipy import stats\n",
    "from pingouin import ttest\n",
    "import seaborn as sns\n",
    "import zipfile\n",
    "from fastkml.kml import KML\n",
    "import folium\n",
    "import datetime\n",
    "from datetime import date\n",
    "import sklearn as sklearn\n",
    "import scikitplot as skplt\n",
    "\n",
    "from sklearn.model_selection import train_test_split\n",
    "from sklearn.preprocessing import RobustScaler,MinMaxScaler,StandardScaler\n",
    "\n",
    "from sklearn.ensemble import RandomForestClassifier\n",
    "from IPython.display import display, HTML\n",
    "from ipywidgets import widgets, Layout\n",
    "import scipy.stats as stats\n",
    "from imblearn.over_sampling import SMOTE\n",
    "import lightgbm as lgb \n",
    "from sklearn.feature_selection import chi2\n",
    "from sklearn.metrics import accuracy_score\n",
    "from sklearn.metrics import confusion_matrix\n",
    "from sklearn.metrics import precision_score, recall_score\n",
    "from sklearn.metrics import f1_score\n",
    "from sklearn.metrics import classification_report\n",
    "from sklearn.model_selection import cross_val_score\n",
    "from sklearn.model_selection import GridSearchCV\n",
    "from sklearn.metrics import roc_curve, auc\n",
    "from sklearn.metrics import roc_auc_score\n",
    "from fastai.vision import *\n",
    "\n",
    "from collections import Counter\n",
    "from imblearn.over_sampling import SMOTE\n",
    "from imblearn.under_sampling import RandomUnderSampler\n",
    "from imblearn.pipeline import Pipeline\n",
    "\n",
    "import MySQLdb\n",
    "from pandas.io import sql \n",
    "\n",
    "from simple_colors import *\n",
    "\n",
    "from sklearn.multioutput import MultiOutputClassifier\n"
   ]
  },
  {
   "cell_type": "code",
   "execution_count": 107,
   "id": "71b667e1",
   "metadata": {
    "execution": {
     "iopub.execute_input": "2023-05-02T19:05:21.633724Z",
     "iopub.status.busy": "2023-05-02T19:05:21.633166Z",
     "iopub.status.idle": "2023-05-02T19:05:21.649128Z",
     "shell.execute_reply": "2023-05-02T19:05:21.648022Z"
    },
    "extensions": {
     "jupyter_dashboards": {
      "version": 1,
      "views": {
       "grid_default": {},
       "report_default": {
        "hidden": true
       }
      }
     }
    }
   },
   "outputs": [],
   "source": [
    "# Setting up the database connection\n",
    "myvars = {}\n",
    "with open(\"openmrs-cdss-password.txt\") as myfile:\n",
    "    for line in myfile:\n",
    "        name, var = line.partition(\":\")[::2]\n",
    "        myvars[name.strip()] = var.strip()\n",
    "        \n",
    "conn = MySQLdb.connect(host=\"localhost\", user=myvars['DB username'], passwd=myvars['DB password'], db=myvars['DB databasename']) \n",
    "openmrscursor = conn.cursor()  "
   ]
  },
  {
   "cell_type": "code",
   "execution_count": 108,
   "id": "78d3436b",
   "metadata": {
    "execution": {
     "iopub.execute_input": "2023-05-02T19:05:21.653440Z",
     "iopub.status.busy": "2023-05-02T19:05:21.653097Z",
     "iopub.status.idle": "2023-05-02T19:05:21.658353Z",
     "shell.execute_reply": "2023-05-02T19:05:21.657121Z"
    },
    "extensions": {
     "jupyter_dashboards": {
      "version": 1,
      "views": {
       "grid_default": {},
       "report_default": {
        "hidden": true
       }
      }
     }
    }
   },
   "outputs": [],
   "source": [
    "## Patient Attributes\n",
    "## 12576264, 10152346\n",
    "patient_id = patientId\n",
    "values_mapx = {}\n",
    "values_mapx['patient_id'] = patient_id"
   ]
  },
  {
   "cell_type": "code",
   "execution_count": 109,
   "id": "14756100",
   "metadata": {
    "execution": {
     "iopub.execute_input": "2023-05-02T19:05:21.663166Z",
     "iopub.status.busy": "2023-05-02T19:05:21.662786Z",
     "iopub.status.idle": "2023-05-02T19:05:22.816796Z",
     "shell.execute_reply": "2023-05-02T19:05:22.815421Z"
    },
    "extensions": {
     "jupyter_dashboards": {
      "version": 1,
      "views": {
       "grid_default": {},
       "report_default": {
        "hidden": false
       }
      }
     }
    }
   },
   "outputs": [],
   "source": [
    "dataset=pd.read_csv(\"merged_modified_named.csv\")\n",
    "dataset=dataset.drop([\"Unnamed: 0\"],axis=1)\n",
    "dataset=dataset.drop_duplicates()\n",
    "dataset=dataset.reset_index()\n",
    "dataset=dataset.drop([\"index\"],axis=1)\n",
    "# Rename some columns\n",
    "dataset = dataset.rename(columns={\n",
    "    '1': 'Acute kidney failure, unspecified',\n",
    "    '2_y': 'Coronary atherosclerosis of native coronary artery',\n",
    "    '3_y': 'Urinary tract infection, site not specified',\n",
    "    '4_y': 'Encounter for antineoplastic chemotherapy',\n",
    "    '5_y': 'Syncope and collapse',\n",
    "    '6_y': 'Other chest pain',\n",
    "    '7': 'Pneumonia, organism unspecified',\n",
    "    '8_y': 'Chest pain, unspecified',\n",
    "    '9_y': 'Percutaneous transluminal coronary angioplasty [PTCA]',\n",
    "    '10': 'Other nonoperative respiratory measurements',\n",
    "})\n",
    "#dataset"
   ]
  },
  {
   "cell_type": "code",
   "execution_count": 110,
   "id": "4a7c1433",
   "metadata": {
    "execution": {
     "iopub.execute_input": "2023-05-02T19:05:22.822236Z",
     "iopub.status.busy": "2023-05-02T19:05:22.821878Z",
     "iopub.status.idle": "2023-05-02T19:05:22.829065Z",
     "shell.execute_reply": "2023-05-02T19:05:22.827921Z"
    },
    "extensions": {
     "jupyter_dashboards": {
      "version": 1,
      "views": {
       "grid_default": {},
       "report_default": {
        "hidden": true
       }
      }
     }
    }
   },
   "outputs": [
    {
     "data": {
      "text/html": [
       "\n",
       "<style>\n",
       ".select-checkbox option::before {\n",
       "  font-family: 'Material Symbols Outlined';\n",
       "  font-size: initial;\n",
       "  content: \"\\e835\";\n",
       "  width: 1.5em;\n",
       "  text-align: center;\n",
       "  vertical-align: bottom;\n",
       "  display: inline-block;\n",
       "}\n",
       "\n",
       ".select-checkbox option:checked::before {\n",
       "  content: \"\\e834\";\n",
       "}\n",
       "</style>\n",
       "\n",
       "<link href=\"https://fonts.googleapis.com/css2?family=Material+Symbols+Outlined\" rel=\"stylesheet\" />\n"
      ],
      "text/plain": [
       "<IPython.core.display.HTML object>"
      ]
     },
     "metadata": {},
     "output_type": "display_data"
    }
   ],
   "source": [
    "from IPython.core.display import display, HTML\n",
    "display(HTML('''\n",
    "<style>\n",
    ".select-checkbox option::before {\n",
    "  font-family: 'Material Symbols Outlined';\n",
    "  font-size: initial;\n",
    "  content: \"\\\\e835\";\n",
    "  width: 1.5em;\n",
    "  text-align: center;\n",
    "  vertical-align: bottom;\n",
    "  display: inline-block;\n",
    "}\n",
    "\n",
    ".select-checkbox option:checked::before {\n",
    "  content: \"\\\\e834\";\n",
    "}\n",
    "</style>\n",
    "\n",
    "<link href=\"https://fonts.googleapis.com/css2?family=Material+Symbols+Outlined\" rel=\"stylesheet\" />\n",
    "'''))"
   ]
  },
  {
   "cell_type": "code",
   "execution_count": 111,
   "id": "85e63c9d",
   "metadata": {
    "execution": {
     "iopub.execute_input": "2023-05-02T19:05:22.833226Z",
     "iopub.status.busy": "2023-05-02T19:05:22.832878Z",
     "iopub.status.idle": "2023-05-02T19:05:22.840928Z",
     "shell.execute_reply": "2023-05-02T19:05:22.839680Z"
    },
    "extensions": {
     "jupyter_dashboards": {
      "version": 1,
      "views": {
       "grid_default": {},
       "report_default": {
        "hidden": true
       }
      }
     }
    }
   },
   "outputs": [],
   "source": [
    "# creating cohort\n",
    "def on_1button_clicked(selected_diag):\n",
    "     # Convert selected_diag to a list and remove any empty elements\n",
    "    diag_con = list(filter(None, selected_diag))\n",
    "    values_mapx['diag_con'] = diag_con\n",
    "\n",
    "    # Select the columns in the DataFrame that have the same values as diag_con\n",
    "    selected_cols = dataset.loc[:, dataset.columns.isin(diag_con)]\n",
    "\n",
    "    # Count the number of rows where the selected columns have value 0\n",
    "    count_rows = selected_cols.ne(0).all(axis=1).sum()\n",
    "    \n",
    "    cohort_count = widgets.IntText(value=count_rows, description='Patients similar to selected diagnosis:', style={'description_width': 'initial', 'width': 'auto'})\n",
    "    \n",
    "#     item_layout = widgets.Layout(display='flex',\n",
    "#                     flex_flow='row',\n",
    "#                     align_items='stretch',\n",
    "#                     border='solid #1ca999 1px',\n",
    "#                     padding='1px',\n",
    "#                     width='100%')\n",
    "    item_layout = widgets.Layout(display='flex',\n",
    "                    flex_flow='row',\n",
    "                    align_items='stretch',\n",
    "                    border='solid #1ca999 1px',\n",
    "                    padding='1px',\n",
    "                    width='100%')\n",
    "\n",
    "    input_widgets = widgets.HBox([cohort_count], layout=item_layout)\n",
    "    display(input_widgets)"
   ]
  },
  {
   "cell_type": "code",
   "execution_count": 112,
   "id": "83d75922",
   "metadata": {
    "execution": {
     "iopub.execute_input": "2023-05-02T19:05:22.845163Z",
     "iopub.status.busy": "2023-05-02T19:05:22.844812Z",
     "iopub.status.idle": "2023-05-02T19:05:22.985405Z",
     "shell.execute_reply": "2023-05-02T19:05:22.984159Z"
    },
    "extensions": {
     "jupyter_dashboards": {
      "version": 1,
      "views": {
       "grid_default": {},
       "report_default": {
        "hidden": true
       }
      }
     }
    }
   },
   "outputs": [],
   "source": [
    "style = {'description_width': 'initial'}\n",
    "diagnames_pat_id = \"SELECT description from concept where concept_id IN (SELECT * FROM(SELECT diagnosis_coded FROM encounter_diagnosis WHERE patient_id = {patient_id}) as xyz)\" \n",
    "diagnames_pat_id = diagnames_pat_id.format(**values_mapx)\n",
    "diagnames_pat_id = pd.read_sql(diagnames_pat_id, con=conn)\n",
    "diagnames_value = diagnames_pat_id['description']\n",
    "\n",
    "list_of_diagnosis=['Acute kidney failure, unspecified','Coronary atherosclerosis of native coronary artery','Urinary tract infection, site not specified',\n",
    "                  'Encounter for antineoplastic chemotherapy','Syncope and collapse','Other chest pain','Pneumonia, organism unspecified',\n",
    "                  'Chest pain, unspecified','Percutaneous transluminal coronary angioplasty [PTCA]','Other nonoperative respiratory measurements']\n",
    "\n",
    "diagnames_options = [d for d in diagnames_pat_id['description'].unique() if d in list_of_diagnosis]\n",
    "dropdown_diagnames_pat_id = widgets.SelectMultiple(options=diagnames_options, style=style, disabled=False, rows=7, size=10, layout=Layout(width='60%')).add_class('select-checkbox')\n",
    "\n",
    "output_diagnames_pat_id = widgets.Output()\n",
    "\n",
    "def dropdown_diagconcept_eventhandler(change):\n",
    "    output_diagnames_pat_id.clear_output()\n",
    "    with output_diagnames_pat_id:\n",
    "        display(diagnames_pat_id[diagnames_pat_id['description'] == change.new])\n",
    "    on_1button_clicked(dropdown_diagnames_pat_id.value)\n",
    "     \n",
    "dropdown_diagnames_pat_id.observe(dropdown_diagconcept_eventhandler, names='value')"
   ]
  },
  {
   "cell_type": "code",
   "execution_count": 113,
   "id": "331d802e",
   "metadata": {
    "execution": {
     "iopub.execute_input": "2023-05-02T19:05:22.991384Z",
     "iopub.status.busy": "2023-05-02T19:05:22.990930Z",
     "iopub.status.idle": "2023-05-02T19:05:24.241979Z",
     "shell.execute_reply": "2023-05-02T19:05:24.240506Z"
    },
    "extensions": {
     "jupyter_dashboards": {
      "version": 1,
      "views": {
       "grid_default": {},
       "report_default": {
        "hidden": true
       }
      }
     }
    }
   },
   "outputs": [],
   "source": [
    "patient_attribute_df = pd.read_sql(\"\"\"select p.gender, m.age_group_code, c.concept_id, o.concept_id, cn.name,  c.description, \n",
    "                                e.diagnosis_coded from person as p LEFT JOIN mimic_openmrs_cdss as m ON p.person_id = m.person_id \n",
    "                                LEFT JOIN obs as o ON o.person_id = p.person_id  LEFT JOIN concept_name as cn ON cn.concept_id = o.concept_id \n",
    "                                LEFT JOIN encounter_diagnosis as e ON e.patient_id = p.person_id LEFT JOIN concept as c ON \n",
    "                                c.concept_id = e.diagnosis_coded WHERE  p.person_id = {}\"\"\".format(patient_id), con = conn)"
   ]
  },
  {
   "cell_type": "code",
   "execution_count": 114,
   "id": "111d8e2e",
   "metadata": {
    "execution": {
     "iopub.execute_input": "2023-05-02T19:05:24.247187Z",
     "iopub.status.busy": "2023-05-02T19:05:24.246813Z",
     "iopub.status.idle": "2023-05-02T19:05:24.257866Z",
     "shell.execute_reply": "2023-05-02T19:05:24.256511Z"
    },
    "extensions": {
     "jupyter_dashboards": {
      "version": 1,
      "views": {
       "grid_default": {},
       "report_default": {
        "hidden": true
       }
      }
     }
    }
   },
   "outputs": [],
   "source": [
    "def on_3button_clicked():\n",
    "    output_count = widgets.Output()\n",
    "    concept_name = dropdown_concept_name.value\n",
    "    concept_name = list(concept_name)\n",
    "\n",
    "    values_map = {}\n",
    "\n",
    "    a = 0\n",
    "    final_patient_ind_value_numeric = pd.DataFrame(columns = ['person_id'])\n",
    "    final_patient_ind_value_numeric['person_id'] = final_patient_ind_value_numeric['person_id'].astype(int)\n",
    "\n",
    "    dfss = []\n",
    "\n",
    "    for i in concept_name:\n",
    "        values_map['concept_name'] = concept_name[a]\n",
    "        values_map['patient_id'] = patient_id \n",
    "        a = a+1\n",
    "\n",
    "        patient_value_numeric = (\"\"\" select o.person_id, o.value_numeric from obs as o where o.concept_id IN (SELECT c.concept_id FROM concept as c WHERE c.description = '{concept_name}') AND o.person_id = {patient_id}\"\"\")\n",
    "        patient_value_numeric = patient_value_numeric.format(**values_map)\n",
    "\n",
    "        patient_ind_value_numeric = pd.read_sql(patient_value_numeric, con = conn)\n",
    "    \n",
    "        patient_ind_value_numeric.columns = [*patient_ind_value_numeric.columns[:-1], i]\n",
    "    \n",
    "        name = \"patient_ind_value_numeric\" + i\n",
    "     \n",
    "        locals()[name] = patient_ind_value_numeric.copy()\n",
    "\n",
    "        dfss.append(locals()[name])\n",
    "\n",
    "    ls = [df.set_index('person_id') for df in dfss]\n",
    "\n",
    "    # pd.DataFrame.join accepts a list of dataframes as 'other'\n",
    "    final_patient_ind_value_numeric = ls[0].append(ls[1:])\n",
    "    \n",
    "    # final_patient_ind_value_numeric = ls[0].join(ls[1:], how = 'inner')\n",
    "    final_patient_ind_value_numeric = final_patient_ind_value_numeric.reset_index(drop = False)\n",
    "\n",
    "    for column in final_patient_ind_value_numeric.columns:\n",
    "        final_patient_ind_value_numeric[column] = final_patient_ind_value_numeric[column].fillna(final_patient_ind_value_numeric[column].mean())\n",
    "\n",
    "    display(final_patient_ind_value_numeric)"
   ]
  },
  {
   "cell_type": "code",
   "execution_count": 115,
   "id": "8cd6fef9",
   "metadata": {
    "execution": {
     "iopub.execute_input": "2023-05-02T19:05:24.262675Z",
     "iopub.status.busy": "2023-05-02T19:05:24.262292Z",
     "iopub.status.idle": "2023-05-02T19:05:24.273293Z",
     "shell.execute_reply": "2023-05-02T19:05:24.272016Z"
    },
    "extensions": {
     "jupyter_dashboards": {
      "version": 1,
      "views": {
       "grid_default": {},
       "report_default": {
        "hidden": true
       }
      }
     }
    }
   },
   "outputs": [],
   "source": [
    "def patient_cohort_concept_():\n",
    "    output_count = widgets.Output()\n",
    "\n",
    "    concept_name = dropdown_concept_name.value\n",
    "    concept_name = list(concept_name)\n",
    "    concept_name\n",
    "\n",
    "    values_map = {}\n",
    "    a = 0\n",
    "    \n",
    "    # final_patient_cohort_concept = pd.DataFrame(columns = ['person_id'])\n",
    "    # final_patient_cohort_concept['person_id'] = final_patient_cohort_concept['person_id'].astype(int)\n",
    "\n",
    "    dfs = []\n",
    "\n",
    "    for i in concept_name:\n",
    "        values_map['concept_name'] = concept_name[a]\n",
    "        values_map['patient_id'] = patient_id \n",
    "        a = a+1\n",
    "    \n",
    "        sql_query = (\"\"\"select person_id, value_numeric from obs where person_id IN (select p.person_id from person p, \n",
    "                mimic_openmrs_cdss cdss where p.person_id IN (select patient_id from encounter_diagnosis where \n",
    "                diagnosis_coded IN (select c.concept_id from concept c where c.description LIKE \n",
    "                ('Pneumonia, unspecified organism')) AND cdss.person_id=p.person_id AND p.gender='M' \n",
    "                AND cdss.age_group_code=7)) AND concept_id = (select c.concept_id from concept c where c.description = '{concept_name}')\"\"\")\n",
    "\n",
    "        sql_query = sql_query.format(**values_map)\n",
    "\n",
    "        patient_cohort_concept = pd.read_sql(sql_query, con = conn)\n",
    "        patient_cohort_concept.columns = [*patient_cohort_concept.columns[:-1], i]\n",
    "    \n",
    "        name = \"patient_cohort_concept\" + i\n",
    "    \n",
    " \n",
    "        locals()[name] = patient_cohort_concept.copy()\n",
    "\n",
    "        dfs.append(locals()[name])\n",
    "    \n",
    "    \n",
    "   \n",
    "    #final_patient_cohort_concept.merge(patient_cohort_concept, on = 'person_id', how = 'outer')\n",
    "    #final_patient_cohort_concept = pd.merge(patient_cohort_concept, final_patient_cohort_concept, on='person_id', how='inner')\n",
    "    #l = [df.set_index('person_id') for df in dfs] \n",
    "\n",
    "    l = [df for df in dfs] \n",
    "\n",
    "    # pd.DataFrame.join accepts a list of dataframes as 'other' \n",
    "    final_patient_cohort_concept = l[0].append(l[1:])\n",
    "\n",
    "\n",
    "    #final_patient_cohort_concept = l[0].append(l[1:])\n",
    "    #final_patient_cohort_concept = final_patient_cohort_concept.reset_index(drop = False)\n",
    "    for column in final_patient_cohort_concept.columns:\n",
    "        final_patient_cohort_concept[column] = final_patient_cohort_concept[column].fillna(final_patient_cohort_concept[column].mean())\n",
    "\n",
    "        out = widgets.Output()\n",
    "        with out:\n",
    "            display(final_patient_cohort_concept)\n",
    "        return out\n",
    "\n",
    "    # Getting total count of the patient cohort as text widget\n",
    "    total_count_cohort = len(final_patient_cohort_concept)\n",
    "    text_patient_cohort_count = widgets.IntText(value = total_count_cohort , description= 'Total count:')\n",
    "    display(text_patient_cohort_count)"
   ]
  },
  {
   "cell_type": "code",
   "execution_count": 116,
   "id": "8256b8eb",
   "metadata": {
    "execution": {
     "iopub.execute_input": "2023-05-02T19:05:24.277608Z",
     "iopub.status.busy": "2023-05-02T19:05:24.277214Z",
     "iopub.status.idle": "2023-05-02T19:05:24.282172Z",
     "shell.execute_reply": "2023-05-02T19:05:24.281032Z"
    },
    "extensions": {
     "jupyter_dashboards": {
      "version": 1,
      "views": {
       "grid_default": {},
       "report_default": {
        "hidden": true
       }
      }
     }
    }
   },
   "outputs": [],
   "source": [
    "# getting the dropdown for concept_name"
   ]
  },
  {
   "cell_type": "code",
   "execution_count": 117,
   "id": "2f61ccd7",
   "metadata": {
    "execution": {
     "iopub.execute_input": "2023-05-02T19:05:24.286499Z",
     "iopub.status.busy": "2023-05-02T19:05:24.286151Z",
     "iopub.status.idle": "2023-05-02T19:05:24.325158Z",
     "shell.execute_reply": "2023-05-02T19:05:24.323794Z"
    },
    "extensions": {
     "jupyter_dashboards": {
      "version": 1,
      "views": {
       "grid_default": {},
       "report_default": {
        "hidden": true
       }
      }
     }
    }
   },
   "outputs": [],
   "source": [
    "output_concept_name = widgets.Output()\n",
    "#dropdown_concept_name = widgets.Dropdown(options = patient_attribute_df['description'].unique(), description = '<b>Concept Name:</b>')\n",
    "\n",
    "\n",
    "columns_list = list(dataset.columns)[:423]\n",
    "# create a new DataFrame containing only the relevant rows from patient_attribute_df\n",
    "relevant_rows = patient_attribute_df[patient_attribute_df['name'].isin(columns_list)]\n",
    "\n",
    "dropdown_concept_name = widgets.SelectMultiple(options= relevant_rows['name'].unique(), style =style,disabled=False, rows = 7, size = 10,layout=Layout(width = '40%')).add_class('select-checkbox')\n",
    "\n",
    "\n",
    "def dropdown_concept_name_eventhandler(change):\n",
    "    output_concept_name.clear_output()\n",
    "    with output_concept_name:\n",
    "        display(patient_attribute_df[patient_attribute_df[\"name\"] == change.new])\n",
    "    patient_cohort_concept_()\n",
    "    on_3button_clicked(dropdown_concept_name.value)\n",
    "    \n",
    "def dropdown_concept_name_eventhandler1(change):\n",
    "    output_concept_name.clear_output()\n",
    "    with output_concept_name:\n",
    "        display(patient_attribute_df[patient_attribute_df[\"name\"] == change.new])\n",
    "\n",
    "    \n",
    "dropdown_concept_name.observe(dropdown_concept_name_eventhandler1, names='value')"
   ]
  },
  {
   "cell_type": "code",
   "execution_count": 118,
   "id": "150b6141",
   "metadata": {
    "execution": {
     "iopub.execute_input": "2023-05-02T19:05:24.330101Z",
     "iopub.status.busy": "2023-05-02T19:05:24.329729Z",
     "iopub.status.idle": "2023-05-02T19:05:24.334755Z",
     "shell.execute_reply": "2023-05-02T19:05:24.333478Z"
    },
    "extensions": {
     "jupyter_dashboards": {
      "version": 1,
      "views": {
       "grid_default": {},
       "report_default": {
        "hidden": true
       }
      }
     }
    }
   },
   "outputs": [],
   "source": [
    "# getting values of the concept name of the cohort"
   ]
  },
  {
   "cell_type": "code",
   "execution_count": 119,
   "id": "65fab994",
   "metadata": {
    "execution": {
     "iopub.execute_input": "2023-05-02T19:05:24.339141Z",
     "iopub.status.busy": "2023-05-02T19:05:24.338775Z",
     "iopub.status.idle": "2023-05-02T19:05:24.347330Z",
     "shell.execute_reply": "2023-05-02T19:05:24.345603Z"
    },
    "extensions": {
     "jupyter_dashboards": {
      "version": 1,
      "views": {
       "grid_default": {},
       "report_default": {
        "hidden": true
       }
      }
     }
    }
   },
   "outputs": [],
   "source": [
    "def conc():\n",
    "    output_count = widgets.Output()\n",
    "    concept_name = dropdown_concept_name.value\n",
    "    concept_name = list(concept_name)\n",
    "    concept_name.append('patient_id')\n",
    "\n",
    "    # Filter columns based on similarity to concept_name\n",
    "    similar_columns = [col for col in dataset.columns if col in concept_name]\n",
    "\n",
    "    # Create a new DataFrame with only the similar columns\n",
    "    final_patient_cohort_concept = dataset[similar_columns]\n",
    "    final_patient_cohort_concept = final_patient_cohort_concept.rename(columns={'patient_id': 'person_id'})\n",
    "    # Drop rows with missing values (NaN)\n",
    "    final_patient_cohort_concept = final_patient_cohort_concept.dropna()\n",
    "    for column in final_patient_cohort_concept.columns:\n",
    "        final_patient_cohort_concept[column] = final_patient_cohort_concept[column].fillna(final_patient_cohort_concept[column].mean())\n",
    "    \n",
    "        def patient_cohort_concept_():\n",
    "            out = widgets.Output()\n",
    "            with out:\n",
    "                display(final_patient_cohort_concept)\n",
    "            return out\n",
    "    return final_patient_cohort_concept"
   ]
  },
  {
   "cell_type": "code",
   "execution_count": 120,
   "id": "d0e74383",
   "metadata": {
    "execution": {
     "iopub.execute_input": "2023-05-02T19:05:24.351769Z",
     "iopub.status.busy": "2023-05-02T19:05:24.351333Z",
     "iopub.status.idle": "2023-05-02T19:05:24.356106Z",
     "shell.execute_reply": "2023-05-02T19:05:24.354959Z"
    },
    "extensions": {
     "jupyter_dashboards": {
      "version": 1,
      "views": {
       "grid_default": {},
       "report_default": {
        "hidden": true
       }
      }
     }
    }
   },
   "outputs": [],
   "source": [
    "## write a function to append each concepts and its values"
   ]
  },
  {
   "cell_type": "code",
   "execution_count": 121,
   "id": "4b7af133",
   "metadata": {
    "execution": {
     "iopub.execute_input": "2023-05-02T19:05:24.360671Z",
     "iopub.status.busy": "2023-05-02T19:05:24.360281Z",
     "iopub.status.idle": "2023-05-02T19:05:24.365073Z",
     "shell.execute_reply": "2023-05-02T19:05:24.363879Z"
    },
    "extensions": {
     "jupyter_dashboards": {
      "version": 1,
      "views": {
       "grid_default": {},
       "report_default": {
        "hidden": true
       }
      }
     }
    }
   },
   "outputs": [],
   "source": [
    "# get individual patient value"
   ]
  },
  {
   "cell_type": "code",
   "execution_count": 122,
   "id": "9ff4e5d0",
   "metadata": {
    "execution": {
     "iopub.execute_input": "2023-05-02T19:05:24.369583Z",
     "iopub.status.busy": "2023-05-02T19:05:24.369203Z",
     "iopub.status.idle": "2023-05-02T19:05:24.379953Z",
     "shell.execute_reply": "2023-05-02T19:05:24.378599Z"
    },
    "extensions": {
     "jupyter_dashboards": {
      "version": 1,
      "views": {
       "grid_default": {},
       "report_default": {
        "hidden": true
       }
      }
     }
    }
   },
   "outputs": [],
   "source": [
    "def con():\n",
    "    \n",
    "    output_count = widgets.Output()\n",
    "\n",
    "    concept_name = dropdown_concept_name.value\n",
    "    concept_name = list(concept_name)\n",
    "\n",
    "    # concept_name = ['creatinine', 'albumin']\n",
    "    values_map = {}\n",
    "\n",
    "    a = 0\n",
    "    final_patient_ind_value_numeric = pd.DataFrame(columns = ['person_id'])\n",
    "    final_patient_ind_value_numeric['person_id'] = final_patient_ind_value_numeric['person_id'].astype(int)\n",
    "\n",
    "    dfss = []\n",
    "\n",
    "    for i in concept_name:\n",
    "        values_map['concept_name'] = concept_name[a]\n",
    "        values_map['patient_id'] = patient_id \n",
    "        a = a+1\n",
    "\n",
    "        patient_value_numeric = (\"\"\" select o.person_id, o.value_numeric from obs as o where o.concept_id IN (SELECT concept_id FROM concept WHERE description = '{concept_name}') AND o.person_id = {patient_id}\"\"\")\n",
    "        patient_value_numeric = patient_value_numeric.format(**values_map)\n",
    "\n",
    "        patient_ind_value_numeric = pd.read_sql(patient_value_numeric, con = conn)\n",
    "\n",
    "        patient_ind_value_numeric.columns = [*patient_ind_value_numeric.columns[:-1], i]\n",
    "\n",
    "        name = \"patient_ind_value_numeric\" + i\n",
    "\n",
    "        locals()[name] = patient_ind_value_numeric.copy()\n",
    "\n",
    "        dfss.append(locals()[name])\n",
    "\n",
    "    ls = [df.set_index('person_id') for df in dfss]\n",
    "\n",
    "    # pd.DataFrame.join accepts a list of dataframes as 'other'\n",
    "    final_patient_ind_value_numeric = ls[0].append(ls[1:])\n",
    "    # final_patient_ind_value_numeric = ls[0].join(ls[1:], how = 'inner')\n",
    "    final_patient_ind_value_numeric = final_patient_ind_value_numeric.reset_index(drop = False)\n",
    "\n",
    "    for column in final_patient_ind_value_numeric.columns:\n",
    "        final_patient_ind_value_numeric[column] = final_patient_ind_value_numeric[column].fillna(final_patient_ind_value_numeric[column].mean())\n",
    "\n",
    "    return final_patient_ind_value_numeric"
   ]
  },
  {
   "cell_type": "code",
   "execution_count": 123,
   "id": "f06d8392",
   "metadata": {
    "execution": {
     "iopub.execute_input": "2023-05-02T19:05:24.384457Z",
     "iopub.status.busy": "2023-05-02T19:05:24.384109Z",
     "iopub.status.idle": "2023-05-02T19:05:24.389126Z",
     "shell.execute_reply": "2023-05-02T19:05:24.387775Z"
    },
    "extensions": {
     "jupyter_dashboards": {
      "version": 1,
      "views": {
       "grid_default": {},
       "report_default": {
        "hidden": true
       }
      }
     }
    }
   },
   "outputs": [],
   "source": [
    "# Plot for Normal Distribution"
   ]
  },
  {
   "cell_type": "code",
   "execution_count": 124,
   "id": "9362c39b",
   "metadata": {
    "execution": {
     "iopub.execute_input": "2023-05-02T19:05:24.393524Z",
     "iopub.status.busy": "2023-05-02T19:05:24.393174Z",
     "iopub.status.idle": "2023-05-02T19:05:24.403279Z",
     "shell.execute_reply": "2023-05-02T19:05:24.402014Z"
    },
    "extensions": {
     "jupyter_dashboards": {
      "version": 1,
      "views": {
       "grid_default": {},
       "report_default": {
        "hidden": true
       }
      }
     }
    }
   },
   "outputs": [],
   "source": [
    "def showplot():\n",
    "    final_patient_ind_value_numeric=con()\n",
    "    final_patient_cohort_concept=conc()\n",
    "    concept_name = dropdown_concept_name.value\n",
    "    plot_output = widgets.Output()\n",
    "    plot_output.clear_output()\n",
    "    concept_name = list(concept_name)\n",
    "    tab = widgets.Tab()\n",
    "    \n",
    "    out = []\n",
    "    with plot_output:\n",
    "        num_plots = len(concept_name)\n",
    "        fig, axs = plt.subplots(nrows=(num_plots+1)//2, ncols=min(num_plots, 2), figsize=(15, 5*(num_plots+1)//2))\n",
    "        axs = np.array(axs).flatten()\n",
    "        for i, column in enumerate(concept_name):\n",
    "            sns.kdeplot(data=final_patient_cohort_concept[column], color='crimson', label='cohort', fill=True, ax=axs[i])\n",
    "            sns.kdeplot(data=final_patient_ind_value_numeric[column], color='limegreen', label='patient', fill=True, ax=axs[i])\n",
    "            axs[i].legend(labels=['cohort', 'patient'])\n",
    "            axs[i].set_title(\"Normality Distribution\")\n",
    "            axs[i].set_xlabel(column)\n",
    "\n",
    "        for j in range(i+1, len(axs)):\n",
    "            axs[j].remove()\n",
    "        plt.tight_layout()\n",
    "        plt.show()\n",
    "            \n",
    "    display(plot_output)\n",
    "#showplot()"
   ]
  },
  {
   "cell_type": "code",
   "execution_count": 125,
   "id": "c351f058",
   "metadata": {
    "execution": {
     "iopub.execute_input": "2023-05-02T19:05:24.407698Z",
     "iopub.status.busy": "2023-05-02T19:05:24.407296Z",
     "iopub.status.idle": "2023-05-02T19:05:24.412337Z",
     "shell.execute_reply": "2023-05-02T19:05:24.411001Z"
    },
    "extensions": {
     "jupyter_dashboards": {
      "version": 1,
      "views": {
       "grid_default": {},
       "report_default": {
        "hidden": true
       }
      }
     }
    }
   },
   "outputs": [],
   "source": [
    "## checking mean of diagnosis for each patient"
   ]
  },
  {
   "cell_type": "code",
   "execution_count": 126,
   "id": "5766bb4a",
   "metadata": {
    "execution": {
     "iopub.execute_input": "2023-05-02T19:05:24.416678Z",
     "iopub.status.busy": "2023-05-02T19:05:24.416280Z",
     "iopub.status.idle": "2023-05-02T19:05:25.653730Z",
     "shell.execute_reply": "2023-05-02T19:05:25.652343Z"
    },
    "extensions": {
     "jupyter_dashboards": {
      "version": 1,
      "views": {
       "grid_default": {},
       "report_default": {
        "hidden": true
       }
      }
     }
    }
   },
   "outputs": [],
   "source": [
    "encounter_diagnosis = pd.read_sql('select patient_id, diagnosis_coded from encounter_diagnosis', con=conn)\n",
    "encounter_diagnosis_count = encounter_diagnosis.groupby(\"patient_id\")[\"diagnosis_coded\"].count()"
   ]
  },
  {
   "cell_type": "code",
   "execution_count": 127,
   "id": "08a2f3a6",
   "metadata": {
    "execution": {
     "iopub.execute_input": "2023-05-02T19:05:25.658787Z",
     "iopub.status.busy": "2023-05-02T19:05:25.658376Z",
     "iopub.status.idle": "2023-05-02T19:05:25.688922Z",
     "shell.execute_reply": "2023-05-02T19:05:25.687644Z"
    },
    "extensions": {
     "jupyter_dashboards": {
      "version": 1,
      "views": {
       "grid_default": {},
       "report_default": {
        "hidden": true
       }
      }
     }
    }
   },
   "outputs": [],
   "source": [
    "top_20_diag = pd.DataFrame(encounter_diagnosis['diagnosis_coded'].value_counts().sort_index(ascending=False).sort_values(ascending=False).head(25))\n",
    "top_20_diag = top_20_diag.reset_index()\n",
    "list_top_20_diag = list(top_20_diag['index'])\n",
    "#list_top_20_diag"
   ]
  },
  {
   "cell_type": "code",
   "execution_count": 128,
   "id": "59a7b3ac",
   "metadata": {
    "execution": {
     "iopub.execute_input": "2023-05-02T19:05:25.693218Z",
     "iopub.status.busy": "2023-05-02T19:05:25.692855Z",
     "iopub.status.idle": "2023-05-02T19:05:25.697932Z",
     "shell.execute_reply": "2023-05-02T19:05:25.696652Z"
    },
    "extensions": {
     "jupyter_dashboards": {
      "version": 1,
      "views": {
       "grid_default": {},
       "report_default": {
        "hidden": true
       }
      }
     }
    }
   },
   "outputs": [],
   "source": [
    "## Obtaining class labels ##"
   ]
  },
  {
   "cell_type": "code",
   "execution_count": 129,
   "id": "b4e64076",
   "metadata": {
    "execution": {
     "iopub.execute_input": "2023-05-02T19:05:25.702218Z",
     "iopub.status.busy": "2023-05-02T19:05:25.701857Z",
     "iopub.status.idle": "2023-05-02T19:05:25.709776Z",
     "shell.execute_reply": "2023-05-02T19:05:25.708456Z"
    },
    "extensions": {
     "jupyter_dashboards": {
      "version": 1,
      "views": {
       "grid_default": {},
       "report_default": {
        "hidden": true
       }
      }
     }
    }
   },
   "outputs": [],
   "source": [
    "class_labels = pd.read_sql(\"SELECT description from concept where concept_id IN (SELECT diagnosis_coded FROM(SELECT diagnosis_coded FROM encounter_diagnosis WHERE diagnosis_coded IN ('1385187','1385109','1384870','1384841','1384995','1397715','1384886','1474651','1385083','1385121'))as xyz)\", con=conn) \n",
    "#class_labels                      "
   ]
  },
  {
   "cell_type": "code",
   "execution_count": 130,
   "id": "2ddae7f4",
   "metadata": {
    "execution": {
     "iopub.execute_input": "2023-05-02T19:05:25.714176Z",
     "iopub.status.busy": "2023-05-02T19:05:25.713809Z",
     "iopub.status.idle": "2023-05-02T19:05:25.718914Z",
     "shell.execute_reply": "2023-05-02T19:05:25.717619Z"
    },
    "extensions": {
     "jupyter_dashboards": {
      "version": 1,
      "views": {
       "grid_default": {},
       "report_default": {
        "hidden": true
       }
      }
     }
    }
   },
   "outputs": [],
   "source": [
    "old_diagnosis_name = None\n",
    "#run this cell only when we restart the kernel"
   ]
  },
  {
   "cell_type": "code",
   "execution_count": 131,
   "id": "a49be27a",
   "metadata": {
    "execution": {
     "iopub.execute_input": "2023-05-02T19:05:25.723153Z",
     "iopub.status.busy": "2023-05-02T19:05:25.722788Z",
     "iopub.status.idle": "2023-05-02T19:05:25.727736Z",
     "shell.execute_reply": "2023-05-02T19:05:25.726433Z"
    },
    "extensions": {
     "jupyter_dashboards": {
      "version": 1,
      "views": {
       "grid_default": {},
       "report_default": {
        "hidden": true
       }
      }
     }
    }
   },
   "outputs": [],
   "source": [
    "#Dashboard Layout"
   ]
  },
  {
   "cell_type": "code",
   "execution_count": 132,
   "id": "9f5371d6",
   "metadata": {
    "execution": {
     "iopub.execute_input": "2023-05-02T19:05:25.732120Z",
     "iopub.status.busy": "2023-05-02T19:05:25.731742Z",
     "iopub.status.idle": "2023-05-02T19:05:25.767306Z",
     "shell.execute_reply": "2023-05-02T19:05:25.766038Z"
    },
    "extensions": {
     "jupyter_dashboards": {
      "version": 1,
      "views": {
       "grid_default": {},
       "report_default": {
        "hidden": false
       }
      }
     }
    }
   },
   "outputs": [
    {
     "data": {
      "text/html": [
       "<style>.my-button { color: white; }</style>"
      ],
      "text/plain": [
       "<IPython.core.display.HTML object>"
      ]
     },
     "metadata": {},
     "output_type": "display_data"
    },
    {
     "data": {
      "application/vnd.jupyter.widget-view+json": {
       "model_id": "c3c560d7e2e84ab383ad36ac7d962b1c",
       "version_major": 2,
       "version_minor": 0
      },
      "text/plain": [
       "Box(children=(Button(description='Step 1: Please select ONE or MULTIPLE Diagnosis', layout=Layout(width='1635p…"
      ]
     },
     "metadata": {},
     "output_type": "display_data"
    }
   ],
   "source": [
    "from IPython.display import display, HTML\n",
    "from ipywidgets import widgets, Layout\n",
    "\n",
    "BStep1 = widgets.Button(\n",
    "    description='Step 1: Please select ONE or MULTIPLE Diagnosis',\n",
    "    layout=Layout(width='1635px'),\n",
    "    style={'button_color': '#1ca999'},\n",
    "    tooltip='Step 1'\n",
    ")\n",
    "\n",
    "BStep2 = widgets.Button(\n",
    "    description='Step 2: Please select ONE or MULTIPLE Concept Names',\n",
    "    layout=Layout(width='1070px'),\n",
    "    style={'button_color': '#1ca999'},\n",
    "    tooltip='Step 2'\n",
    ")\n",
    "\n",
    "item_layout = widgets.Layout(\n",
    "    display='flex',\n",
    "    flex_flow='row',\n",
    "    align_items='stretch',\n",
    "    border='solid 1px #1ca999',\n",
    "    width='100%',\n",
    "    justify_content='space-between'\n",
    ")\n",
    "\n",
    "steps = widgets.Box([BStep1, BStep2], layout=item_layout)\n",
    "\n",
    "button_style = '<style>.my-button { color: white; }</style>'\n",
    "display(HTML(button_style))\n",
    "BStep1.add_class(\"my-button\")\n",
    "BStep2.add_class(\"my-button\")\n",
    "\n",
    "display(steps)\n"
   ]
  },
  {
   "cell_type": "code",
   "execution_count": 133,
   "id": "0a7ec1f0",
   "metadata": {
    "execution": {
     "iopub.execute_input": "2023-05-02T19:05:25.773950Z",
     "iopub.status.busy": "2023-05-02T19:05:25.773551Z",
     "iopub.status.idle": "2023-05-02T19:05:25.780189Z",
     "shell.execute_reply": "2023-05-02T19:05:25.778840Z"
    },
    "extensions": {
     "jupyter_dashboards": {
      "version": 1,
      "views": {
       "grid_default": {},
       "report_default": {
        "hidden": true
       }
      }
     }
    }
   },
   "outputs": [],
   "source": [
    "def buttons():\n",
    "    cdbutton=widgets.Button(description='Choose Diagnosis', layout=Layout(width='520px'), tooltip='Show Normal Distribution',text_color='white')\n",
    "    cnbutton=widgets.Button(description='Concept Name', layout=Layout(width='520px'), tooltip='Perform Corelation',text_color='white')\n",
    "    buttons=widgets.HBox([cdbutton,cnbutton])\n",
    "    display(buttons)"
   ]
  },
  {
   "cell_type": "code",
   "execution_count": 134,
   "id": "d7de5674",
   "metadata": {
    "execution": {
     "iopub.execute_input": "2023-05-02T19:05:25.784512Z",
     "iopub.status.busy": "2023-05-02T19:05:25.784162Z",
     "iopub.status.idle": "2023-05-02T19:05:25.799356Z",
     "shell.execute_reply": "2023-05-02T19:05:25.798069Z"
    },
    "extensions": {
     "jupyter_dashboards": {
      "version": 1,
      "views": {
       "grid_default": {},
       "report_default": {
        "hidden": false
       }
      }
     }
    },
    "scrolled": true
   },
   "outputs": [
    {
     "data": {
      "application/vnd.jupyter.widget-view+json": {
       "model_id": "d4b9cd3a0fb24f12980141386c0277c4",
       "version_major": 2,
       "version_minor": 0
      },
      "text/plain": [
       "HBox(children=(SelectMultiple(_dom_classes=('select-checkbox',), layout=Layout(width='60%'), options=('Acute k…"
      ]
     },
     "metadata": {},
     "output_type": "display_data"
    }
   ],
   "source": [
    "item_layout = widgets.Layout(display='flex',\n",
    "                    align_items='stretch',\n",
    "                    border='solid #1ca999 1px',\n",
    "                    padding='left',\n",
    "                    width='100%')\n",
    "input_widgets = widgets.HBox([dropdown_diagnames_pat_id, dropdown_concept_name], layout = item_layout)\n",
    "display(input_widgets)"
   ]
  },
  {
   "cell_type": "code",
   "execution_count": 135,
   "id": "e13a4661",
   "metadata": {
    "execution": {
     "iopub.execute_input": "2023-05-02T19:05:25.803685Z",
     "iopub.status.busy": "2023-05-02T19:05:25.803305Z",
     "iopub.status.idle": "2023-05-02T19:05:25.823429Z",
     "shell.execute_reply": "2023-05-02T19:05:25.822165Z"
    },
    "extensions": {
     "jupyter_dashboards": {
      "version": 1,
      "views": {
       "grid_default": {},
       "report_default": {
        "hidden": true
       }
      }
     }
    }
   },
   "outputs": [],
   "source": [
    "output_diag_name = widgets.Output()\n",
    "\n",
    "dropdown_diagnosis_name = widgets.Dropdown(options= class_labels['description'].unique(), style = style, description='Risk of diagnosis for the patient:',disabled=False, rows = 15, size = 10, layout=Layout(width = '450px'))\n",
    "\n",
    "def dropdown_diagnosis_name_eventhandler(change):\n",
    "#     output_diag_name.clear_output()\n",
    "#     with output_diag_name:\n",
    "#         display(class_labels[class_labels[\"description\"] == change.new])\n",
    "#         diagnosis_name = dropdown_diagnosis_name.value    \n",
    "#     dash()\n",
    "    output_diag_name.clear_output()\n",
    "    with output_diag_name:\n",
    "        display(class_labels[class_labels[\"description\"] == change.new])\n",
    "        diagnosis_name = dropdown_diagnosis_name.value  \n",
    "    button = widgets.Button(description=\"Show Detailed Results\")\n",
    "    button.on_click(show_tabs)\n",
    "    multiclass()\n",
    "        \n",
    "# dropdown_diagnosis_name.observe(dropdown_diagnosis_name_eventhandler, names='value')\n",
    "        \n",
    "dropdown_diagnosis_name.observe(dropdown_diagnosis_name_eventhandler, names='value')  "
   ]
  },
  {
   "cell_type": "code",
   "execution_count": 136,
   "id": "cd1561e3",
   "metadata": {
    "execution": {
     "iopub.execute_input": "2023-05-02T19:05:25.830153Z",
     "iopub.status.busy": "2023-05-02T19:05:25.829790Z",
     "iopub.status.idle": "2023-05-02T19:05:25.854826Z",
     "shell.execute_reply": "2023-05-02T19:05:25.853506Z"
    },
    "extensions": {
     "jupyter_dashboards": {
      "version": 1,
      "views": {
       "grid_default": {},
       "report_default": {
        "hidden": false
       }
      }
     }
    }
   },
   "outputs": [
    {
     "data": {
      "text/html": [
       "<style>.my-button { color: white; background-color: #1ca999; }</style>"
      ],
      "text/plain": [
       "<IPython.core.display.HTML object>"
      ]
     },
     "metadata": {},
     "output_type": "display_data"
    },
    {
     "data": {
      "application/vnd.jupyter.widget-view+json": {
       "model_id": "d4db7b0d41e0441293de77ed643851c1",
       "version_major": 2,
       "version_minor": 0
      },
      "text/plain": [
       "HBox(children=(Button(description='Step 3: Please select ONE risk of diagnosis for the patient', layout=Layout…"
      ]
     },
     "metadata": {},
     "output_type": "display_data"
    }
   ],
   "source": [
    "button_style = '<style>.my-button { color: white; background-color: #1ca999; }</style>'\n",
    "BStep3 = widgets.Button(description='Step 3: Please select ONE risk of diagnosis for the patient', \n",
    "                        layout=Layout(width='2000px'), \n",
    "                        style={'description_width': 'initial', 'button_width':'100%'}, \n",
    "                        tooltip='Step 2')\n",
    "display(HTML(button_style))\n",
    "BStep3.add_class(\"my-button\")\n",
    "item_layout = widgets.Layout(display='center',\n",
    "                    flex_flow='center',\n",
    "                    align_items='stretch',\n",
    "                    border='solid #1ca999 1px',\n",
    "                    width='100%')\n",
    "input_step3 = widgets.HBox([BStep3], layout=item_layout)\n",
    "display(input_step3)"
   ]
  },
  {
   "cell_type": "code",
   "execution_count": 137,
   "id": "b75cb095",
   "metadata": {
    "execution": {
     "iopub.execute_input": "2023-05-02T19:05:25.859252Z",
     "iopub.status.busy": "2023-05-02T19:05:25.858887Z",
     "iopub.status.idle": "2023-05-02T19:05:25.873166Z",
     "shell.execute_reply": "2023-05-02T19:05:25.871906Z"
    },
    "extensions": {
     "jupyter_dashboards": {
      "version": 1,
      "views": {
       "grid_default": {},
       "report_default": {
        "hidden": false
       }
      }
     }
    },
    "scrolled": true
   },
   "outputs": [
    {
     "data": {
      "application/vnd.jupyter.widget-view+json": {
       "model_id": "6945959d67bb425c9fd70cc4d9dd9dfe",
       "version_major": 2,
       "version_minor": 0
      },
      "text/plain": [
       "HBox(children=(Dropdown(description='Risk of diagnosis for the patient:', layout=Layout(width='450px'), option…"
      ]
     },
     "metadata": {},
     "output_type": "display_data"
    }
   ],
   "source": [
    "item_layout = widgets.Layout(display='flex',\n",
    "                    flex_flow='row',\n",
    "                    align_items='stretch',\n",
    "                    justify_content='center',\n",
    "                    border='solid #1ca999 1px',\n",
    "                    padding='1px',\n",
    "                    width='100%')\n",
    "\n",
    "input_widgets = widgets.HBox([dropdown_diagnosis_name], layout = item_layout)\n",
    "display(input_widgets)"
   ]
  },
  {
   "cell_type": "code",
   "execution_count": 138,
   "id": "ceaeaec0",
   "metadata": {
    "execution": {
     "iopub.execute_input": "2023-05-02T19:05:25.877878Z",
     "iopub.status.busy": "2023-05-02T19:05:25.877474Z",
     "iopub.status.idle": "2023-05-02T19:05:25.889663Z",
     "shell.execute_reply": "2023-05-02T19:05:25.888358Z"
    },
    "extensions": {
     "jupyter_dashboards": {
      "version": 1,
      "views": {
       "grid_default": {},
       "report_default": {
        "hidden": true
       }
      }
     }
    }
   },
   "outputs": [],
   "source": [
    "def risk():\n",
    "\n",
    "    BStep1 = widgets.Button(\n",
    "        description='Step 1: Please select ONE or MULTIPLE Diagnosis',\n",
    "        layout=Layout(width='1635px'),\n",
    "        style={'button_color': '#1ca999'},\n",
    "        tooltip='Step 1'\n",
    "    )\n",
    "\n",
    "    BStep2 = widgets.Button(\n",
    "        description='Step 2: Please select ONE or MULTIPLE Concept Names',\n",
    "        layout=Layout(width='1070px'),\n",
    "        style={'button_color': '#1ca999'},\n",
    "        tooltip='Step 2'\n",
    "    )\n",
    "\n",
    "    item_layout = widgets.Layout(\n",
    "        display='flex',\n",
    "        flex_flow='row',\n",
    "        align_items='stretch',\n",
    "        border='solid 1px #1ca999',\n",
    "        width='100%',\n",
    "        justify_content='space-between'\n",
    "    )\n",
    "\n",
    "    steps = widgets.Box([BStep1, BStep2], layout=item_layout)\n",
    "\n",
    "    button_style = '<style>.my-button { color: white; }</style>'\n",
    "    display(HTML(button_style))\n",
    "    BStep1.add_class(\"my-button\")\n",
    "    BStep2.add_class(\"my-button\")\n",
    "\n",
    "    display(steps)\n",
    "    item_layout = widgets.Layout(display='flex',\n",
    "                    align_items='stretch',\n",
    "                    border='solid #1ca999 1px',\n",
    "                    padding='left',\n",
    "                    width='100%')\n",
    "    input_widgets = widgets.HBox([dropdown_diagnames_pat_id, dropdown_concept_name], layout = item_layout)\n",
    "    display(input_widgets)\n",
    "    button_style = '<style>.my-button { color: white; background-color: #1ca999; }</style>'\n",
    "    BStep3 = widgets.Button(description='Step 3: Please select ONE risk of diagnosis for the patient', \n",
    "                            layout=Layout(width='2000px'), \n",
    "                            style={'description_width': 'initial', 'button_width':'100%'}, \n",
    "                            tooltip='Step 2')\n",
    "    display(HTML(button_style))\n",
    "    BStep3.add_class(\"my-button\")\n",
    "    item_layout = widgets.Layout(display='center',\n",
    "                        flex_flow='center',\n",
    "                        align_items='stretch',\n",
    "                        border='solid #1ca999 1px',\n",
    "                        width='100%')\n",
    "    input_step3 = widgets.HBox([BStep3], layout=item_layout)\n",
    "    display(input_step3)\n",
    "\n",
    "    item_layout = widgets.Layout(display='flex',\n",
    "                    flex_flow='row',\n",
    "                    align_items='stretch',\n",
    "                    justify_content='center',\n",
    "                    border='solid #1ca999 1px',\n",
    "                    padding='1px',\n",
    "                    width='100%')\n",
    "\n",
    "    input_widgets = widgets.HBox([dropdown_diagnosis_name], layout = item_layout)\n",
    "    display(input_widgets)"
   ]
  },
  {
   "cell_type": "code",
   "execution_count": 139,
   "id": "7122220a",
   "metadata": {
    "execution": {
     "iopub.execute_input": "2023-05-02T19:05:25.893963Z",
     "iopub.status.busy": "2023-05-02T19:05:25.893568Z",
     "iopub.status.idle": "2023-05-02T19:05:25.898462Z",
     "shell.execute_reply": "2023-05-02T19:05:25.897204Z"
    },
    "extensions": {
     "jupyter_dashboards": {
      "version": 1,
      "views": {
       "grid_default": {},
       "report_default": {
        "hidden": true
       }
      }
     }
    }
   },
   "outputs": [],
   "source": [
    "#Creating Tabs"
   ]
  },
  {
   "cell_type": "code",
   "execution_count": 140,
   "id": "b7e7001b",
   "metadata": {
    "execution": {
     "iopub.execute_input": "2023-05-02T19:05:25.902907Z",
     "iopub.status.busy": "2023-05-02T19:05:25.902498Z",
     "iopub.status.idle": "2023-05-02T19:05:25.911296Z",
     "shell.execute_reply": "2023-05-02T19:05:25.910009Z"
    },
    "extensions": {
     "jupyter_dashboards": {
      "version": 1,
      "views": {
       "grid_default": {},
       "report_default": {
        "hidden": true
       }
      }
     }
    }
   },
   "outputs": [],
   "source": [
    "import sys\n",
    "sys.setrecursionlimit(10000)  # set maximum recursion depth to 10000\n",
    "from IPython.display import clear_output\n",
    "\n",
    "def dash():\n",
    "    # create tabs\n",
    "    tab1 = widgets.Output()\n",
    "    tab2 = widgets.Output()\n",
    "    tab3 = widgets.Output()\n",
    "#     tab4 = widgets.Output()\n",
    "\n",
    "    tab = widgets.Tab(children=[tab1, tab2, tab3])\n",
    "    tab.set_title(0, 'Distribution Plot')\n",
    "    tab.set_title(1, 'Statistical Test')\n",
    "    tab.set_title(2, 'Correlation Test')\n",
    "#     tab.set_title(3, 'Association Test')\n",
    "    display(tab)\n",
    "\n",
    "    # clear the tabs before assigning new outputs\n",
    "    tab1.clear_output()\n",
    "    tab2.clear_output()\n",
    "    tab3.clear_output()\n",
    "#     tab4.clear_output()\n",
    "\n",
    "    # add the functions to the corresponding tabs\n",
    "    with tab1:\n",
    "        showplot()\n",
    "\n",
    "    with tab2:\n",
    "        diagnosis_name = dropdown_diagnosis_name.value\n",
    "        shapiro_output = check_normality(diagnosis_name)\n",
    "        display(shapiro_output)\n",
    "\n",
    "    with tab3:\n",
    "        diagnosis_name = dropdown_diagnosis_name.value\n",
    "        corr_output = on_corrButton_clicked(diagnosis_name)\n",
    "        display(corr_output)\n",
    "\n"
   ]
  },
  {
   "cell_type": "code",
   "execution_count": 141,
   "id": "d8966aba",
   "metadata": {
    "execution": {
     "iopub.execute_input": "2023-05-02T19:05:25.915619Z",
     "iopub.status.busy": "2023-05-02T19:05:25.915242Z",
     "iopub.status.idle": "2023-05-02T19:05:25.920560Z",
     "shell.execute_reply": "2023-05-02T19:05:25.919198Z"
    },
    "extensions": {
     "jupyter_dashboards": {
      "version": 1,
      "views": {
       "grid_default": {},
       "report_default": {
        "hidden": false
       }
      }
     }
    }
   },
   "outputs": [],
   "source": [
    "def show_tabs(button):\n",
    "    dash()"
   ]
  },
  {
   "cell_type": "code",
   "execution_count": 142,
   "id": "3c5ebe3a",
   "metadata": {
    "execution": {
     "iopub.execute_input": "2023-05-02T19:05:25.924962Z",
     "iopub.status.busy": "2023-05-02T19:05:25.924540Z",
     "iopub.status.idle": "2023-05-02T19:05:25.932859Z",
     "shell.execute_reply": "2023-05-02T19:05:25.931207Z"
    },
    "extensions": {
     "jupyter_dashboards": {
      "version": 1,
      "views": {
       "grid_default": {},
       "report_default": {
        "hidden": false
       }
      }
     }
    }
   },
   "outputs": [],
   "source": [
    "## Adding class labels to cohort dataframe\n",
    "#final_patient_cohort_concept[diagnosis_name] = ''\n",
    "\n",
    "def final_patient_cohort_concept_1(diagnosis_name):\n",
    "    diagnosis_name = [dropdown_diagnosis_name.value]  # Convert to a list\n",
    "    values_map3 = {'diagnosis_name': diagnosis_name}\n",
    "\n",
    "    selected_cols = dataset.loc[:, dataset.columns.isin(diagnosis_name)]\n",
    "    get_patient_id = dataset.loc[selected_cols.ne(0).any(axis=1), 'patient_id']\n",
    "\n",
    "    \n",
    "    diagnosis_name = dropdown_diagnosis_name.value\n",
    "    final_patient_cohort_concept=conc()\n",
    "\n",
    "    for i, row in final_patient_cohort_concept.iterrows():\n",
    "        if row['person_id'] in get_patient_id['patient_id'].tolist():\n",
    "\n",
    "            final_patient_cohort_concept.loc[i, [diagnosis_name]] = 1\n",
    "        else:\n",
    "            final_patient_cohort_concept.loc[i, [diagnosis_name]] = 0\n",
    "            \n",
    "    return final_patient_cohort_concept   "
   ]
  },
  {
   "cell_type": "code",
   "execution_count": 143,
   "id": "f0cea33f",
   "metadata": {
    "execution": {
     "iopub.execute_input": "2023-05-02T19:05:25.937456Z",
     "iopub.status.busy": "2023-05-02T19:05:25.937090Z",
     "iopub.status.idle": "2023-05-02T19:05:25.954581Z",
     "shell.execute_reply": "2023-05-02T19:05:25.953292Z"
    },
    "extensions": {
     "jupyter_dashboards": {
      "version": 1,
      "views": {
       "grid_default": {},
       "report_default": {
        "hidden": false
       }
      }
     }
    }
   },
   "outputs": [],
   "source": [
    "diagnosis_name = dropdown_diagnosis_name.value\n",
    "if old_diagnosis_name != diagnosis_name:\n",
    "    try:\n",
    "        final_patient_cohort_concept=final_patient_cohort_concept_1(diagnosis_name)\n",
    "        final_patient_cohort_concept.drop([old_diagnosis_name], axis =1, inplace=True)\n",
    "    except Exception as ex:\n",
    "        #print(ex)\n",
    "        pass\n",
    "    old_diagnosis_name = diagnosis_name"
   ]
  },
  {
   "cell_type": "code",
   "execution_count": 144,
   "id": "68030631",
   "metadata": {
    "execution": {
     "iopub.execute_input": "2023-05-02T19:05:27.964831Z",
     "iopub.status.busy": "2023-05-02T19:05:27.964402Z",
     "iopub.status.idle": "2023-05-02T19:05:27.970237Z",
     "shell.execute_reply": "2023-05-02T19:05:27.968926Z"
    },
    "extensions": {
     "jupyter_dashboards": {
      "version": 1,
      "views": {
       "grid_default": {},
       "report_default": {
        "hidden": true
       }
      }
     }
    }
   },
   "outputs": [],
   "source": [
    "#final_patient_cohort_concept_feat = final_patient_cohort_concept.drop(columns = ['person_id'])\n",
    "# final_patient_cohort_concept=final_patient_cohort_concept_1(diagnosis_name)\n",
    "# #final_patient_cohort_concept_feat"
   ]
  },
  {
   "cell_type": "code",
   "execution_count": 145,
   "id": "16a60681",
   "metadata": {
    "execution": {
     "iopub.execute_input": "2023-05-02T19:05:27.975043Z",
     "iopub.status.busy": "2023-05-02T19:05:27.974668Z",
     "iopub.status.idle": "2023-05-02T19:05:27.986774Z",
     "shell.execute_reply": "2023-05-02T19:05:27.985641Z"
    },
    "extensions": {
     "jupyter_dashboards": {
      "version": 1,
      "views": {
       "grid_default": {},
       "report_default": {
        "hidden": true
       }
      }
     }
    }
   },
   "outputs": [],
   "source": [
    "diagnosis_name = [dropdown_diagnosis_name.value]  # Convert to a list\n",
    "values_map3 = {'diagnosis_name': diagnosis_name}\n",
    "\n",
    "selected_cols = dataset.loc[:, dataset.columns.isin(diagnosis_name)]\n",
    "get_patient_id = dataset.loc[selected_cols.ne(0).any(axis=1), 'patient_id']\n",
    "\n",
    "# Create a DataFrame with column name 'patient_id'\n",
    "get_patient_id = pd.DataFrame({'patient_id': get_patient_id})\n",
    "# get_patient_id"
   ]
  },
  {
   "cell_type": "code",
   "execution_count": 146,
   "id": "6ca99e98",
   "metadata": {
    "execution": {
     "iopub.execute_input": "2023-05-02T19:05:27.991260Z",
     "iopub.status.busy": "2023-05-02T19:05:27.990871Z",
     "iopub.status.idle": "2023-05-02T19:05:27.996081Z",
     "shell.execute_reply": "2023-05-02T19:05:27.994763Z"
    },
    "extensions": {
     "jupyter_dashboards": {
      "version": 1,
      "views": {
       "grid_default": {},
       "report_default": {
        "hidden": true
       }
      }
     }
    }
   },
   "outputs": [],
   "source": [
    "## Correlation Test"
   ]
  },
  {
   "cell_type": "code",
   "execution_count": 147,
   "id": "36cf7fd5",
   "metadata": {
    "execution": {
     "iopub.execute_input": "2023-05-02T19:05:28.000710Z",
     "iopub.status.busy": "2023-05-02T19:05:28.000319Z",
     "iopub.status.idle": "2023-05-02T19:05:28.009351Z",
     "shell.execute_reply": "2023-05-02T19:05:28.008220Z"
    },
    "extensions": {
     "jupyter_dashboards": {
      "version": 1,
      "views": {
       "grid_default": {},
       "report_default": {
        "hidden": false
       }
      }
     }
    }
   },
   "outputs": [],
   "source": [
    "def on_corrButton_clicked(diagnosis_name):\n",
    "    diagnosis_name = dropdown_diagnosis_name.value\n",
    "    final_patient_cohort_concept=conc()\n",
    "    concept_name = dropdown_concept_name.value\n",
    "\n",
    "\n",
    "    \n",
    "    for i, row in final_patient_cohort_concept.iterrows():\n",
    "        if row['person_id'] in get_patient_id['patient_id'].tolist():\n",
    "      \n",
    "            final_patient_cohort_concept.loc[i, [diagnosis_name]] = 1\n",
    "        else:\n",
    "            final_patient_cohort_concept.loc[i, [diagnosis_name]] = 0\n",
    "    \n",
    "    final_patient_cohort_concept_feat = final_patient_cohort_concept.drop(columns = ['person_id'])\n",
    "    corr_output=widgets.Output()\n",
    "    \n",
    "    with corr_output:\n",
    "\n",
    "        plt.figure(figsize = (6,5))\n",
    "        corr = final_patient_cohort_concept_feat.corr(method='spearman')\n",
    "        ax = sns.heatmap(corr, annot=True, fmt ='.1g', vmin=-1, vmax=1, center= 0, cmap= 'coolwarm')   \n",
    "        \n",
    "        plt.show(ax)\n",
    "    display(corr_output)"
   ]
  },
  {
   "cell_type": "code",
   "execution_count": 148,
   "id": "72d9abb8",
   "metadata": {
    "execution": {
     "iopub.execute_input": "2023-05-02T19:05:28.014046Z",
     "iopub.status.busy": "2023-05-02T19:05:28.013669Z",
     "iopub.status.idle": "2023-05-02T19:05:28.018949Z",
     "shell.execute_reply": "2023-05-02T19:05:28.017555Z"
    },
    "extensions": {
     "jupyter_dashboards": {
      "version": 1,
      "views": {
       "grid_default": {},
       "report_default": {
        "hidden": true
       }
      }
     }
    }
   },
   "outputs": [],
   "source": [
    "#Association Test (Shapiro-Wilk Test Statistic(T test and Mann Whitney U test))"
   ]
  },
  {
   "cell_type": "code",
   "execution_count": 149,
   "id": "041684b8",
   "metadata": {
    "execution": {
     "iopub.execute_input": "2023-05-02T19:05:28.023912Z",
     "iopub.status.busy": "2023-05-02T19:05:28.023495Z",
     "iopub.status.idle": "2023-05-02T19:05:28.034340Z",
     "shell.execute_reply": "2023-05-02T19:05:28.033088Z"
    },
    "extensions": {
     "jupyter_dashboards": {
      "version": 1,
      "views": {
       "grid_default": {},
       "report_default": {
        "hidden": true
       }
      }
     }
    }
   },
   "outputs": [],
   "source": [
    "# Function to check normality and perform appropriate tests\n",
    "def check_normality(diagnosis_name):\n",
    "    # Perform Shapiro-Wilk test\n",
    "    final_patient_ind_value_numeric = con()\n",
    "    final_patient_cohort_concept = conc()\n",
    "    concept_name = dropdown_concept_name.value\n",
    "    \n",
    "    shapiro_output = widgets.Output()\n",
    "    with shapiro_output:\n",
    "        \n",
    "        table_data = []\n",
    "        for j in concept_name:\n",
    "            shapiro = stats.shapiro(final_patient_cohort_concept[j])\n",
    "            if shapiro.pvalue >= 0.05:\n",
    "                test_name = 'T Test'\n",
    "                test_result = stats.ttest_ind(final_patient_cohort_concept[j], final_patient_ind_value_numeric[j], equal_var=False)\n",
    "            else:\n",
    "                test_name = 'Mann-Whitney U test'\n",
    "                test_result = stats.mannwhitneyu(final_patient_cohort_concept[j], final_patient_ind_value_numeric[j], alternative='two-sided')\n",
    "            \n",
    "            table_data.append([j, test_name, test_result.statistic, test_result.pvalue])\n",
    "        \n",
    "        column_names = ['Concept', 'Test', 'Statistic', 'p-value']\n",
    "        df = pd.DataFrame(table_data, columns=column_names)\n",
    "        \n",
    "        # Create HTML table with borders and centered text\n",
    "        html_table = df.to_html(index=False)\n",
    "        html_table = html_table.replace('<table', '<table style=\"width:100%; table-layout:fixed; border-collapse: collapse;\"')\n",
    "        html_table = html_table.replace('<th>', '<th style=\"text-align:center; vertical-align:middle; border: 1px solid black;\">')\n",
    "        html_table = html_table.replace('<td>', '<td style=\"text-align:center; vertical-align:middle; border: 1px solid black;\">')\n",
    "        \n",
    "        # Add CSS styling to increase column width and align text\n",
    "        html_table = html_table.replace('<caption>', '<caption style=\"caption-side: top; text-align: center; font-weight: bold;\">')\n",
    "        \n",
    "        display(HTML(html_table))\n",
    "    \n",
    "    return shapiro_output\n"
   ]
  },
  {
   "cell_type": "code",
   "execution_count": 150,
   "id": "0c3e8daf",
   "metadata": {
    "execution": {
     "iopub.execute_input": "2023-05-02T19:05:28.038933Z",
     "iopub.status.busy": "2023-05-02T19:05:28.038542Z",
     "iopub.status.idle": "2023-05-02T19:05:29.242829Z",
     "shell.execute_reply": "2023-05-02T19:05:29.241395Z"
    },
    "extensions": {
     "jupyter_dashboards": {
      "version": 1,
      "views": {
       "grid_default": {},
       "report_default": {
        "hidden": true
       }
      }
     }
    }
   },
   "outputs": [],
   "source": [
    "dataset_feb04=pd.read_csv(\"merged_modified2.csv\")\n",
    "dataset_feb04=dataset_feb04.drop([\"Unnamed: 0\"],axis=1)\n",
    "dataset_feb04=dataset_feb04.drop_duplicates()\n",
    "dataset_feb04=dataset_feb04.reset_index()\n",
    "dataset_feb04=dataset_feb04.drop([\"index\"],axis=1)\n",
    "# # dataset_feb04"
   ]
  },
  {
   "cell_type": "code",
   "execution_count": 151,
   "id": "6453ab7f",
   "metadata": {
    "execution": {
     "iopub.execute_input": "2023-05-02T19:05:29.248213Z",
     "iopub.status.busy": "2023-05-02T19:05:29.247768Z",
     "iopub.status.idle": "2023-05-02T19:05:29.252741Z",
     "shell.execute_reply": "2023-05-02T19:05:29.251456Z"
    },
    "extensions": {
     "jupyter_dashboards": {
      "version": 1,
      "views": {
       "grid_default": {},
       "report_default": {
        "hidden": true
       }
      }
     }
    }
   },
   "outputs": [],
   "source": [
    "#Multiclassoutput"
   ]
  },
  {
   "cell_type": "code",
   "execution_count": 152,
   "id": "71693a77",
   "metadata": {
    "execution": {
     "iopub.execute_input": "2023-05-02T19:05:29.257403Z",
     "iopub.status.busy": "2023-05-02T19:05:29.257061Z",
     "iopub.status.idle": "2023-05-02T19:05:29.287632Z",
     "shell.execute_reply": "2023-05-02T19:05:29.286374Z"
    },
    "extensions": {
     "jupyter_dashboards": {
      "version": 1,
      "views": {
       "grid_default": {},
       "report_default": {
        "hidden": true
       }
      }
     }
    }
   },
   "outputs": [],
   "source": [
    "def multiclass():\n",
    "#     dropdown_concept_name = patient_attribute_df['name'].unique()\n",
    "#     concept_name = list(dropdown_concept_name)\n",
    "    output_count = widgets.Output()\n",
    "    concept_name = dropdown_concept_name.value\n",
    "    concept_name = list(concept_name)\n",
    "    data_dff = pd.DataFrame()\n",
    "\n",
    "    for i in range(len(concept_name)):\n",
    "        values_map = {'concept_name': concept_name[i], 'patient_id': patient_id}\n",
    "\n",
    "        patient_value_numeric = (\"\"\"SELECT o.concept_id, o.person_id, o.value_numeric FROM obs AS o WHERE o.concept_id IN (SELECT c.concept_id FROM concept AS c WHERE c.description = '{concept_name}') AND o.person_id = {patient_id}\"\"\")\n",
    "        patient_value_numeric = patient_value_numeric.format(**values_map)\n",
    "\n",
    "        patient_ind_value_numeric = pd.read_sql(patient_value_numeric, con=conn)\n",
    "\n",
    "        if not patient_ind_value_numeric.empty:\n",
    "            concept_id = patient_ind_value_numeric[\"concept_id\"].iloc[0]\n",
    "            patient_ind_value_numeric = patient_ind_value_numeric[\"value_numeric\"].mean()\n",
    "\n",
    "            dff = pd.DataFrame({concept_id: [patient_ind_value_numeric]})\n",
    "            data_dff = pd.concat([data_dff, dff], axis=1)\n",
    "\n",
    "\n",
    "    data_dff[\"patient_id\"] = patient_id\n",
    "    data_dff = data_dff.dropna(axis=1, how='all')\n",
    "    data_dff = data_dff.groupby(\"patient_id\").max()\n",
    "    data_dff['1_y'] = 0\n",
    "    data_dff['2'] = 0\n",
    "    data_dff['3_y'] = 0\n",
    "    data_dff['4_y'] = 0\n",
    "    data_dff['5'] = 0\n",
    "    data_dff['6_y'] = 0\n",
    "    data_dff['7'] = 0\n",
    "    data_dff['8_y'] = 0\n",
    "    data_dff['9'] = 0\n",
    "    data_dff['10_y'] = 0\n",
    "    data_dff=data_dff.reset_index()\n",
    "    data_dff\n",
    "#     display(data_dff)\n",
    "    \n",
    "    test_set=data_dff\n",
    "    test_set=test_set.replace(\"NaN\",np.nan)\n",
    "    test_set=test_set.dropna(axis=1, how='all')\n",
    "    test_set.columns=test_set.columns.astype(str)\n",
    "\n",
    "    list_columns = test_set.columns.tolist()\n",
    "    data1 = dataset_feb04[list_columns]\n",
    "    training_set = data1.query(\"patient_id != @patient_id\")\n",
    "    training_set=training_set.dropna(axis=0)\n",
    "    row_count = len(training_set)\n",
    "    style = {'description_width': 'unset','width': '1700px'}\n",
    "\n",
    "    st = time.time()\n",
    "\n",
    "    prediction_arr=[]\n",
    "    y_test_arr=[]    \n",
    "    n_columns=len(test_set.columns)\n",
    "    X_test=test_set.iloc[:,1:n_columns-10]\n",
    "    X_test = X_test.dropna(how='all', axis=1)\n",
    "    \n",
    "\n",
    "    n_col=len(X_test.columns)\n",
    "#     print(\"Number of features found for Patient\", n_col)\n",
    "    num_feat= widgets.Text(value = str(n_col), description= 'Number of features found for Patient:', style =style)\n",
    "#     display(num_feat)\n",
    "\n",
    "\n",
    "    n_columns=len(training_set.columns)\n",
    "    y_train=training_set.iloc[:,n_columns-10:n_columns]\n",
    "    y_train=y_train.replace({2:1,3:1,4:1,5:1,6:1,7:1,8:1,9:1,10:1},regex=True)\n",
    "\n",
    "    y_train=y_train.values\n",
    "\n",
    "\n",
    "    X_train=training_set.iloc[:,1:n_columns-10]\n",
    "    #display(X_train)\n",
    "#     print(\"Number of patients in Patient Cohort:\", X_train.shape[0])\n",
    "    num_cohort= widgets.Text(value = str(row_count), description= 'Number of patients in Patient Cohort:', style =style)\n",
    "#     display(num_cohort)\n",
    "    \n",
    "    if X_train.shape[0]>=1:\n",
    "        n_samples, n_features = X_train.shape # 10000,605\n",
    "        n_outputs = y_train.shape[1] # 10\n",
    "        n_classes = 11\n",
    "\n",
    "        TOTAL_TREES=int(n_col/3)\n",
    "        if TOTAL_TREES>64:\n",
    "            TOTAL_TREES=TOTAL_TREES\n",
    "        else:\n",
    "            TOTAL_TREES=64\n",
    "    else:\n",
    "          print(\"Number of patients found in the cohort for same concepts for this patient is less than 1, ignoring training model\")\n",
    "\n",
    "    \n",
    "    list_of_diagnosis=['Acute kidney failure, unspecified','Coronary atherosclerosis of native coronary artery','Urinary tract infection, site not specified',\n",
    "                      'Encounter for antineoplastic chemotherapy','Syncope and collapse','Other chest pain','Pneumonia, organism unspecified',\n",
    "                      'Chest pain, unspecified','Percutaneous transluminal coronary angioplasty [PTCA]','Other nonoperative respiratory measurements']\n",
    "    \n",
    "    for i in range(len(list_of_diagnosis)):\n",
    "        diagnosis_name = dropdown_diagnosis_name.value\n",
    "        selected_diagnosis_name=diagnosis_name\n",
    "        if selected_diagnosis_name==list_of_diagnosis[i]:\n",
    "            if i==0 or i==1 or i==2 or i==5:\n",
    "                model= widgets.Text(value = str('Random Forest Model'), description= 'Model Trained:', style =style)\n",
    "#                 display(model)\n",
    "                forest = RandomForestClassifier(n_estimators=TOTAL_TREES, random_state=1234, n_jobs=-1)\n",
    "                multi_target_forest = MultiOutputClassifier(forest, n_jobs=-1)\n",
    "                trained_model=multi_target_forest.fit(X_train, y_train)\n",
    "                prediction=trained_model.predict(X_test)\n",
    "                prediction_probability=trained_model.predict_proba(X_test)\n",
    "                break\n",
    "            else:\n",
    "                model= widgets.Text(value = str('Light GBM Model'), description= 'Model Trained:', style =style)\n",
    "#                 display(model)\n",
    "                forest = lgb.LGBMClassifier()\n",
    "                multi_target_forest = MultiOutputClassifier(forest, n_jobs=2)\n",
    "                prediction=multi_target_forest.fit(X_train, y_train).predict(X_test)\n",
    "                prediction_probability=multi_target_forest.predict_proba(X_test)\n",
    "                break\n",
    "\n",
    "\n",
    "#     print(diagnosis_name)\n",
    "    #print(prediction_probability)\n",
    "    probability_of_diagnosis=prediction_probability[i][0][1]*100 \n",
    "    probability_of_diagnosis=round(probability_of_diagnosis,3)\n",
    "    report= widgets.Text(value = str(probability_of_diagnosis)+\"%\", description= 'Probability of selected diagnosis:', style =style)\n",
    "    button_style = '<style>.my-button { color: white; background-color: #1ca999; }</style>'\n",
    "    stats_button = widgets.Button(description=\"Show Statistical Tests\")\n",
    "    display(HTML(button_style))\n",
    "    stats_button.add_class(\"my-button\")\n",
    "    \n",
    "    stats_button.on_click(show_tabs)\n",
    "\n",
    "    # create reset button\n",
    "    button_style = '<style>.my-button { color: white; background-color: #1ca999; }</style>'\n",
    "    reset_button = widgets.Button(description=\"Reset\")\n",
    "    display(HTML(button_style))\n",
    "    reset_button.add_class(\"my-button\")\n",
    "    \n",
    "    # Define a function to reset the output generated by the risk() function\n",
    "\n",
    "    from IPython.display import Javascript\n",
    "\n",
    "\n",
    "    def reset_output(button):\n",
    "        display(Javascript('''\n",
    "            var cells = Jupyter.notebook.get_cells();\n",
    "            for (var i = 0; i < cells.length; i++) {\n",
    "                cells[i].clear_output();\n",
    "            }\n",
    "        '''))\n",
    "        risk()\n",
    "\n",
    "\n",
    "    # Set the reset_output function to be called when the reset_button is clicked\n",
    "    reset_button.on_click(reset_output)\n",
    "\n",
    "\n",
    "    # Create the input widgets and button row\n",
    "    item_layout = widgets.Layout(display='flex',\n",
    "                                  align_items='stretch',\n",
    "                                  border='solid #1ca999 1px',\n",
    "                                  padding='left',\n",
    "                                  width='100%',\n",
    "                                  flex_flow='row wrap',\n",
    "                                  justify_content='center')\n",
    "\n",
    "    col1 = widgets.VBox([num_feat, model])\n",
    "    col2 = widgets.VBox([num_cohort, report])\n",
    "    input_widgets = widgets.HBox([col1, col2], layout=item_layout)\n",
    "    button_row = widgets.HBox([stats_button, reset_button], layout=item_layout)\n",
    "\n",
    "    # Create a VBox container to hold the input_widgets and button_row\n",
    "    all_widgets = widgets.VBox([input_widgets, button_row])\n",
    "\n",
    "    # Display the VBox container and the output widget\n",
    "    display(all_widgets)\n",
    "\n",
    "    \n",
    "    # display the widgets\n",
    "#     display(grid)\n",
    "    # get the end time\n",
    "    et = time.time()\n",
    "\n",
    "    # get the execution time\n",
    "    elapsed_time = et - st\n",
    "#     print('Execution time:', elapsed_time, 'seconds')\n",
    "#     return i,prediction_probability"
   ]
  },
  {
   "cell_type": "code",
   "execution_count": 153,
   "id": "4b6f748f",
   "metadata": {
    "execution": {
     "iopub.execute_input": "2023-05-02T19:05:29.292217Z",
     "iopub.status.busy": "2023-05-02T19:05:29.291837Z",
     "iopub.status.idle": "2023-05-02T19:05:29.296631Z",
     "shell.execute_reply": "2023-05-02T19:05:29.295375Z"
    },
    "extensions": {
     "jupyter_dashboards": {
      "version": 1,
      "views": {
       "grid_default": {},
       "report_default": {
        "hidden": true
       }
      }
     }
    }
   },
   "outputs": [],
   "source": [
    "# from IPython.core.display import display, HTML\n",
    "# display(HTML('''\n",
    "# <script>\n",
    "# $('option').mousedown(function(e) {\n",
    "#     e.preventDefault();\n",
    "#     $(this).prop('selected', !$(this).prop('selected'));\n",
    "#     return false;\n",
    "# });\n",
    "# </script>\n",
    "# '''))"
   ]
  }
 ],
 "metadata": {
  "extensions": {
   "jupyter_dashboards": {
    "activeView": "report_default",
    "version": 1,
    "views": {
     "grid_default": {
      "cellMargin": 10,
      "defaultCellHeight": 20,
      "maxColumns": 12,
      "name": "grid",
      "type": "grid"
     },
     "report_default": {
      "name": "report",
      "type": "report"
     }
    }
   }
  },
  "kernelspec": {
   "display_name": "Python 3 (ipykernel)",
   "language": "python",
   "name": "python3"
  },
  "language_info": {
   "codemirror_mode": {
    "name": "ipython",
    "version": 3
   },
   "file_extension": ".py",
   "mimetype": "text/x-python",
   "name": "python",
   "nbconvert_exporter": "python",
   "pygments_lexer": "ipython3",
   "version": "3.8.10"
  },
  "widgets": {
   "application/vnd.jupyter.widget-state+json": {
    "state": {
     "06ee616b0b2641cab36f3af6818d0986": {
      "model_module": "@jupyter-widgets/base",
      "model_module_version": "2.0.0",
      "model_name": "LayoutModel",
      "state": {
       "_model_module": "@jupyter-widgets/base",
       "_model_module_version": "2.0.0",
       "_model_name": "LayoutModel",
       "_view_count": null,
       "_view_module": "@jupyter-widgets/base",
       "_view_module_version": "2.0.0",
       "_view_name": "LayoutView",
       "align_content": null,
       "align_items": null,
       "align_self": null,
       "border_bottom": null,
       "border_left": null,
       "border_right": null,
       "border_top": null,
       "bottom": null,
       "display": null,
       "flex": null,
       "flex_flow": null,
       "grid_area": null,
       "grid_auto_columns": null,
       "grid_auto_flow": null,
       "grid_auto_rows": null,
       "grid_column": null,
       "grid_gap": null,
       "grid_row": null,
       "grid_template_areas": null,
       "grid_template_columns": null,
       "grid_template_rows": null,
       "height": null,
       "justify_content": null,
       "justify_items": null,
       "left": null,
       "margin": null,
       "max_height": null,
       "max_width": null,
       "min_height": null,
       "min_width": null,
       "object_fit": null,
       "object_position": null,
       "order": null,
       "overflow": null,
       "padding": null,
       "right": null,
       "top": null,
       "visibility": null,
       "width": null
      }
     },
     "06ff49e7998844ec8f4b387347c4eff4": {
      "model_module": "@jupyter-widgets/base",
      "model_module_version": "2.0.0",
      "model_name": "LayoutModel",
      "state": {
       "_model_module": "@jupyter-widgets/base",
       "_model_module_version": "2.0.0",
       "_model_name": "LayoutModel",
       "_view_count": null,
       "_view_module": "@jupyter-widgets/base",
       "_view_module_version": "2.0.0",
       "_view_name": "LayoutView",
       "align_content": null,
       "align_items": null,
       "align_self": null,
       "border_bottom": null,
       "border_left": null,
       "border_right": null,
       "border_top": null,
       "bottom": null,
       "display": null,
       "flex": null,
       "flex_flow": null,
       "grid_area": null,
       "grid_auto_columns": null,
       "grid_auto_flow": null,
       "grid_auto_rows": null,
       "grid_column": null,
       "grid_gap": null,
       "grid_row": null,
       "grid_template_areas": null,
       "grid_template_columns": null,
       "grid_template_rows": null,
       "height": null,
       "justify_content": null,
       "justify_items": null,
       "left": null,
       "margin": null,
       "max_height": null,
       "max_width": null,
       "min_height": null,
       "min_width": null,
       "object_fit": null,
       "object_position": null,
       "order": null,
       "overflow": null,
       "padding": null,
       "right": null,
       "top": null,
       "visibility": null,
       "width": "2000px"
      }
     },
     "0e80af6e30364e93ba143d1f5ebe4e59": {
      "model_module": "@jupyter-widgets/base",
      "model_module_version": "2.0.0",
      "model_name": "LayoutModel",
      "state": {
       "_model_module": "@jupyter-widgets/base",
       "_model_module_version": "2.0.0",
       "_model_name": "LayoutModel",
       "_view_count": null,
       "_view_module": "@jupyter-widgets/base",
       "_view_module_version": "2.0.0",
       "_view_name": "LayoutView",
       "align_content": null,
       "align_items": null,
       "align_self": null,
       "border_bottom": null,
       "border_left": null,
       "border_right": null,
       "border_top": null,
       "bottom": null,
       "display": null,
       "flex": null,
       "flex_flow": null,
       "grid_area": null,
       "grid_auto_columns": null,
       "grid_auto_flow": null,
       "grid_auto_rows": null,
       "grid_column": null,
       "grid_gap": null,
       "grid_row": null,
       "grid_template_areas": null,
       "grid_template_columns": null,
       "grid_template_rows": null,
       "height": null,
       "justify_content": null,
       "justify_items": null,
       "left": null,
       "margin": null,
       "max_height": null,
       "max_width": null,
       "min_height": null,
       "min_width": null,
       "object_fit": null,
       "object_position": null,
       "order": null,
       "overflow": null,
       "padding": null,
       "right": null,
       "top": null,
       "visibility": null,
       "width": "1070px"
      }
     },
     "14a8d0e4a8f94b1aa29eb912a4ec882f": {
      "model_module": "@jupyter-widgets/output",
      "model_module_version": "1.0.0",
      "model_name": "OutputModel",
      "state": {
       "_dom_classes": [],
       "_model_module": "@jupyter-widgets/output",
       "_model_module_version": "1.0.0",
       "_model_name": "OutputModel",
       "_view_count": null,
       "_view_module": "@jupyter-widgets/output",
       "_view_module_version": "1.0.0",
       "_view_name": "OutputView",
       "layout": "IPY_MODEL_06ee616b0b2641cab36f3af6818d0986",
       "msg_id": "",
       "outputs": [],
       "tabbable": null,
       "tooltip": null
      }
     },
     "18a38699a90246f89aed6bbc28aeed2d": {
      "model_module": "@jupyter-widgets/controls",
      "model_module_version": "2.0.0",
      "model_name": "HBoxModel",
      "state": {
       "_dom_classes": [],
       "_model_module": "@jupyter-widgets/controls",
       "_model_module_version": "2.0.0",
       "_model_name": "HBoxModel",
       "_view_count": null,
       "_view_module": "@jupyter-widgets/controls",
       "_view_module_version": "2.0.0",
       "_view_name": "HBoxView",
       "box_style": "",
       "children": [
        "IPY_MODEL_bac2a2053a294dada35a4417fc99bddd"
       ],
       "layout": "IPY_MODEL_e706240d2d2d49cba02394b499b0d46a",
       "tabbable": null,
       "tooltip": null
      }
     },
     "2b0257e2b8514ed883281a36eb6d17c5": {
      "model_module": "@jupyter-widgets/controls",
      "model_module_version": "2.0.0",
      "model_name": "ButtonStyleModel",
      "state": {
       "_model_module": "@jupyter-widgets/controls",
       "_model_module_version": "2.0.0",
       "_model_name": "ButtonStyleModel",
       "_view_count": null,
       "_view_module": "@jupyter-widgets/base",
       "_view_module_version": "2.0.0",
       "_view_name": "StyleView",
       "button_color": null,
       "font_family": null,
       "font_size": null,
       "font_style": null,
       "font_variant": null,
       "font_weight": null,
       "text_color": null,
       "text_decoration": null
      }
     },
     "3729b03cc8f3474cbc37d59e002f2e53": {
      "model_module": "@jupyter-widgets/controls",
      "model_module_version": "2.0.0",
      "model_name": "HBoxModel",
      "state": {
       "_dom_classes": [],
       "_model_module": "@jupyter-widgets/controls",
       "_model_module_version": "2.0.0",
       "_model_name": "HBoxModel",
       "_view_count": null,
       "_view_module": "@jupyter-widgets/controls",
       "_view_module_version": "2.0.0",
       "_view_name": "HBoxView",
       "box_style": "",
       "children": [
        "IPY_MODEL_4e100023dbbf4099a33ce4041745f29e"
       ],
       "layout": "IPY_MODEL_41a49d692da446b395ad1ef2301faa23",
       "tabbable": null,
       "tooltip": null
      }
     },
     "3b0fce8da68a409f95a25d5aec7a9369": {
      "model_module": "@jupyter-widgets/output",
      "model_module_version": "1.0.0",
      "model_name": "OutputModel",
      "state": {
       "_dom_classes": [],
       "_model_module": "@jupyter-widgets/output",
       "_model_module_version": "1.0.0",
       "_model_name": "OutputModel",
       "_view_count": null,
       "_view_module": "@jupyter-widgets/output",
       "_view_module_version": "1.0.0",
       "_view_name": "OutputView",
       "layout": "IPY_MODEL_714746c0b2934d7c9d7a4ddd44249638",
       "msg_id": "",
       "outputs": [],
       "tabbable": null,
       "tooltip": null
      }
     },
     "403daf7dfad94a41a6e8259672e36e8a": {
      "model_module": "@jupyter-widgets/base",
      "model_module_version": "2.0.0",
      "model_name": "LayoutModel",
      "state": {
       "_model_module": "@jupyter-widgets/base",
       "_model_module_version": "2.0.0",
       "_model_name": "LayoutModel",
       "_view_count": null,
       "_view_module": "@jupyter-widgets/base",
       "_view_module_version": "2.0.0",
       "_view_name": "LayoutView",
       "align_content": null,
       "align_items": null,
       "align_self": null,
       "border_bottom": null,
       "border_left": null,
       "border_right": null,
       "border_top": null,
       "bottom": null,
       "display": null,
       "flex": null,
       "flex_flow": null,
       "grid_area": null,
       "grid_auto_columns": null,
       "grid_auto_flow": null,
       "grid_auto_rows": null,
       "grid_column": null,
       "grid_gap": null,
       "grid_row": null,
       "grid_template_areas": null,
       "grid_template_columns": null,
       "grid_template_rows": null,
       "height": null,
       "justify_content": null,
       "justify_items": null,
       "left": null,
       "margin": null,
       "max_height": null,
       "max_width": null,
       "min_height": null,
       "min_width": null,
       "object_fit": null,
       "object_position": null,
       "order": null,
       "overflow": null,
       "padding": null,
       "right": null,
       "top": null,
       "visibility": null,
       "width": null
      }
     },
     "41a49d692da446b395ad1ef2301faa23": {
      "model_module": "@jupyter-widgets/base",
      "model_module_version": "2.0.0",
      "model_name": "LayoutModel",
      "state": {
       "_model_module": "@jupyter-widgets/base",
       "_model_module_version": "2.0.0",
       "_model_name": "LayoutModel",
       "_view_count": null,
       "_view_module": "@jupyter-widgets/base",
       "_view_module_version": "2.0.0",
       "_view_name": "LayoutView",
       "align_content": null,
       "align_items": "stretch",
       "align_self": null,
       "border_bottom": "solid #1ca999 1px",
       "border_left": "solid #1ca999 1px",
       "border_right": "solid #1ca999 1px",
       "border_top": "solid #1ca999 1px",
       "bottom": null,
       "display": "flex",
       "flex": null,
       "flex_flow": "row",
       "grid_area": null,
       "grid_auto_columns": null,
       "grid_auto_flow": null,
       "grid_auto_rows": null,
       "grid_column": null,
       "grid_gap": null,
       "grid_row": null,
       "grid_template_areas": null,
       "grid_template_columns": null,
       "grid_template_rows": null,
       "height": null,
       "justify_content": "center",
       "justify_items": null,
       "left": null,
       "margin": null,
       "max_height": null,
       "max_width": null,
       "min_height": null,
       "min_width": null,
       "object_fit": null,
       "object_position": null,
       "order": null,
       "overflow": null,
       "padding": "1px",
       "right": null,
       "top": null,
       "visibility": null,
       "width": "100%"
      }
     },
     "4bb0a8b44bb54a81b46a2ba72b2aa4d2": {
      "model_module": "@jupyter-widgets/base",
      "model_module_version": "2.0.0",
      "model_name": "LayoutModel",
      "state": {
       "_model_module": "@jupyter-widgets/base",
       "_model_module_version": "2.0.0",
       "_model_name": "LayoutModel",
       "_view_count": null,
       "_view_module": "@jupyter-widgets/base",
       "_view_module_version": "2.0.0",
       "_view_name": "LayoutView",
       "align_content": null,
       "align_items": null,
       "align_self": null,
       "border_bottom": null,
       "border_left": null,
       "border_right": null,
       "border_top": null,
       "bottom": null,
       "display": null,
       "flex": null,
       "flex_flow": null,
       "grid_area": null,
       "grid_auto_columns": null,
       "grid_auto_flow": null,
       "grid_auto_rows": null,
       "grid_column": null,
       "grid_gap": null,
       "grid_row": null,
       "grid_template_areas": null,
       "grid_template_columns": null,
       "grid_template_rows": null,
       "height": null,
       "justify_content": null,
       "justify_items": null,
       "left": null,
       "margin": null,
       "max_height": null,
       "max_width": null,
       "min_height": null,
       "min_width": null,
       "object_fit": null,
       "object_position": null,
       "order": null,
       "overflow": null,
       "padding": null,
       "right": null,
       "top": null,
       "visibility": null,
       "width": null
      }
     },
     "4c4bed40d9db41458545a3b4802decfc": {
      "model_module": "@jupyter-widgets/controls",
      "model_module_version": "2.0.0",
      "model_name": "DescriptionStyleModel",
      "state": {
       "_model_module": "@jupyter-widgets/controls",
       "_model_module_version": "2.0.0",
       "_model_name": "DescriptionStyleModel",
       "_view_count": null,
       "_view_module": "@jupyter-widgets/base",
       "_view_module_version": "2.0.0",
       "_view_name": "StyleView",
       "description_width": "initial"
      }
     },
     "4e100023dbbf4099a33ce4041745f29e": {
      "model_module": "@jupyter-widgets/controls",
      "model_module_version": "2.0.0",
      "model_name": "DropdownModel",
      "state": {
       "_dom_classes": [],
       "_model_module": "@jupyter-widgets/controls",
       "_model_module_version": "2.0.0",
       "_model_name": "DropdownModel",
       "_options_labels": [
        "Acute kidney failure, unspecified",
        "Coronary atherosclerosis of native coronary artery",
        "Urinary tract infection, site not specified",
        "Encounter for antineoplastic chemotherapy",
        "Syncope and collapse",
        "Other chest pain",
        "Pneumonia, organism unspecified",
        "Chest pain, unspecified",
        "Percutaneous transluminal coronary angioplasty [PTCA]",
        "Other nonoperative respiratory measurements"
       ],
       "_view_count": null,
       "_view_module": "@jupyter-widgets/controls",
       "_view_module_version": "2.0.0",
       "_view_name": "DropdownView",
       "description": "Risk of diagnosis for the patient:",
       "description_allow_html": false,
       "disabled": false,
       "index": 0,
       "layout": "IPY_MODEL_a47789e7f78c462fa02dbf5200bf9cd0",
       "style": "IPY_MODEL_937a3f7e89de4c76a8ccb0bef7048017",
       "tabbable": null,
       "tooltip": null
      }
     },
     "55dc60e9885e45cc8403dc47c0b1d41f": {
      "model_module": "@jupyter-widgets/controls",
      "model_module_version": "2.0.0",
      "model_name": "ButtonStyleModel",
      "state": {
       "_model_module": "@jupyter-widgets/controls",
       "_model_module_version": "2.0.0",
       "_model_name": "ButtonStyleModel",
       "_view_count": null,
       "_view_module": "@jupyter-widgets/base",
       "_view_module_version": "2.0.0",
       "_view_name": "StyleView",
       "button_color": "#1ca999",
       "font_family": null,
       "font_size": null,
       "font_style": null,
       "font_variant": null,
       "font_weight": null,
       "text_color": null,
       "text_decoration": null
      }
     },
     "5af149a17d4f405db0eec9a635996c2d": {
      "model_module": "@jupyter-widgets/controls",
      "model_module_version": "2.0.0",
      "model_name": "ButtonModel",
      "state": {
       "_dom_classes": [
        "my-button"
       ],
       "_model_module": "@jupyter-widgets/controls",
       "_model_module_version": "2.0.0",
       "_model_name": "ButtonModel",
       "_view_count": null,
       "_view_module": "@jupyter-widgets/controls",
       "_view_module_version": "2.0.0",
       "_view_name": "ButtonView",
       "button_style": "",
       "description": "Step 2: Please select ONE or MULTIPLE Concept Names",
       "disabled": false,
       "icon": "",
       "layout": "IPY_MODEL_0e80af6e30364e93ba143d1f5ebe4e59",
       "style": "IPY_MODEL_a0be5bcda6e34b949baae80a2a67191c",
       "tabbable": null,
       "tooltip": "Step 2"
      }
     },
     "5f6bce21987e486a85b86c58b8b50ed0": {
      "model_module": "@jupyter-widgets/base",
      "model_module_version": "2.0.0",
      "model_name": "LayoutModel",
      "state": {
       "_model_module": "@jupyter-widgets/base",
       "_model_module_version": "2.0.0",
       "_model_name": "LayoutModel",
       "_view_count": null,
       "_view_module": "@jupyter-widgets/base",
       "_view_module_version": "2.0.0",
       "_view_name": "LayoutView",
       "align_content": null,
       "align_items": "stretch",
       "align_self": null,
       "border_bottom": "solid 1px #1ca999",
       "border_left": "solid 1px #1ca999",
       "border_right": "solid 1px #1ca999",
       "border_top": "solid 1px #1ca999",
       "bottom": null,
       "display": "flex",
       "flex": null,
       "flex_flow": "row",
       "grid_area": null,
       "grid_auto_columns": null,
       "grid_auto_flow": null,
       "grid_auto_rows": null,
       "grid_column": null,
       "grid_gap": null,
       "grid_row": null,
       "grid_template_areas": null,
       "grid_template_columns": null,
       "grid_template_rows": null,
       "height": null,
       "justify_content": "space-between",
       "justify_items": null,
       "left": null,
       "margin": null,
       "max_height": null,
       "max_width": null,
       "min_height": null,
       "min_width": null,
       "object_fit": null,
       "object_position": null,
       "order": null,
       "overflow": null,
       "padding": null,
       "right": null,
       "top": null,
       "visibility": null,
       "width": "100%"
      }
     },
     "607096e6108a40d0afab85dcb6ca7962": {
      "model_module": "@jupyter-widgets/controls",
      "model_module_version": "2.0.0",
      "model_name": "SelectMultipleModel",
      "state": {
       "_dom_classes": [
        "select-checkbox"
       ],
       "_model_module": "@jupyter-widgets/controls",
       "_model_module_version": "2.0.0",
       "_model_name": "SelectMultipleModel",
       "_options_labels": [
        "Encounter for antineoplastic chemotherapy"
       ],
       "_view_count": null,
       "_view_module": "@jupyter-widgets/controls",
       "_view_module_version": "2.0.0",
       "_view_name": "SelectMultipleView",
       "description": "",
       "description_allow_html": false,
       "disabled": false,
       "index": [],
       "layout": "IPY_MODEL_8c98828a9f49468194d5c3fd8ad747f4",
       "rows": 7,
       "style": "IPY_MODEL_4c4bed40d9db41458545a3b4802decfc",
       "tabbable": null,
       "tooltip": null
      }
     },
     "60e4c044f4eb4bb98a701a3fc7871de9": {
      "model_module": "@jupyter-widgets/base",
      "model_module_version": "2.0.0",
      "model_name": "LayoutModel",
      "state": {
       "_model_module": "@jupyter-widgets/base",
       "_model_module_version": "2.0.0",
       "_model_name": "LayoutModel",
       "_view_count": null,
       "_view_module": "@jupyter-widgets/base",
       "_view_module_version": "2.0.0",
       "_view_name": "LayoutView",
       "align_content": null,
       "align_items": "stretch",
       "align_self": null,
       "border_bottom": "solid #1ca999 1px",
       "border_left": "solid #1ca999 1px",
       "border_right": "solid #1ca999 1px",
       "border_top": "solid #1ca999 1px",
       "bottom": null,
       "display": "flex",
       "flex": null,
       "flex_flow": null,
       "grid_area": null,
       "grid_auto_columns": null,
       "grid_auto_flow": null,
       "grid_auto_rows": null,
       "grid_column": null,
       "grid_gap": null,
       "grid_row": null,
       "grid_template_areas": null,
       "grid_template_columns": null,
       "grid_template_rows": null,
       "height": null,
       "justify_content": null,
       "justify_items": null,
       "left": null,
       "margin": null,
       "max_height": null,
       "max_width": null,
       "min_height": null,
       "min_width": null,
       "object_fit": null,
       "object_position": null,
       "order": null,
       "overflow": null,
       "padding": "left",
       "right": null,
       "top": null,
       "visibility": null,
       "width": "100%"
      }
     },
     "63a80d692c964bd2b0b1bda73f681ba4": {
      "model_module": "@jupyter-widgets/controls",
      "model_module_version": "2.0.0",
      "model_name": "SelectMultipleModel",
      "state": {
       "_dom_classes": [
        "select-checkbox"
       ],
       "_model_module": "@jupyter-widgets/controls",
       "_model_module_version": "2.0.0",
       "_model_name": "SelectMultipleModel",
       "_options_labels": [
        "immunoglobulin g",
        "carcinoembyronic antigen (cea)",
        "metamyelocytes",
        "total protein, csf",
        "urea nitrogen",
        "uric acid",
        "hpe1",
        "hpe2",
        "hpe3",
        "vitamin b12",
        "hpe5",
        "methotrexate",
        "hpe7",
        "arch-1",
        "lymphs",
        "fibrinogen, functional",
        "macrophage",
        "amylase",
        "24 hr creatinine",
        "absolute monocyte count",
        "pt",
        "absolute neutrophil count",
        "free kappa",
        "ptt",
        "protein, total",
        "free kappa/free lambda ratio",
        "rdw",
        "free lambda",
        "other",
        "red blood cells",
        "plasma",
        "globulin",
        "beta-2 microglobulin",
        "polys",
        "glucose",
        "bicarbonate",
        "promyelocytes",
        "bilirubin, total",
        "immature granulocytes",
        "rbc, csf",
        "total nucleated cells, csf",
        "inr(pt)",
        "c-reactive protein",
        "c3",
        "glucose, csf",
        "c4",
        "calcium, total",
        "atypical lymphocytes",
        "bands",
        "lactate dehydrogenase, csf",
        "specific gravity",
        "mchc",
        "immunoglobulin a",
        "protein/creatinine ratio"
       ],
       "_view_count": null,
       "_view_module": "@jupyter-widgets/controls",
       "_view_module_version": "2.0.0",
       "_view_name": "SelectMultipleView",
       "description": "",
       "description_allow_html": false,
       "disabled": false,
       "index": [],
       "layout": "IPY_MODEL_ff058ba92de446879a350f41c9252638",
       "rows": 7,
       "style": "IPY_MODEL_e5afb0a785924855a3d55b0d7487f91b",
       "tabbable": null,
       "tooltip": null
      }
     },
     "714746c0b2934d7c9d7a4ddd44249638": {
      "model_module": "@jupyter-widgets/base",
      "model_module_version": "2.0.0",
      "model_name": "LayoutModel",
      "state": {
       "_model_module": "@jupyter-widgets/base",
       "_model_module_version": "2.0.0",
       "_model_name": "LayoutModel",
       "_view_count": null,
       "_view_module": "@jupyter-widgets/base",
       "_view_module_version": "2.0.0",
       "_view_name": "LayoutView",
       "align_content": null,
       "align_items": null,
       "align_self": null,
       "border_bottom": null,
       "border_left": null,
       "border_right": null,
       "border_top": null,
       "bottom": null,
       "display": null,
       "flex": null,
       "flex_flow": null,
       "grid_area": null,
       "grid_auto_columns": null,
       "grid_auto_flow": null,
       "grid_auto_rows": null,
       "grid_column": null,
       "grid_gap": null,
       "grid_row": null,
       "grid_template_areas": null,
       "grid_template_columns": null,
       "grid_template_rows": null,
       "height": null,
       "justify_content": null,
       "justify_items": null,
       "left": null,
       "margin": null,
       "max_height": null,
       "max_width": null,
       "min_height": null,
       "min_width": null,
       "object_fit": null,
       "object_position": null,
       "order": null,
       "overflow": null,
       "padding": null,
       "right": null,
       "top": null,
       "visibility": null,
       "width": null
      }
     },
     "8c98828a9f49468194d5c3fd8ad747f4": {
      "model_module": "@jupyter-widgets/base",
      "model_module_version": "2.0.0",
      "model_name": "LayoutModel",
      "state": {
       "_model_module": "@jupyter-widgets/base",
       "_model_module_version": "2.0.0",
       "_model_name": "LayoutModel",
       "_view_count": null,
       "_view_module": "@jupyter-widgets/base",
       "_view_module_version": "2.0.0",
       "_view_name": "LayoutView",
       "align_content": null,
       "align_items": null,
       "align_self": null,
       "border_bottom": null,
       "border_left": null,
       "border_right": null,
       "border_top": null,
       "bottom": null,
       "display": null,
       "flex": null,
       "flex_flow": null,
       "grid_area": null,
       "grid_auto_columns": null,
       "grid_auto_flow": null,
       "grid_auto_rows": null,
       "grid_column": null,
       "grid_gap": null,
       "grid_row": null,
       "grid_template_areas": null,
       "grid_template_columns": null,
       "grid_template_rows": null,
       "height": null,
       "justify_content": null,
       "justify_items": null,
       "left": null,
       "margin": null,
       "max_height": null,
       "max_width": null,
       "min_height": null,
       "min_width": null,
       "object_fit": null,
       "object_position": null,
       "order": null,
       "overflow": null,
       "padding": null,
       "right": null,
       "top": null,
       "visibility": null,
       "width": "60%"
      }
     },
     "937a3f7e89de4c76a8ccb0bef7048017": {
      "model_module": "@jupyter-widgets/controls",
      "model_module_version": "2.0.0",
      "model_name": "DescriptionStyleModel",
      "state": {
       "_model_module": "@jupyter-widgets/controls",
       "_model_module_version": "2.0.0",
       "_model_name": "DescriptionStyleModel",
       "_view_count": null,
       "_view_module": "@jupyter-widgets/base",
       "_view_module_version": "2.0.0",
       "_view_name": "StyleView",
       "description_width": "initial"
      }
     },
     "a0be5bcda6e34b949baae80a2a67191c": {
      "model_module": "@jupyter-widgets/controls",
      "model_module_version": "2.0.0",
      "model_name": "ButtonStyleModel",
      "state": {
       "_model_module": "@jupyter-widgets/controls",
       "_model_module_version": "2.0.0",
       "_model_name": "ButtonStyleModel",
       "_view_count": null,
       "_view_module": "@jupyter-widgets/base",
       "_view_module_version": "2.0.0",
       "_view_name": "StyleView",
       "button_color": "#1ca999",
       "font_family": null,
       "font_size": null,
       "font_style": null,
       "font_variant": null,
       "font_weight": null,
       "text_color": null,
       "text_decoration": null
      }
     },
     "a47789e7f78c462fa02dbf5200bf9cd0": {
      "model_module": "@jupyter-widgets/base",
      "model_module_version": "2.0.0",
      "model_name": "LayoutModel",
      "state": {
       "_model_module": "@jupyter-widgets/base",
       "_model_module_version": "2.0.0",
       "_model_name": "LayoutModel",
       "_view_count": null,
       "_view_module": "@jupyter-widgets/base",
       "_view_module_version": "2.0.0",
       "_view_name": "LayoutView",
       "align_content": null,
       "align_items": null,
       "align_self": null,
       "border_bottom": null,
       "border_left": null,
       "border_right": null,
       "border_top": null,
       "bottom": null,
       "display": null,
       "flex": null,
       "flex_flow": null,
       "grid_area": null,
       "grid_auto_columns": null,
       "grid_auto_flow": null,
       "grid_auto_rows": null,
       "grid_column": null,
       "grid_gap": null,
       "grid_row": null,
       "grid_template_areas": null,
       "grid_template_columns": null,
       "grid_template_rows": null,
       "height": null,
       "justify_content": null,
       "justify_items": null,
       "left": null,
       "margin": null,
       "max_height": null,
       "max_width": null,
       "min_height": null,
       "min_width": null,
       "object_fit": null,
       "object_position": null,
       "order": null,
       "overflow": null,
       "padding": null,
       "right": null,
       "top": null,
       "visibility": null,
       "width": "450px"
      }
     },
     "aff3e271cd064e82b2e9ce9de9d17454": {
      "model_module": "@jupyter-widgets/controls",
      "model_module_version": "2.0.0",
      "model_name": "ButtonModel",
      "state": {
       "_dom_classes": [
        "my-button"
       ],
       "_model_module": "@jupyter-widgets/controls",
       "_model_module_version": "2.0.0",
       "_model_name": "ButtonModel",
       "_view_count": null,
       "_view_module": "@jupyter-widgets/controls",
       "_view_module_version": "2.0.0",
       "_view_name": "ButtonView",
       "button_style": "",
       "description": "Step 1: Please select ONE or MULTIPLE Diagnosis",
       "disabled": false,
       "icon": "",
       "layout": "IPY_MODEL_da67accef93f44c7bbb436245732cf82",
       "style": "IPY_MODEL_55dc60e9885e45cc8403dc47c0b1d41f",
       "tabbable": null,
       "tooltip": "Step 1"
      }
     },
     "ba80d954d23a4ee0922fc2fcd54aeba7": {
      "model_module": "@jupyter-widgets/controls",
      "model_module_version": "2.0.0",
      "model_name": "BoxModel",
      "state": {
       "_dom_classes": [],
       "_model_module": "@jupyter-widgets/controls",
       "_model_module_version": "2.0.0",
       "_model_name": "BoxModel",
       "_view_count": null,
       "_view_module": "@jupyter-widgets/controls",
       "_view_module_version": "2.0.0",
       "_view_name": "BoxView",
       "box_style": "",
       "children": [
        "IPY_MODEL_aff3e271cd064e82b2e9ce9de9d17454",
        "IPY_MODEL_5af149a17d4f405db0eec9a635996c2d"
       ],
       "layout": "IPY_MODEL_5f6bce21987e486a85b86c58b8b50ed0",
       "tabbable": null,
       "tooltip": null
      }
     },
     "bac2a2053a294dada35a4417fc99bddd": {
      "model_module": "@jupyter-widgets/controls",
      "model_module_version": "2.0.0",
      "model_name": "ButtonModel",
      "state": {
       "_dom_classes": [
        "my-button"
       ],
       "_model_module": "@jupyter-widgets/controls",
       "_model_module_version": "2.0.0",
       "_model_name": "ButtonModel",
       "_view_count": null,
       "_view_module": "@jupyter-widgets/controls",
       "_view_module_version": "2.0.0",
       "_view_name": "ButtonView",
       "button_style": "",
       "description": "Step 3: Please select ONE risk of diagnosis for the patient",
       "disabled": false,
       "icon": "",
       "layout": "IPY_MODEL_06ff49e7998844ec8f4b387347c4eff4",
       "style": "IPY_MODEL_2b0257e2b8514ed883281a36eb6d17c5",
       "tabbable": null,
       "tooltip": "Step 2"
      }
     },
     "c4e42c9153bd46329b2eb4a521f06c85": {
      "model_module": "@jupyter-widgets/output",
      "model_module_version": "1.0.0",
      "model_name": "OutputModel",
      "state": {
       "_dom_classes": [],
       "_model_module": "@jupyter-widgets/output",
       "_model_module_version": "1.0.0",
       "_model_name": "OutputModel",
       "_view_count": null,
       "_view_module": "@jupyter-widgets/output",
       "_view_module_version": "1.0.0",
       "_view_name": "OutputView",
       "layout": "IPY_MODEL_4bb0a8b44bb54a81b46a2ba72b2aa4d2",
       "msg_id": "",
       "outputs": [],
       "tabbable": null,
       "tooltip": null
      }
     },
     "c5ab4b3459a84ca9b94abcf4d40c17e6": {
      "model_module": "@jupyter-widgets/output",
      "model_module_version": "1.0.0",
      "model_name": "OutputModel",
      "state": {
       "_dom_classes": [],
       "_model_module": "@jupyter-widgets/output",
       "_model_module_version": "1.0.0",
       "_model_name": "OutputModel",
       "_view_count": null,
       "_view_module": "@jupyter-widgets/output",
       "_view_module_version": "1.0.0",
       "_view_name": "OutputView",
       "layout": "IPY_MODEL_403daf7dfad94a41a6e8259672e36e8a",
       "msg_id": "",
       "outputs": [],
       "tabbable": null,
       "tooltip": null
      }
     },
     "d67da7177d1947779938039b3a206297": {
      "model_module": "@jupyter-widgets/controls",
      "model_module_version": "2.0.0",
      "model_name": "HBoxModel",
      "state": {
       "_dom_classes": [],
       "_model_module": "@jupyter-widgets/controls",
       "_model_module_version": "2.0.0",
       "_model_name": "HBoxModel",
       "_view_count": null,
       "_view_module": "@jupyter-widgets/controls",
       "_view_module_version": "2.0.0",
       "_view_name": "HBoxView",
       "box_style": "",
       "children": [
        "IPY_MODEL_607096e6108a40d0afab85dcb6ca7962",
        "IPY_MODEL_63a80d692c964bd2b0b1bda73f681ba4"
       ],
       "layout": "IPY_MODEL_60e4c044f4eb4bb98a701a3fc7871de9",
       "tabbable": null,
       "tooltip": null
      }
     },
     "da67accef93f44c7bbb436245732cf82": {
      "model_module": "@jupyter-widgets/base",
      "model_module_version": "2.0.0",
      "model_name": "LayoutModel",
      "state": {
       "_model_module": "@jupyter-widgets/base",
       "_model_module_version": "2.0.0",
       "_model_name": "LayoutModel",
       "_view_count": null,
       "_view_module": "@jupyter-widgets/base",
       "_view_module_version": "2.0.0",
       "_view_name": "LayoutView",
       "align_content": null,
       "align_items": null,
       "align_self": null,
       "border_bottom": null,
       "border_left": null,
       "border_right": null,
       "border_top": null,
       "bottom": null,
       "display": null,
       "flex": null,
       "flex_flow": null,
       "grid_area": null,
       "grid_auto_columns": null,
       "grid_auto_flow": null,
       "grid_auto_rows": null,
       "grid_column": null,
       "grid_gap": null,
       "grid_row": null,
       "grid_template_areas": null,
       "grid_template_columns": null,
       "grid_template_rows": null,
       "height": null,
       "justify_content": null,
       "justify_items": null,
       "left": null,
       "margin": null,
       "max_height": null,
       "max_width": null,
       "min_height": null,
       "min_width": null,
       "object_fit": null,
       "object_position": null,
       "order": null,
       "overflow": null,
       "padding": null,
       "right": null,
       "top": null,
       "visibility": null,
       "width": "1635px"
      }
     },
     "e5afb0a785924855a3d55b0d7487f91b": {
      "model_module": "@jupyter-widgets/controls",
      "model_module_version": "2.0.0",
      "model_name": "DescriptionStyleModel",
      "state": {
       "_model_module": "@jupyter-widgets/controls",
       "_model_module_version": "2.0.0",
       "_model_name": "DescriptionStyleModel",
       "_view_count": null,
       "_view_module": "@jupyter-widgets/base",
       "_view_module_version": "2.0.0",
       "_view_name": "StyleView",
       "description_width": "initial"
      }
     },
     "e706240d2d2d49cba02394b499b0d46a": {
      "model_module": "@jupyter-widgets/base",
      "model_module_version": "2.0.0",
      "model_name": "LayoutModel",
      "state": {
       "_model_module": "@jupyter-widgets/base",
       "_model_module_version": "2.0.0",
       "_model_name": "LayoutModel",
       "_view_count": null,
       "_view_module": "@jupyter-widgets/base",
       "_view_module_version": "2.0.0",
       "_view_name": "LayoutView",
       "align_content": null,
       "align_items": "stretch",
       "align_self": null,
       "border_bottom": "solid #1ca999 1px",
       "border_left": "solid #1ca999 1px",
       "border_right": "solid #1ca999 1px",
       "border_top": "solid #1ca999 1px",
       "bottom": null,
       "display": "center",
       "flex": null,
       "flex_flow": "center",
       "grid_area": null,
       "grid_auto_columns": null,
       "grid_auto_flow": null,
       "grid_auto_rows": null,
       "grid_column": null,
       "grid_gap": null,
       "grid_row": null,
       "grid_template_areas": null,
       "grid_template_columns": null,
       "grid_template_rows": null,
       "height": null,
       "justify_content": null,
       "justify_items": null,
       "left": null,
       "margin": null,
       "max_height": null,
       "max_width": null,
       "min_height": null,
       "min_width": null,
       "object_fit": null,
       "object_position": null,
       "order": null,
       "overflow": null,
       "padding": null,
       "right": null,
       "top": null,
       "visibility": null,
       "width": "100%"
      }
     },
     "ff058ba92de446879a350f41c9252638": {
      "model_module": "@jupyter-widgets/base",
      "model_module_version": "2.0.0",
      "model_name": "LayoutModel",
      "state": {
       "_model_module": "@jupyter-widgets/base",
       "_model_module_version": "2.0.0",
       "_model_name": "LayoutModel",
       "_view_count": null,
       "_view_module": "@jupyter-widgets/base",
       "_view_module_version": "2.0.0",
       "_view_name": "LayoutView",
       "align_content": null,
       "align_items": null,
       "align_self": null,
       "border_bottom": null,
       "border_left": null,
       "border_right": null,
       "border_top": null,
       "bottom": null,
       "display": null,
       "flex": null,
       "flex_flow": null,
       "grid_area": null,
       "grid_auto_columns": null,
       "grid_auto_flow": null,
       "grid_auto_rows": null,
       "grid_column": null,
       "grid_gap": null,
       "grid_row": null,
       "grid_template_areas": null,
       "grid_template_columns": null,
       "grid_template_rows": null,
       "height": null,
       "justify_content": null,
       "justify_items": null,
       "left": null,
       "margin": null,
       "max_height": null,
       "max_width": null,
       "min_height": null,
       "min_width": null,
       "object_fit": null,
       "object_position": null,
       "order": null,
       "overflow": null,
       "padding": null,
       "right": null,
       "top": null,
       "visibility": null,
       "width": "40%"
      }
     }
    },
    "version_major": 2,
    "version_minor": 0
   }
  }
 },
 "nbformat": 4,
 "nbformat_minor": 5
}
