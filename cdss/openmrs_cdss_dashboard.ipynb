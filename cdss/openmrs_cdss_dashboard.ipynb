{
 "cells": [
  {
   "cell_type": "code",
   "execution_count": 423,
   "id": "bcf69aa2",
   "metadata": {
    "extensions": {
     "jupyter_dashboards": {
      "version": 1,
      "views": {
       "grid_default": {},
       "report_default": {
        "hidden": true
       }
      }
     }
    }
   },
   "outputs": [],
   "source": [
    "# Parameters:\n",
    "patientId = 10002013\n",
    "dashboard = 1\n"
   ]
  },
  {
   "cell_type": "code",
   "execution_count": 424,
   "id": "07dbea26",
   "metadata": {
    "extensions": {
     "jupyter_dashboards": {
      "version": 1,
      "views": {
       "grid_default": {},
       "report_default": {
        "hidden": true
       }
      }
     }
    }
   },
   "outputs": [
    {
     "data": {
      "application/javascript": [
       "IPython.OutputArea.prototype._should_scroll = function(lines) {\n",
       "    return false;\n",
       "}\n"
      ],
      "text/plain": [
       "<IPython.core.display.Javascript object>"
      ]
     },
     "metadata": {},
     "output_type": "display_data"
    }
   ],
   "source": [
    "%%javascript\n",
    "IPython.OutputArea.prototype._should_scroll = function(lines) {\n",
    "    return false;\n",
    "}"
   ]
  },
  {
   "cell_type": "code",
   "execution_count": 425,
   "id": "6223d8d1",
   "metadata": {
    "extensions": {
     "jupyter_dashboards": {
      "version": 1,
      "views": {
       "grid_default": {},
       "report_default": {
        "hidden": true
       }
      }
     }
    }
   },
   "outputs": [],
   "source": [
    "#Importing required modules"
   ]
  },
  {
   "cell_type": "code",
   "execution_count": 426,
   "id": "d066e92a",
   "metadata": {
    "extensions": {
     "jupyter_dashboards": {
      "version": 1,
      "views": {
       "grid_default": {},
       "report_default": {
        "hidden": true
       }
      }
     }
    }
   },
   "outputs": [],
   "source": [
    "# import sys\n",
    "# !{sys.executable} -m pip install --user seaborn\n",
    "# !{sys.executable} -m pip install --user ipywidgets\n",
    "# !{sys.executable} -m pip install --user pandas\n",
    "# !{sys.executable} -m pip install --user matplotlib\n",
    "# !{sys.executable} -m pip install --user scipy\n",
    "# !{sys.executable} -m pip install --user sklearn\n",
    "# !{sys.executable} -m pip install --user fastkml\n",
    "# !{sys.executable} -m pip install --user folium\n",
    "# !{sys.executable} -m pip install --user tabulate\n",
    "\n",
    "from IPython.display import display, clear_output\n",
    "from IPython.display import Markdown\n",
    "\n",
    "import IPython.display\n",
    "import pandas as pd\n",
    "import numpy as np\n",
    "import fastai\n",
    "from fastai.tabular.all import *\n",
    "\n",
    "import ipywidgets as widgets\n",
    "from ipywidgets import Button, Layout\n",
    "from __future__ import print_function\n",
    "from ipywidgets import interact, interactive, fixed, interact_manual\n",
    "from ipywidgets import Box\n",
    "\n",
    "\n",
    "import warnings\n",
    "warnings.filterwarnings('ignore')\n",
    "\n",
    "\n",
    "from os import listdir\n",
    "from os.path import isfile, join\n",
    "\n",
    "import matplotlib.pyplot as plt\n",
    "from pandas.plotting import table\n",
    "\n",
    "from scipy import stats\n",
    "from pingouin import ttest\n",
    "import seaborn as sns\n",
    "import zipfile\n",
    "from fastkml.kml import KML\n",
    "import folium\n",
    "import datetime\n",
    "from datetime import date\n",
    "import sklearn as sklearn\n",
    "import scikitplot as skplt\n",
    "\n",
    "from sklearn.model_selection import train_test_split\n",
    "from sklearn.preprocessing import RobustScaler,MinMaxScaler,StandardScaler\n",
    "\n",
    "from sklearn.ensemble import RandomForestClassifier\n",
    "from imblearn.over_sampling import SMOTE\n",
    "import lightgbm as lgb \n",
    "from sklearn.feature_selection import chi2\n",
    "from sklearn.metrics import accuracy_score\n",
    "from sklearn.metrics import confusion_matrix\n",
    "from sklearn.metrics import precision_score, recall_score\n",
    "from sklearn.metrics import f1_score\n",
    "from sklearn.metrics import classification_report\n",
    "from sklearn.model_selection import cross_val_score\n",
    "from sklearn.model_selection import GridSearchCV\n",
    "from sklearn.metrics import roc_curve, auc\n",
    "from sklearn.metrics import roc_auc_score\n",
    "from fastai.vision import *\n",
    "\n",
    "from collections import Counter\n",
    "from imblearn.over_sampling import SMOTE\n",
    "from imblearn.under_sampling import RandomUnderSampler\n",
    "from imblearn.pipeline import Pipeline\n",
    "\n",
    "import MySQLdb\n",
    "from pandas.io import sql \n",
    "\n",
    "from simple_colors import *"
   ]
  },
  {
   "cell_type": "code",
   "execution_count": 427,
   "id": "71b667e1",
   "metadata": {
    "extensions": {
     "jupyter_dashboards": {
      "version": 1,
      "views": {
       "grid_default": {},
       "report_default": {
        "hidden": true
       }
      }
     }
    }
   },
   "outputs": [],
   "source": [
    "# Setting up the database connection\n",
    "myvars = {}\n",
    "with open(\"openmrs-cdss-password.txt\") as myfile:\n",
    "    for line in myfile:\n",
    "        name, var = line.partition(\":\")[::2]\n",
    "        myvars[name.strip()] = var.strip()\n",
    "        \n",
    "conn = MySQLdb.connect(host=\"localhost\", user=myvars['DB username'], passwd=myvars['DB password'], db=myvars['DB databasename']) \n",
    "openmrscursor = conn.cursor()  "
   ]
  },
  {
   "cell_type": "code",
   "execution_count": 428,
   "id": "78d3436b",
   "metadata": {
    "extensions": {
     "jupyter_dashboards": {
      "version": 1,
      "views": {
       "grid_default": {},
       "report_default": {
        "hidden": true
       }
      }
     }
    }
   },
   "outputs": [],
   "source": [
    "## Patient Attributes\n",
    "## 12576264, 10152346\n",
    "patient_id = patientId\n",
    "values_mapx = {}\n",
    "values_mapx['patient_id'] = patient_id"
   ]
  },
  {
   "cell_type": "code",
   "execution_count": 429,
   "id": "4a7c1433",
   "metadata": {
    "extensions": {
     "jupyter_dashboards": {
      "version": 1,
      "views": {
       "grid_default": {},
       "report_default": {
        "hidden": true
       }
      }
     }
    }
   },
   "outputs": [
    {
     "data": {
      "text/html": [
       "\n",
       "<style>\n",
       ".select-checkbox option::before {\n",
       "  font-family: 'Material Symbols Outlined';\n",
       "  font-size: initial;\n",
       "  content: \"\\e835\";\n",
       "  width: 1.5em;\n",
       "  text-align: center;\n",
       "  vertical-align: bottom;\n",
       "  display: inline-block;\n",
       "}\n",
       "\n",
       ".select-checkbox option:checked::before {\n",
       "  content: \"\\e834\";\n",
       "}\n",
       "</style>\n",
       "\n",
       "<link href=\"https://fonts.googleapis.com/css2?family=Material+Symbols+Outlined\" rel=\"stylesheet\" />\n"
      ],
      "text/plain": [
       "<IPython.core.display.HTML object>"
      ]
     },
     "metadata": {},
     "output_type": "display_data"
    }
   ],
   "source": [
    "from IPython.core.display import display, HTML\n",
    "display(HTML('''\n",
    "<style>\n",
    ".select-checkbox option::before {\n",
    "  font-family: 'Material Symbols Outlined';\n",
    "  font-size: initial;\n",
    "  content: \"\\\\e835\";\n",
    "  width: 1.5em;\n",
    "  text-align: center;\n",
    "  vertical-align: bottom;\n",
    "  display: inline-block;\n",
    "}\n",
    "\n",
    ".select-checkbox option:checked::before {\n",
    "  content: \"\\\\e834\";\n",
    "}\n",
    "</style>\n",
    "\n",
    "<link href=\"https://fonts.googleapis.com/css2?family=Material+Symbols+Outlined\" rel=\"stylesheet\" />\n",
    "'''))"
   ]
  },
  {
   "cell_type": "code",
   "execution_count": 430,
   "id": "85e63c9d",
   "metadata": {
    "extensions": {
     "jupyter_dashboards": {
      "version": 1,
      "views": {
       "grid_default": {},
       "report_default": {
        "hidden": true
       }
      }
     }
    }
   },
   "outputs": [],
   "source": [
    "# creating cohort\n",
    "def on_1button_clicked(selected_diag):\n",
    "    #print(selected_diag)\n",
    "    diag_con = selected_diag\n",
    "    diag_con = list(filter(None,diag_con))\n",
    "    values_mapx['diag_con'] = diag_con\n",
    "    patient_cohort   = (\"\"\" select p.person_id from person p, mimic_openmrs_cdss cdss where p.person_id\n",
    "                            IN (select patient_id from encounter_diagnosis where diagnosis_coded \n",
    "                            IN (select concept_id from concept where description \n",
    "                            IN {diag_con}))\n",
    "                            AND cdss.person_id=p.person_id \n",
    "                            AND p.gender= (select p.gender from person where person_id = {patient_id}) \n",
    "                            AND age_group_code=(select age_group_code from mimic_openmrs_cdss where person_id = {patient_id})\"\"\")\n",
    "    patient_cohort = patient_cohort.format(**values_mapx).replace('[', '(').replace(']',')')\n",
    "    patient_cohort = pd.read_sql(patient_cohort, con=conn)\n",
    "    #print(str(patient_cohort.shape[0]) + \" Similar Patients For This Diagnosis\")\n",
    "    #display(\"Found \" + str(patient_cohort.shape[0]) + \" similar patients\")\n",
    "    #dropdown_diagconcept_eventhandler(on_1button_clicked)"
   ]
  },
  {
   "cell_type": "code",
   "execution_count": 431,
   "id": "83d75922",
   "metadata": {
    "extensions": {
     "jupyter_dashboards": {
      "version": 1,
      "views": {
       "grid_default": {},
       "report_default": {
        "hidden": true
       }
      }
     }
    }
   },
   "outputs": [],
   "source": [
    "# selecting the diagnosis\n",
    "style = {'description_width': 'initial'}\n",
    "diagnames_pat_id = \"SELECT description from concept where concept_id IN (SELECT * FROM(SELECT diagnosis_coded FROM encounter_diagnosis WHERE patient_id = {patient_id}) as xyz)\" \n",
    "diagnames_pat_id = diagnames_pat_id.format(**values_mapx)\n",
    "diagnames_pat_id = pd.read_sql(diagnames_pat_id, con=conn)\n",
    "diagnames_value = diagnames_pat_id['description']\n",
    "\n",
    "output_diagnames_pat_id = widgets.Output()\n",
    "dropdown_diagnames_pat_id = widgets.SelectMultiple(options= diagnames_pat_id['description'].unique(), style= style,disabled=False, rows = 7, size = 10, layout=Layout(width = '60%')).add_class('select-checkbox')\n",
    "\n",
    "def dropdown_diagconcept_eventhandler(change):\n",
    "    output_diagnames_pat_id.clear_output()\n",
    "    with output_diagnames_pat_id:\n",
    "        display(diagnames_pat_id[diagnames_pat_id['description'] == change.new])\n",
    "    on_1button_clicked(dropdown_diagnames_pat_id.value)\n",
    "     \n",
    "dropdown_diagnames_pat_id.observe(dropdown_diagconcept_eventhandler, names='value')"
   ]
  },
  {
   "cell_type": "code",
   "execution_count": 432,
   "id": "331d802e",
   "metadata": {
    "extensions": {
     "jupyter_dashboards": {
      "version": 1,
      "views": {
       "grid_default": {},
       "report_default": {
        "hidden": true
       }
      }
     }
    }
   },
   "outputs": [],
   "source": [
    "patient_attribute_df = pd.read_sql(\"\"\"select p.gender, m.age_group_code, c.concept_id, o.concept_id, cn.name,  c.description, \n",
    "                                e.diagnosis_coded from person as p LEFT JOIN mimic_openmrs_cdss as m ON p.person_id = m.person_id \n",
    "                                LEFT JOIN obs as o ON o.person_id = p.person_id  LEFT JOIN concept_name as cn ON cn.concept_id = o.concept_id \n",
    "                                LEFT JOIN encounter_diagnosis as e ON e.patient_id = p.person_id LEFT JOIN concept as c ON \n",
    "                                c.concept_id = e.diagnosis_coded WHERE  p.person_id = {}\"\"\".format(patient_id), con = conn)"
   ]
  },
  {
   "cell_type": "code",
   "execution_count": 433,
   "id": "111d8e2e",
   "metadata": {
    "extensions": {
     "jupyter_dashboards": {
      "version": 1,
      "views": {
       "grid_default": {},
       "report_default": {
        "hidden": true
       }
      }
     }
    }
   },
   "outputs": [],
   "source": [
    "def on_3button_clicked():\n",
    "    output_count = widgets.Output()\n",
    "    concept_name = dropdown_concept_name.value\n",
    "    concept_name = list(concept_name)\n",
    "\n",
    "    values_map = {}\n",
    "\n",
    "    a = 0\n",
    "    final_patient_ind_value_numeric = pd.DataFrame(columns = ['person_id'])\n",
    "    final_patient_ind_value_numeric['person_id'] = final_patient_ind_value_numeric['person_id'].astype(int)\n",
    "\n",
    "    dfss = []\n",
    "\n",
    "    for i in concept_name:\n",
    "        values_map['concept_name'] = concept_name[a]\n",
    "        values_map['patient_id'] = patient_id \n",
    "        a = a+1\n",
    "\n",
    "        patient_value_numeric = (\"\"\" select o.person_id, o.value_numeric from obs as o where o.concept_id IN (SELECT c.concept_id FROM concept as c WHERE c.description = '{concept_name}') AND o.person_id = {patient_id}\"\"\")\n",
    "        patient_value_numeric = patient_value_numeric.format(**values_map)\n",
    "\n",
    "        patient_ind_value_numeric = pd.read_sql(patient_value_numeric, con = conn)\n",
    "    \n",
    "        patient_ind_value_numeric.columns = [*patient_ind_value_numeric.columns[:-1], i]\n",
    "    \n",
    "        name = \"patient_ind_value_numeric\" + i\n",
    "     \n",
    "        locals()[name] = patient_ind_value_numeric.copy()\n",
    "\n",
    "        dfss.append(locals()[name])\n",
    "\n",
    "    ls = [df.set_index('person_id') for df in dfss]\n",
    "\n",
    "    # pd.DataFrame.join accepts a list of dataframes as 'other'\n",
    "    final_patient_ind_value_numeric = ls[0].append(ls[1:])\n",
    "    \n",
    "    # final_patient_ind_value_numeric = ls[0].join(ls[1:], how = 'inner')\n",
    "    final_patient_ind_value_numeric = final_patient_ind_value_numeric.reset_index(drop = False)\n",
    "\n",
    "    for column in final_patient_ind_value_numeric.columns:\n",
    "        final_patient_ind_value_numeric[column] = final_patient_ind_value_numeric[column].fillna(final_patient_ind_value_numeric[column].mean())\n",
    "    \n",
    "    final_patient_ind_value_numeric = widgets.Text(value = str(final_patient_ind_value_numeric.shape[0])  , description= \" Similar Patients For This Diagnosis\",style =style)\n",
    "\n",
    "    display(final_patient_ind_value_numeric)"
   ]
  },
  {
   "cell_type": "code",
   "execution_count": 434,
   "id": "8cd6fef9",
   "metadata": {
    "extensions": {
     "jupyter_dashboards": {
      "version": 1,
      "views": {
       "grid_default": {},
       "report_default": {
        "hidden": true
       }
      }
     }
    }
   },
   "outputs": [],
   "source": [
    "def patient_cohort_concept_():\n",
    "    output_count = widgets.Output()\n",
    "\n",
    "    concept_name = dropdown_concept_name.value\n",
    "    concept_name = list(concept_name)\n",
    "    concept_name\n",
    "\n",
    "    values_map = {}\n",
    "    a = 0\n",
    "    \n",
    "    # final_patient_cohort_concept = pd.DataFrame(columns = ['person_id'])\n",
    "    # final_patient_cohort_concept['person_id'] = final_patient_cohort_concept['person_id'].astype(int)\n",
    "\n",
    "    dfs = []\n",
    "\n",
    "    for i in concept_name:\n",
    "        values_map['concept_name'] = concept_name[a]\n",
    "        values_map['patient_id'] = patient_id \n",
    "        a = a+1\n",
    "    \n",
    "        sql_query = (\"\"\"select person_id, value_numeric from obs where person_id IN (select p.person_id from person p, \n",
    "                mimic_openmrs_cdss cdss where p.person_id IN (select patient_id from encounter_diagnosis where \n",
    "                diagnosis_coded IN (select c.concept_id from concept c where c.description LIKE \n",
    "                ('Pneumonia, unspecified organism')) AND cdss.person_id=p.person_id AND p.gender='M' \n",
    "                AND cdss.age_group_code=7)) AND concept_id = (select c.concept_id from concept c where c.description = '{concept_name}')\"\"\")\n",
    "\n",
    "        sql_query = sql_query.format(**values_map)\n",
    "\n",
    "        patient_cohort_concept = pd.read_sql(sql_query, con = conn)\n",
    "        patient_cohort_concept.columns = [*patient_cohort_concept.columns[:-1], i]\n",
    "    \n",
    "        name = \"patient_cohort_concept\" + i\n",
    "    \n",
    " \n",
    "        locals()[name] = patient_cohort_concept.copy()\n",
    "\n",
    "        dfs.append(locals()[name])\n",
    "    \n",
    "    \n",
    "   \n",
    "    #final_patient_cohort_concept.merge(patient_cohort_concept, on = 'person_id', how = 'outer')\n",
    "    #final_patient_cohort_concept = pd.merge(patient_cohort_concept, final_patient_cohort_concept, on='person_id', how='inner')\n",
    "    #l = [df.set_index('person_id') for df in dfs] \n",
    "\n",
    "    l = [df for df in dfs] \n",
    "\n",
    "    # pd.DataFrame.join accepts a list of dataframes as 'other' \n",
    "    final_patient_cohort_concept = l[0].append(l[1:])\n",
    "\n",
    "\n",
    "    #final_patient_cohort_concept = l[0].append(l[1:])\n",
    "    #final_patient_cohort_concept = final_patient_cohort_concept.reset_index(drop = False)\n",
    "    for column in final_patient_cohort_concept.columns:\n",
    "        final_patient_cohort_concept[column] = final_patient_cohort_concept[column].fillna(final_patient_cohort_concept[column].mean())\n",
    "\n",
    "        out = widgets.Output()\n",
    "        with out:\n",
    "            display(final_patient_cohort_concept)\n",
    "        return out\n",
    "\n",
    "    # Getting total count of the patient cohort as text widget\n",
    "    total_count_cohort = len(final_patient_cohort_concept)\n",
    "    text_patient_cohort_count = widgets.IntText(value = total_count_cohort , description= 'Total count:')\n",
    "    display(text_patient_cohort_count)"
   ]
  },
  {
   "cell_type": "code",
   "execution_count": 435,
   "id": "8256b8eb",
   "metadata": {
    "extensions": {
     "jupyter_dashboards": {
      "version": 1,
      "views": {
       "grid_default": {},
       "report_default": {
        "hidden": true
       }
      }
     }
    }
   },
   "outputs": [],
   "source": [
    "# getting the dropdown for concept_name"
   ]
  },
  {
   "cell_type": "code",
   "execution_count": 436,
   "id": "2f61ccd7",
   "metadata": {
    "extensions": {
     "jupyter_dashboards": {
      "version": 1,
      "views": {
       "grid_default": {},
       "report_default": {
        "hidden": true
       }
      }
     }
    }
   },
   "outputs": [],
   "source": [
    "output_concept_name = widgets.Output()\n",
    "#dropdown_concept_name = widgets.Dropdown(options = patient_attribute_df['description'].unique(), description = '<b>Concept Name:</b>')\n",
    "\n",
    "dropdown_concept_name = widgets.SelectMultiple(options= patient_attribute_df['name'].unique(), style =style,disabled=False, rows = 7, size = 10,layout=Layout(width = '40%')).add_class('select-checkbox')\n",
    "\n",
    "\n",
    "def dropdown_concept_name_eventhandler(change):\n",
    "    output_concept_name.clear_output()\n",
    "    with output_concept_name:\n",
    "        display(patient_attribute_df[patient_attribute_df[\"name\"] == change.new])\n",
    "    patient_cohort_concept_()\n",
    "    on_3button_clicked(dropdown_concept_name.value)\n",
    "    \n",
    "def dropdown_concept_name_eventhandler1(change):\n",
    "    output_concept_name.clear_output()\n",
    "    with output_concept_name:\n",
    "        display(patient_attribute_df[patient_attribute_df[\"name\"] == change.new])\n",
    "\n",
    "    \n",
    "dropdown_concept_name.observe(dropdown_concept_name_eventhandler1, names='value')"
   ]
  },
  {
   "cell_type": "code",
   "execution_count": 437,
   "id": "150b6141",
   "metadata": {
    "extensions": {
     "jupyter_dashboards": {
      "version": 1,
      "views": {
       "grid_default": {},
       "report_default": {
        "hidden": true
       }
      }
     }
    }
   },
   "outputs": [],
   "source": [
    "# getting values of the concept name of the cohort"
   ]
  },
  {
   "cell_type": "code",
   "execution_count": 438,
   "id": "c8eb8816",
   "metadata": {
    "extensions": {
     "jupyter_dashboards": {
      "version": 1,
      "views": {
       "grid_default": {},
       "report_default": {
        "hidden": true
       }
      }
     }
    }
   },
   "outputs": [],
   "source": [
    "def conc():\n",
    "    output_count = widgets.Output()\n",
    "    concept_name = dropdown_concept_name.value\n",
    "    concept_name = list(concept_name)\n",
    "    concept_name\n",
    "\n",
    "    # concept_name = ['creatinine', 'albumin']\n",
    "    values_map = {}\n",
    "    a = 0\n",
    "    # final_patient_cohort_concept = pd.DataFrame(columns = ['person_id'])\n",
    "    # final_patient_cohort_concept['person_id'] = final_patient_cohort_concept['person_id'].astype(int)\n",
    "\n",
    "    dfs = []\n",
    "\n",
    "    for i in concept_name:\n",
    "        values_map['concept_name'] = concept_name[a]\n",
    "        values_map['patient_id'] = patient_id \n",
    "        a = a+1\n",
    "    \n",
    "        sql_query = (\"\"\"select person_id, value_numeric from obs where person_id IN (select p.person_id from person p, \n",
    "                mimic_openmrs_cdss cdss where p.person_id IN (select patient_id from encounter_diagnosis where \n",
    "                diagnosis_coded IN (select c.concept_id from concept c where c.description LIKE \n",
    "                ('Pneumonia, unspecified organism')) AND cdss.person_id=p.person_id AND p.gender='M' \n",
    "                AND cdss.age_group_code=7)) AND concept_id = (select c.concept_id from concept c where c.description = '{concept_name}')\"\"\")\n",
    "\n",
    "        sql_query = sql_query.format(**values_map)\n",
    "\n",
    "        patient_cohort_concept = pd.read_sql(sql_query, con = conn)\n",
    "        patient_cohort_concept.columns = [*patient_cohort_concept.columns[:-1], i]\n",
    "    \n",
    "        name = \"patient_cohort_concept\" + i\n",
    "    \n",
    "        locals()[name] = patient_cohort_concept.copy()\n",
    "\n",
    "        dfs.append(locals()[name])\n",
    "    \n",
    "    \n",
    "   \n",
    "    #     final_patient_cohort_concept.merge(patient_cohort_concept, on = 'person_id', how = 'outer')\n",
    "\n",
    "    #    final_patient_cohort_concept = pd.merge(patient_cohort_concept, final_patient_cohort_concept, on='person_id', how='inner')\n",
    "\n",
    "    #  l = [df.set_index('person_id') for df in dfs] \n",
    "\n",
    "    l = [df for df in dfs] \n",
    "\n",
    "    # pd.DataFrame.join accepts a list of dataframes as 'other' \n",
    "    final_patient_cohort_concept = l[0].append(l[1:])\n",
    "\n",
    "\n",
    "    # final_patient_cohort_concept = l[0].append(l[1:])\n",
    "\n",
    "    # final_patient_cohort_concept = final_patient_cohort_concept.reset_index(drop = False)\n",
    "\n",
    "    for column in final_patient_cohort_concept.columns:\n",
    "        final_patient_cohort_concept[column] = final_patient_cohort_concept[column].fillna(final_patient_cohort_concept[column].mean())\n",
    "\n",
    "    def patient_cohort_concept_():\n",
    "        out = widgets.Output()\n",
    "        with out:\n",
    "            display(final_patient_cohort_concept)\n",
    "        return out\n",
    "    return final_patient_cohort_concept"
   ]
  },
  {
   "cell_type": "code",
   "execution_count": 439,
   "id": "d0e74383",
   "metadata": {
    "extensions": {
     "jupyter_dashboards": {
      "version": 1,
      "views": {
       "grid_default": {},
       "report_default": {
        "hidden": true
       }
      }
     }
    }
   },
   "outputs": [],
   "source": [
    "## write a function to append each concepts and its values"
   ]
  },
  {
   "cell_type": "code",
   "execution_count": 440,
   "id": "4b7af133",
   "metadata": {
    "extensions": {
     "jupyter_dashboards": {
      "version": 1,
      "views": {
       "grid_default": {},
       "report_default": {
        "hidden": true
       }
      }
     }
    }
   },
   "outputs": [],
   "source": [
    "# get individual patient value"
   ]
  },
  {
   "cell_type": "code",
   "execution_count": 441,
   "id": "9ff4e5d0",
   "metadata": {
    "extensions": {
     "jupyter_dashboards": {
      "version": 1,
      "views": {
       "grid_default": {},
       "report_default": {
        "hidden": true
       }
      }
     }
    }
   },
   "outputs": [],
   "source": [
    "def con():\n",
    "    \n",
    "    output_count = widgets.Output()\n",
    "\n",
    "    concept_name = dropdown_concept_name.value\n",
    "    concept_name = list(concept_name)\n",
    "\n",
    "    # concept_name = ['creatinine', 'albumin']\n",
    "    values_map = {}\n",
    "\n",
    "    a = 0\n",
    "    final_patient_ind_value_numeric = pd.DataFrame(columns = ['person_id'])\n",
    "    final_patient_ind_value_numeric['person_id'] = final_patient_ind_value_numeric['person_id'].astype(int)\n",
    "\n",
    "    dfss = []\n",
    "\n",
    "    for i in concept_name:\n",
    "        values_map['concept_name'] = concept_name[a]\n",
    "        values_map['patient_id'] = patient_id \n",
    "        a = a+1\n",
    "\n",
    "        patient_value_numeric = (\"\"\" select o.person_id, o.value_numeric from obs as o where o.concept_id IN (SELECT concept_id FROM concept WHERE description = '{concept_name}') AND o.person_id = {patient_id}\"\"\")\n",
    "        patient_value_numeric = patient_value_numeric.format(**values_map)\n",
    "\n",
    "        patient_ind_value_numeric = pd.read_sql(patient_value_numeric, con = conn)\n",
    "\n",
    "        patient_ind_value_numeric.columns = [*patient_ind_value_numeric.columns[:-1], i]\n",
    "\n",
    "        name = \"patient_ind_value_numeric\" + i\n",
    "\n",
    "        locals()[name] = patient_ind_value_numeric.copy()\n",
    "\n",
    "        dfss.append(locals()[name])\n",
    "\n",
    "    ls = [df.set_index('person_id') for df in dfss]\n",
    "\n",
    "    # pd.DataFrame.join accepts a list of dataframes as 'other'\n",
    "    final_patient_ind_value_numeric = ls[0].append(ls[1:])\n",
    "    # final_patient_ind_value_numeric = ls[0].join(ls[1:], how = 'inner')\n",
    "    final_patient_ind_value_numeric = final_patient_ind_value_numeric.reset_index(drop = False)\n",
    "\n",
    "    for column in final_patient_ind_value_numeric.columns:\n",
    "        final_patient_ind_value_numeric[column] = final_patient_ind_value_numeric[column].fillna(final_patient_ind_value_numeric[column].mean())\n",
    "\n",
    "    return final_patient_ind_value_numeric"
   ]
  },
  {
   "cell_type": "code",
   "execution_count": 442,
   "id": "f06d8392",
   "metadata": {
    "extensions": {
     "jupyter_dashboards": {
      "version": 1,
      "views": {
       "grid_default": {},
       "report_default": {
        "hidden": true
       }
      }
     }
    }
   },
   "outputs": [],
   "source": [
    "# Plot for distribution"
   ]
  },
  {
   "cell_type": "code",
   "execution_count": 443,
   "id": "9362c39b",
   "metadata": {
    "extensions": {
     "jupyter_dashboards": {
      "version": 1,
      "views": {
       "grid_default": {},
       "report_default": {
        "hidden": true
       }
      }
     }
    }
   },
   "outputs": [],
   "source": [
    "def showplot():\n",
    "    final_patient_ind_value_numeric=con()\n",
    "    final_patient_cohort_concept=conc()\n",
    "    concept_name = dropdown_concept_name.value\n",
    "    plot_output = widgets.Output()\n",
    "    plot_output.clear_output()\n",
    "    concept_name = list(concept_name)\n",
    "    tab = widgets.Tab()\n",
    "    out = []\n",
    "    with plot_output:\n",
    "        for column in concept_name:\n",
    "            fig, ax = plt.subplots(figsize=(6, 4))\n",
    "            sns.kdeplot(data=final_patient_cohort_concept[column],\n",
    "                color='crimson', label='cohort', fill=True, ax=ax)\n",
    "            sns.kdeplot(data=final_patient_ind_value_numeric[column],\n",
    "                color='limegreen', label='patient', fill=True, ax=ax)\n",
    "            ax.legend()\n",
    "            plt.title(\"Normality Distribution\")\n",
    "            plt.tight_layout()\n",
    "            plt.show()\n",
    "            \n",
    "    display(plot_output) "
   ]
  },
  {
   "cell_type": "code",
   "execution_count": 444,
   "id": "84037cab",
   "metadata": {
    "extensions": {
     "jupyter_dashboards": {
      "version": 1,
      "views": {
       "grid_default": {},
       "report_default": {
        "hidden": true
       }
      }
     }
    }
   },
   "outputs": [],
   "source": [
    "# Statistical test & Shapiro-Wilk Test Statistic"
   ]
  },
  {
   "cell_type": "code",
   "execution_count": 445,
   "id": "9ea54069",
   "metadata": {
    "extensions": {
     "jupyter_dashboards": {
      "version": 1,
      "views": {
       "grid_default": {},
       "report_default": {
        "hidden": true
       }
      }
     }
    }
   },
   "outputs": [],
   "source": [
    "def shapiro_test():\n",
    "    final_patient_ind_value_numeric=con()\n",
    "    final_patient_cohort_concept=conc()\n",
    "    concept_name = dropdown_concept_name.value\n",
    "    shapiro_output = widgets.Output()\n",
    "    shapiro_output.clear_output()\n",
    "    #with shapiro_output:\n",
    "    cohort = final_patient_cohort_concept\n",
    "    patient = final_patient_ind_value_numeric\n",
    "    rowLabels = concept_name #substitue with concept name\n",
    "    colLabels = ['Shapiro-Wilk Test Statistic', 'p-value']\n",
    "    rowLabels_ttest = concept_name\n",
    "    colLabels_ttest = ['T-statistic', 'p-value']\n",
    "\n",
    "    plt.figure()\n",
    "\n",
    "    cell_text = []\n",
    "    results_ttest =[]\n",
    "    for j in concept_name:\n",
    "        shapiro = stats.shapiro(cohort[j])\n",
    "        cell_text.append(shapiro)\n",
    "        if shapiro[1] < 0.05:\n",
    "            mann_u = stats.mannwhitneyu(cohort[j], patient[j], alternative='two-sided')\n",
    "            results_ttest.append(mann_u)\n",
    "        else:\n",
    "            t_test = stats.ttest_ind((cohort.loc[:,j]), (patient.loc[:,j]), equal_var = False)\n",
    "            results_ttest.append(t_test)\n",
    "        #print(cohort.loc[:,j])\n",
    "            \n",
    "\n",
    "    fig, ax = plt.subplots(2,1, figsize=(14, 22))\n",
    "    #fig.subplots_adjust(hspace=0.1) # adjust the vertical space between subplots\n",
    "    fig.subplots_adjust(wspace=0, hspace=0.5) # adjust the spacing between subplots\n",
    "    a = ax[0].table(rowLabels=rowLabels, colLabels=colLabels, cellText=cell_text, cellLoc= 'center', loc='center')\n",
    "    a.set_fontsize(12)\n",
    "    a.scale(1, 2)\n",
    "    ax[0].axis('off')\n",
    "\n",
    "    b = ax[1].table(rowLabels=rowLabels_ttest, colLabels=colLabels_ttest, cellText=results_ttest, cellLoc= 'center', loc='center')\n",
    "    b.set_fontsize(12)\n",
    "    b.scale(1, 2)\n",
    "    ax[1].axis('off')\n",
    "\n",
    "    ax[0].set_title('Shapiro Wilk Test')\n",
    "    ax[1].set_title('Statistical Test')\n",
    "\n",
    "    with shapiro_output:\n",
    "        plt.show()\n",
    "        \n",
    "    display(shapiro_output)  "
   ]
  },
  {
   "cell_type": "code",
   "execution_count": 446,
   "id": "c351f058",
   "metadata": {
    "extensions": {
     "jupyter_dashboards": {
      "version": 1,
      "views": {
       "grid_default": {},
       "report_default": {
        "hidden": true
       }
      }
     }
    }
   },
   "outputs": [],
   "source": [
    "## checking mean of diagnosis for each patient"
   ]
  },
  {
   "cell_type": "code",
   "execution_count": 447,
   "id": "5766bb4a",
   "metadata": {
    "extensions": {
     "jupyter_dashboards": {
      "version": 1,
      "views": {
       "grid_default": {},
       "report_default": {
        "hidden": true
       }
      }
     }
    }
   },
   "outputs": [],
   "source": [
    "encounter_diagnosis = pd.read_sql('select patient_id, diagnosis_coded from encounter_diagnosis', con=conn)\n",
    "encounter_diagnosis_count = encounter_diagnosis.groupby(\"patient_id\")[\"diagnosis_coded\"].count()"
   ]
  },
  {
   "cell_type": "code",
   "execution_count": 448,
   "id": "08a2f3a6",
   "metadata": {
    "extensions": {
     "jupyter_dashboards": {
      "version": 1,
      "views": {
       "grid_default": {},
       "report_default": {
        "hidden": true
       }
      }
     }
    }
   },
   "outputs": [],
   "source": [
    "top_20_diag = pd.DataFrame(encounter_diagnosis['diagnosis_coded'].value_counts().sort_index(ascending=False).sort_values(ascending=False).head(25))\n",
    "top_20_diag = top_20_diag.reset_index()\n",
    "list_top_20_diag = list(top_20_diag['index'])\n",
    "#list_top_20_diag"
   ]
  },
  {
   "cell_type": "code",
   "execution_count": 449,
   "id": "59a7b3ac",
   "metadata": {
    "extensions": {
     "jupyter_dashboards": {
      "version": 1,
      "views": {
       "grid_default": {},
       "report_default": {
        "hidden": true
       }
      }
     }
    }
   },
   "outputs": [],
   "source": [
    "## Obtaining class labels ##"
   ]
  },
  {
   "cell_type": "code",
   "execution_count": 450,
   "id": "b4e64076",
   "metadata": {
    "extensions": {
     "jupyter_dashboards": {
      "version": 1,
      "views": {
       "grid_default": {},
       "report_default": {
        "hidden": true
       }
      }
     }
    }
   },
   "outputs": [],
   "source": [
    "class_labels = pd.read_sql(\"SELECT description from concept where concept_id IN (SELECT diagnosis_coded FROM(SELECT diagnosis_coded FROM encounter_diagnosis WHERE diagnosis_coded IN ('1385187','1385109','1384870','1384841','1384995','1397715','1384886','1474651','1385083','1385121'))as xyz)\", con=conn) \n",
    "#class_labels                      "
   ]
  },
  {
   "cell_type": "code",
   "execution_count": 451,
   "id": "2ddae7f4",
   "metadata": {
    "extensions": {
     "jupyter_dashboards": {
      "version": 1,
      "views": {
       "grid_default": {},
       "report_default": {
        "hidden": true
       }
      }
     }
    }
   },
   "outputs": [],
   "source": [
    "old_diagnosis_name = None\n",
    "#run this cell only when we restart the kernel"
   ]
  },
  {
   "cell_type": "code",
   "execution_count": 452,
   "id": "a49be27a",
   "metadata": {
    "extensions": {
     "jupyter_dashboards": {
      "version": 1,
      "views": {
       "grid_default": {},
       "report_default": {
        "hidden": true
       }
      }
     }
    }
   },
   "outputs": [],
   "source": [
    "#Dashboard Layout"
   ]
  },
  {
   "cell_type": "code",
   "execution_count": 453,
   "id": "9f5371d6",
   "metadata": {
    "extensions": {
     "jupyter_dashboards": {
      "version": 1,
      "views": {
       "grid_default": {},
       "report_default": {
        "hidden": false
       }
      }
     }
    }
   },
   "outputs": [
    {
     "data": {
      "text/html": [
       "<style>.my-button { color: white; }</style>"
      ],
      "text/plain": [
       "<IPython.core.display.HTML object>"
      ]
     },
     "metadata": {},
     "output_type": "display_data"
    },
    {
     "data": {
      "application/vnd.jupyter.widget-view+json": {
       "model_id": "95010ad6f1ab499691f7718b74e355c8",
       "version_major": 2,
       "version_minor": 0
      },
      "text/plain": [
       "Box(children=(Button(description='Step 1: This Dropdown asks you for the input: Please select ONE or MULTIPLE …"
      ]
     },
     "metadata": {},
     "output_type": "display_data"
    }
   ],
   "source": [
    "from IPython.display import display, HTML\n",
    "from ipywidgets import widgets, Layout\n",
    "\n",
    "BStep1 = widgets.Button(\n",
    "    description='Step 1: This Dropdown asks you for the input: Please select ONE or MULTIPLE Diagnosis',\n",
    "    layout=Layout(width='1635px'),\n",
    "    style={'button_color': '#1ca999'},\n",
    "    tooltip='Step 1'\n",
    ")\n",
    "\n",
    "BStep2 = widgets.Button(\n",
    "    description='Step 2: Please select ONE or MULTIPLE Concept Names',\n",
    "    layout=Layout(width='1070px'),\n",
    "    style={'button_color': '#1ca999'},\n",
    "    tooltip='Step 2'\n",
    ")\n",
    "\n",
    "item_layout = widgets.Layout(\n",
    "    display='flex',\n",
    "    flex_flow='row',\n",
    "    align_items='stretch',\n",
    "    border='solid 1px #1ca999',\n",
    "    width='97%',\n",
    "    justify_content='space-between'\n",
    ")\n",
    "\n",
    "steps = widgets.Box([BStep1, BStep2], layout=item_layout)\n",
    "\n",
    "button_style = '<style>.my-button { color: white; }</style>'\n",
    "display(HTML(button_style))\n",
    "BStep1.add_class(\"my-button\")\n",
    "BStep2.add_class(\"my-button\")\n",
    "\n",
    "display(steps)\n"
   ]
  },
  {
   "cell_type": "code",
   "execution_count": 454,
   "id": "0a7ec1f0",
   "metadata": {
    "extensions": {
     "jupyter_dashboards": {
      "version": 1,
      "views": {
       "grid_default": {},
       "report_default": {
        "hidden": true
       }
      }
     }
    }
   },
   "outputs": [],
   "source": [
    "def buttons():\n",
    "    cdbutton=widgets.Button(description='Choose Diagnosis', layout=Layout(width='520px'), tooltip='Show Normal Distribution',text_color='white')\n",
    "    cnbutton=widgets.Button(description='Concept Name', layout=Layout(width='520px'), tooltip='Perform Corelation',text_color='white')\n",
    "    buttons=widgets.HBox([cdbutton,cnbutton])\n",
    "    display(buttons)"
   ]
  },
  {
   "cell_type": "code",
   "execution_count": 455,
   "id": "d7de5674",
   "metadata": {
    "extensions": {
     "jupyter_dashboards": {
      "version": 1,
      "views": {
       "grid_default": {},
       "report_default": {
        "hidden": false
       }
      }
     }
    },
    "scrolled": true
   },
   "outputs": [
    {
     "data": {
      "application/vnd.jupyter.widget-view+json": {
       "model_id": "b151a58fe762495ca17c0e383b0a477a",
       "version_major": 2,
       "version_minor": 0
      },
      "text/plain": [
       "HBox(children=(SelectMultiple(_dom_classes=('select-checkbox',), layout=Layout(width='60%'), options=('Other s…"
      ]
     },
     "metadata": {},
     "output_type": "display_data"
    }
   ],
   "source": [
    "item_layout = widgets.Layout(display='flex',\n",
    "                    align_items='stretch',\n",
    "                    border='solid #1ca999 1px',\n",
    "                    padding='left',\n",
    "                    width='97%')\n",
    "input_widgets = widgets.HBox([dropdown_diagnames_pat_id, dropdown_concept_name], layout = item_layout)\n",
    "display(input_widgets)"
   ]
  },
  {
   "cell_type": "code",
   "execution_count": 456,
   "id": "e13a4661",
   "metadata": {
    "extensions": {
     "jupyter_dashboards": {
      "version": 1,
      "views": {
       "grid_default": {},
       "report_default": {
        "hidden": true
       }
      }
     }
    }
   },
   "outputs": [],
   "source": [
    "output_diag_name = widgets.Output()\n",
    "\n",
    "dropdown_diagnosis_name = widgets.Dropdown(options= class_labels['description'].unique(), style = style, description='Risk of diagnosis for the patient:',disabled=False, rows = 15, size = 10, layout=Layout(width = '450px'))\n",
    "\n",
    "def dropdown_diagnosis_name_eventhandler(change):\n",
    "    output_diag_name.clear_output()\n",
    "    with output_diag_name:\n",
    "        display(class_labels[class_labels[\"description\"] == change.new])\n",
    "        diagnosis_name = dropdown_diagnosis_name.value    \n",
    "    dash()\n",
    "        \n",
    "dropdown_diagnosis_name.observe(dropdown_diagnosis_name_eventhandler, names='value')  "
   ]
  },
  {
   "cell_type": "code",
   "execution_count": 457,
   "id": "cd1561e3",
   "metadata": {
    "extensions": {
     "jupyter_dashboards": {
      "version": 1,
      "views": {
       "grid_default": {},
       "report_default": {
        "hidden": false
       }
      }
     }
    }
   },
   "outputs": [
    {
     "data": {
      "text/html": [
       "<style>.my-button { color: white; background-color: #1ca999; }</style>"
      ],
      "text/plain": [
       "<IPython.core.display.HTML object>"
      ]
     },
     "metadata": {},
     "output_type": "display_data"
    },
    {
     "data": {
      "application/vnd.jupyter.widget-view+json": {
       "model_id": "feccee1987944ba3b1eb526ae90313c9",
       "version_major": 2,
       "version_minor": 0
      },
      "text/plain": [
       "HBox(children=(Button(description='Step 3: Please select ONE risk of diagnosis for the patient', layout=Layout…"
      ]
     },
     "metadata": {},
     "output_type": "display_data"
    }
   ],
   "source": [
    "from IPython.display import display, HTML\n",
    "\n",
    "button_style = '<style>.my-button { color: white; background-color: #1ca999; }</style>'\n",
    "BStep3 = widgets.Button(description='Step 3: Please select ONE risk of diagnosis for the patient', \n",
    "                        layout=Layout(width='1070px'), \n",
    "                        style={'description_width': 'initial', 'button_width':'100%'}, \n",
    "                        tooltip='Step 2')\n",
    "display(HTML(button_style))\n",
    "BStep3.add_class(\"my-button\")\n",
    "item_layout = widgets.Layout(display='center',\n",
    "                    flex_flow='center',\n",
    "                    align_items='stretch',\n",
    "                    border='solid #1ca999 1px',\n",
    "                    width='97%')\n",
    "input_step3 = widgets.HBox([BStep3], layout=item_layout)\n",
    "display(input_step3)"
   ]
  },
  {
   "cell_type": "code",
   "execution_count": 495,
   "id": "b75cb095",
   "metadata": {
    "extensions": {
     "jupyter_dashboards": {
      "version": 1,
      "views": {
       "grid_default": {},
       "report_default": {
        "hidden": false
       }
      }
     }
    },
    "scrolled": true
   },
   "outputs": [
    {
     "data": {
      "application/vnd.jupyter.widget-view+json": {
       "model_id": "ebd11585c18c4162814d42a1951711bd",
       "version_major": 2,
       "version_minor": 0
      },
      "text/plain": [
       "HBox(children=(Dropdown(description='Risk of diagnosis for the patient:', index=3, layout=Layout(width='450px'…"
      ]
     },
     "metadata": {},
     "output_type": "display_data"
    },
    {
     "data": {
      "text/html": [
       "<style>\n",
       "    .custom-tabs .p-TabBar-tab[data-index=\"0\"] {\n",
       "        background-color: #a3c9a8 !important;\n",
       "    }\n",
       "\n",
       "    .custom-tabs .p-TabBar-tab[data-index=\"1\"] {\n",
       "        background-color: #b5d3e7 !important;\n",
       "    }\n",
       "\n",
       "    .custom-tabs .p-TabBar-tab[data-index=\"2\"] {\n",
       "        background-color: #f6c4a6 !important;\n",
       "    }\n",
       "\n",
       "    .custom-tabs .p-TabBar-tab[data-index=\"3\"] {\n",
       "        background-color: #f4d4d4 !important;\n",
       "    }\n",
       "\n",
       "    .custom-tabs .p-TabBar-tab[data-index=\"4\"] {\n",
       "        background-color: #e5c5dd !important;\n",
       "    }\n",
       "\n",
       "    .custom-tabs .p-TabBar-tab[data-index=\"5\"] {\n",
       "        background-color: #b0c4de !important;\n",
       "    }\n",
       "    </style>"
      ],
      "text/plain": [
       "<IPython.core.display.HTML object>"
      ]
     },
     "metadata": {},
     "output_type": "display_data"
    },
    {
     "data": {
      "application/vnd.jupyter.widget-view+json": {
       "model_id": "2ebb262289d946aa8ef91d0deb607ebf",
       "version_major": 2,
       "version_minor": 0
      },
      "text/plain": [
       "Tab(children=(Output(), Output(), Output(), Output(), Output(), Output()), selected_index=0, titles=('Dataset …"
      ]
     },
     "metadata": {},
     "output_type": "display_data"
    }
   ],
   "source": [
    "item_layout = widgets.Layout(display='flex',\n",
    "                    flex_flow='row',\n",
    "                    align_items='stretch',\n",
    "                    justify_content='center',\n",
    "                    border='solid #1ca999 1px',\n",
    "                    padding='1px',\n",
    "                            width='97%')\n",
    "\n",
    "input_widgets = widgets.HBox([dropdown_diagnosis_name], layout = item_layout)\n",
    "display(input_widgets)"
   ]
  },
  {
   "cell_type": "code",
   "execution_count": 459,
   "id": "f5904a76",
   "metadata": {
    "extensions": {
     "jupyter_dashboards": {
      "version": 1,
      "views": {
       "grid_default": {},
       "report_default": {
        "hidden": true
       }
      }
     }
    }
   },
   "outputs": [],
   "source": [
    "#Creating Tabs"
   ]
  },
  {
   "cell_type": "code",
   "execution_count": 494,
   "id": "b7e7001b",
   "metadata": {
    "extensions": {
     "jupyter_dashboards": {
      "version": 1,
      "views": {
       "grid_default": {},
       "report_default": {
        "hidden": true
       }
      }
     }
    }
   },
   "outputs": [],
   "source": [
    "import sys\n",
    "sys.setrecursionlimit(10000)  # set maximum recursion depth to 10000\n",
    "\n",
    "def dash():\n",
    "    # create tabs\n",
    "    tab1 = widgets.Output()\n",
    "    tab2 = widgets.Output()\n",
    "    tab3 = widgets.Output()\n",
    "    tab4 = widgets.Output()\n",
    "    tab5 = widgets.Output()\n",
    "    tab6 = widgets.Output()\n",
    "\n",
    "    tab = widgets.Tab(children=[tab1, tab2, tab3, tab4, tab5, tab6])\n",
    "    tab.set_title(0, 'Dataset Exploration')\n",
    "    tab.set_title(1, 'Distribution Plot')\n",
    "    tab.set_title(2, 'Statistical Test')\n",
    "    tab.set_title(3, 'Correlation Test')\n",
    "    tab.set_title(4, 'Association Test')\n",
    "    tab.set_title(5, 'ML Statistical Analysis')\n",
    "    display(tab)\n",
    "    \n",
    "    # add the functions to the corresponding tabs\n",
    "    with tab1:\n",
    "        on_3button_clicked()\n",
    "        \n",
    "    with tab2:\n",
    "        showplot()\n",
    "        \n",
    "    with tab3:    \n",
    "        shapiro_test()\n",
    "\n",
    "    with tab4:\n",
    "        on_corrButton_clicked('diagnosis_name')\n",
    "\n",
    "    with tab5:\n",
    "        on_assocButton_clicked('diagnosis_name')\n",
    "\n",
    "    with tab6:\n",
    "        on_regressionButton_clicked('diagnosis_name')\n"
   ]
  },
  {
   "cell_type": "code",
   "execution_count": 482,
   "id": "8bbf3d99",
   "metadata": {
    "extensions": {
     "jupyter_dashboards": {
      "version": 1,
      "views": {
       "grid_default": {},
       "report_default": {
        "hidden": false
       }
      }
     }
    }
   },
   "outputs": [],
   "source": [
    "diagnosis_name = dropdown_diagnosis_name.value\n",
    "values_map3 = {}\n",
    "values_map3['diagnosis_name'] = diagnosis_name\n",
    "values_map3\n",
    "get_patient_id = (\"\"\"select patient_id from encounter_diagnosis where diagnosis_coded IN (select * from (select concept_id from concept where description = \"{diagnosis_name}\") as pqr )\"\"\") \n",
    "get_patient_id = get_patient_id.format(**values_map3) \n",
    "get_patient_id = pd.read_sql(get_patient_id, con=conn)  \n",
    "#get_patient_id"
   ]
  },
  {
   "cell_type": "code",
   "execution_count": 462,
   "id": "3c5ebe3a",
   "metadata": {
    "extensions": {
     "jupyter_dashboards": {
      "version": 1,
      "views": {
       "grid_default": {},
       "report_default": {
        "hidden": false
       }
      }
     }
    }
   },
   "outputs": [],
   "source": [
    "## Adding class labels to cohort dataframe\n",
    "#final_patient_cohort_concept[diagnosis_name] = ''\n",
    "\n",
    "def final_patient_cohort_concept_1(diagnosis_name):\n",
    "    diagnosis_name = dropdown_diagnosis_name.value\n",
    "    values_map3 = {}\n",
    "    values_map3['diagnosis_name'] = diagnosis_name\n",
    "    values_map3\n",
    "    get_patient_id = (\"\"\"select patient_id from encounter_diagnosis where diagnosis_coded IN (select * from (select concept_id from concept where description = \"{diagnosis_name}\") as pqr )\"\"\") \n",
    "    get_patient_id = get_patient_id.format(**values_map3) \n",
    "    get_patient_id = pd.read_sql(get_patient_id, con=conn)  \n",
    "    #get_patient_id\n",
    "    \n",
    "    diagnosis_name = dropdown_diagnosis_name.value\n",
    "    final_patient_cohort_concept=conc()\n",
    "\n",
    "    for i, row in final_patient_cohort_concept.iterrows():\n",
    "        if row['person_id'] in get_patient_id['patient_id'].tolist():\n",
    "\n",
    "            final_patient_cohort_concept.loc[i, [diagnosis_name]] = 1\n",
    "        else:\n",
    "            final_patient_cohort_concept.loc[i, [diagnosis_name]] = 0\n",
    "            \n",
    "    return final_patient_cohort_concept    "
   ]
  },
  {
   "cell_type": "code",
   "execution_count": 463,
   "id": "f0cea33f",
   "metadata": {
    "extensions": {
     "jupyter_dashboards": {
      "version": 1,
      "views": {
       "grid_default": {},
       "report_default": {
        "hidden": false
       }
      }
     }
    }
   },
   "outputs": [],
   "source": [
    "diagnosis_name = dropdown_diagnosis_name.value\n",
    "if old_diagnosis_name != diagnosis_name:\n",
    "    try:\n",
    "        final_patient_cohort_concept=final_patient_cohort_concept_1(diagnosis_name)\n",
    "        final_patient_cohort_concept.drop([old_diagnosis_name], axis =1, inplace=True)\n",
    "    except Exception as ex:\n",
    "        #print(ex)\n",
    "        pass\n",
    "    old_diagnosis_name = diagnosis_name"
   ]
  },
  {
   "cell_type": "code",
   "execution_count": 464,
   "id": "68030631",
   "metadata": {
    "extensions": {
     "jupyter_dashboards": {
      "version": 1,
      "views": {
       "grid_default": {},
       "report_default": {
        "hidden": true
       }
      }
     }
    }
   },
   "outputs": [],
   "source": [
    "#final_patient_cohort_concept_feat = final_patient_cohort_concept.drop(columns = ['person_id'])\n",
    "# final_patient_cohort_concept=final_patient_cohort_concept_1(diagnosis_name)\n",
    "# #final_patient_cohort_concept_feat"
   ]
  },
  {
   "cell_type": "code",
   "execution_count": 465,
   "id": "6ca99e98",
   "metadata": {
    "extensions": {
     "jupyter_dashboards": {
      "version": 1,
      "views": {
       "grid_default": {},
       "report_default": {
        "hidden": true
       }
      }
     }
    }
   },
   "outputs": [],
   "source": [
    "## Correlation Test"
   ]
  },
  {
   "cell_type": "code",
   "execution_count": 466,
   "id": "36cf7fd5",
   "metadata": {
    "extensions": {
     "jupyter_dashboards": {
      "version": 1,
      "views": {
       "grid_default": {},
       "report_default": {
        "hidden": false
       }
      }
     }
    }
   },
   "outputs": [],
   "source": [
    "def on_corrButton_clicked(diagnosis_name):\n",
    "    diagnosis_name = dropdown_diagnosis_name.value\n",
    "    final_patient_cohort_concept=conc()\n",
    "    concept_name = dropdown_concept_name.value\n",
    "    for i, row in final_patient_cohort_concept.iterrows():\n",
    "        if row['person_id'] in get_patient_id['patient_id'].tolist():\n",
    "      \n",
    "            final_patient_cohort_concept.loc[i, [diagnosis_name]] = 1\n",
    "        else:\n",
    "            final_patient_cohort_concept.loc[i, [diagnosis_name]] = 0\n",
    "    \n",
    "    final_patient_cohort_concept_feat = final_patient_cohort_concept.drop(columns = ['person_id'])\n",
    "    corr_output=widgets.Output()\n",
    "    \n",
    "    with corr_output:\n",
    "\n",
    "        plt.figure(figsize = (20,15))\n",
    "        corr = final_patient_cohort_concept_feat.corr(method='spearman')\n",
    "        ax = sns.heatmap(corr, annot=True, fmt ='.1g', vmin=-1, vmax=1, center= 0, cmap= 'coolwarm')   \n",
    "        \n",
    "        plt.show(ax)\n",
    "    display(corr_output)\n",
    "    "
   ]
  },
  {
   "cell_type": "code",
   "execution_count": 467,
   "id": "72d9abb8",
   "metadata": {
    "extensions": {
     "jupyter_dashboards": {
      "version": 1,
      "views": {
       "grid_default": {},
       "report_default": {
        "hidden": true
       }
      }
     }
    }
   },
   "outputs": [],
   "source": [
    "#Association Test"
   ]
  },
  {
   "cell_type": "code",
   "execution_count": 468,
   "id": "e4c4a952",
   "metadata": {
    "extensions": {
     "jupyter_dashboards": {
      "version": 1,
      "views": {
       "grid_default": {},
       "report_default": {
        "hidden": false
       }
      }
     }
    }
   },
   "outputs": [],
   "source": [
    "def on_assocButton_clicked(diagnosis_name):\n",
    "    diagnosis_name = dropdown_diagnosis_name.value\n",
    "    final_patient_cohort_concept=conc()\n",
    "    concept_name = dropdown_concept_name.value\n",
    "    for i, row in final_patient_cohort_concept.iterrows():\n",
    "        if row['person_id'] in get_patient_id['patient_id'].tolist():\n",
    "      \n",
    "            final_patient_cohort_concept.loc[i, [diagnosis_name]] = 1\n",
    "        else:\n",
    "            final_patient_cohort_concept.loc[i, [diagnosis_name]] = 0\n",
    "    concept_name = dropdown_concept_name.value\n",
    "    \n",
    "    final_patient_cohort_concept_feat = final_patient_cohort_concept.drop(columns = ['person_id'])\n",
    "    feature_columns = list(final_patient_cohort_concept.columns[:-1])\n",
    "    target_columns = final_patient_cohort_concept[diagnosis_name]\n",
    "    assoc_output = widgets.Output()\n",
    "    assoc_output.clear_output()\n",
    "    with assoc_output:\n",
    "        colLabels = ['Statistic','p-value']\n",
    "        rowLabels = feature_columns\n",
    "        plt.figure() \n",
    "        cell_Text = []\n",
    "        for j in feature_columns:\n",
    "            kruskaltest = stats.kruskal(target_columns, final_patient_cohort_concept[j])\n",
    "            cell_Text.append(kruskaltest)\n",
    "        table = plt.table(rowLabels=rowLabels, colLabels=colLabels, cellText=cell_Text, cellLoc= 'center', loc='center')\n",
    "        table.auto_set_font_size(False)\n",
    "        table.set_fontsize(10)\n",
    "        #table.scale(2, 2)\n",
    "        #table.set_title('Kruskal-wallis Test')\n",
    "        plt.axis('off')\n",
    "        for (row, col), cell in table.get_celld().items():\n",
    "            try:\n",
    "                if col==1 and row>=1 and float(cell.get_text()) < 0.05:\n",
    "                    cell.set_text_props(fontproperties=FontProperties(weight='bold'))\n",
    "            except:\n",
    "                pass\n",
    "        with assoc_output:\n",
    "            plt.show()\n",
    "    \n",
    "    #return assoc_output,final_patient_cohort_concept_feat\n",
    "    display(assoc_output)"
   ]
  },
  {
   "cell_type": "code",
   "execution_count": 469,
   "id": "7b93d9fe",
   "metadata": {
    "extensions": {
     "jupyter_dashboards": {
      "version": 1,
      "views": {
       "grid_default": {},
       "report_default": {
        "hidden": false
       }
      }
     }
    }
   },
   "outputs": [],
   "source": [
    "#Random Forest Model"
   ]
  },
  {
   "cell_type": "code",
   "execution_count": 470,
   "id": "8d684bf5",
   "metadata": {
    "extensions": {
     "jupyter_dashboards": {
      "version": 1,
      "views": {
       "grid_default": {},
       "report_default": {
        "hidden": false
       }
      }
     }
    }
   },
   "outputs": [],
   "source": [
    "def on_regressionButton_clicked(diagnosis_name):\n",
    "\n",
    "    diagnosis_name = dropdown_diagnosis_name.value\n",
    "    final_patient_ind_value_numeric=con()\n",
    "    final_patient_cohort_concept=final_patient_cohort_concept_1(dropdown_diagnosis_name.value)\n",
    "    final_patient_cohort_concept_feat = final_patient_cohort_concept.drop(columns = ['person_id'])\n",
    "    \n",
    "    diagnosis_name = dropdown_diagnosis_name.value\n",
    "\n",
    "    dict_pred = {1: 'Diagnosis Present', 0: 'Diagnosis Not Present'}\n",
    "    import time\n",
    "    start_time = time.time()\n",
    "\n",
    "    patient_feat = (final_patient_ind_value_numeric.iloc[:1]).drop(columns = ['person_id']).values\n",
    "\n",
    "    predictor = final_patient_cohort_concept_feat.iloc[:, :-1].values\n",
    "    target = (final_patient_cohort_concept_feat[[diagnosis_name]]).values\n",
    "    #display(final_patient_cohort_concept_feat)\n",
    "    #display(final_patient_cohort_concept[[\"Acute kidney failure, unspecified\"]].value_counts())\n",
    "    X_train, X_test, y_train, y_test = train_test_split(predictor, target, test_size=0.25, random_state=42,stratify=target)\n",
    "\n",
    "\n",
    "    # transform the dataset\n",
    "    oversample = SMOTE(random_state=100)\n",
    "    X_train_res, y_train_res = oversample.fit_resample(X_train, y_train)\n",
    "\n",
    "\n",
    "    # Feature Scaling\n",
    "\n",
    "    sc_X = StandardScaler()\n",
    "    X_train = sc_X.fit_transform(X_train_res)\n",
    "    X_test = sc_X.transform(X_test)\n",
    "    \n",
    "    # Split the data into train and test\n",
    "\n",
    "    # Fitting Random Forest classifier to the Training set\n",
    "    Rfclassifier = RandomForestClassifier(n_estimators=10, criterion='entropy', class_weight=\"balanced_subsample\", random_state=0)\n",
    "\n",
    "    Rfclassifier.fit(X_train_res, y_train_res.ravel())\n",
    "\n",
    "    # Predicting the Test set results\n",
    "    y_pred_rf = Rfclassifier.predict(X_test)\n",
    "    #print('y_preds_rf:', y_pred_rf)\n",
    "\n",
    "    # Making the confusion Matrix\n",
    "    cm_rf = confusion_matrix(y_test, y_pred_rf)\n",
    "    #print('confusion matrix_rf:', cm_rf)\n",
    "\n",
    "    # predict for the patient\n",
    "    patient_pred_rf = Rfclassifier.predict(patient_feat)\n",
    "    text_prediction_rf = widgets.Text(value = dict_pred[int(patient_pred_rf[0])], description= 'Prediction:', style =style)\n",
    "    def rf_report():\n",
    "        rf_report_output = widgets.Output() \n",
    "        rf_report_output.clear_output()\n",
    "        #with rf_report_output:\n",
    "        patient_pred_rf = Rfclassifier.predict(patient_feat)\n",
    "#       #print('patient_pred_rf:', dict_pred[int(patient_pred_rf[0])])\n",
    "        text_prediction_rf = widgets.Text(value = dict_pred[int(patient_pred_rf[0])], description= 'Prediction:', style =style)\n",
    "        report = classification_report(y_test, y_pred_rf, output_dict=True)\n",
    "        df_report = pd.DataFrame(report).transpose()\n",
    "        df_report=df_report.iloc[2][2]\n",
    "        \n",
    "        df_report= widgets.Text(value = str(df_report), description= 'Accuracy % for correct prediction :', style =style)\n",
    "\n",
    "        with rf_report_output:\n",
    "            display(df_report)\n",
    "\n",
    "            items = [text_prediction_rf, df_report]\n",
    "            box = Box(children=items)\n",
    "        return box\n",
    "\n",
    "    display(rf_report())"
   ]
  },
  {
   "cell_type": "code",
   "execution_count": 471,
   "id": "a980eabe",
   "metadata": {
    "extensions": {
     "jupyter_dashboards": {
      "version": 1,
      "views": {
       "grid_default": {},
       "report_default": {
        "hidden": true
       }
      }
     }
    }
   },
   "outputs": [],
   "source": [
    "def on_lightGBMButton_clicked(diagnosis_name):\n",
    "    diagnosis_name = dropdown_diagnosis_name.value\n",
    "    display(Markdown(\"## LightGBM Classifier Result is as follows:\"))\n",
    "    print(diagnosis_name)\n",
    "    final_patient_ind_value_numeric=con()\n",
    "    final_patient_cohort_concept=final_patient_cohort_concept_1(dropdown_diagnosis_name.value)\n",
    "    final_patient_cohort_concept_feat = final_patient_cohort_concept.drop(columns = ['person_id'])\n",
    "    dict_pred = {1: 'Diagnosis Present', 0: 'Diagnosis Not Present'}\n",
    "    import time\n",
    "    start_time = time.time()\n",
    "    final_patient_ind_value_numeric=con()\n",
    "    patient_feat = (final_patient_ind_value_numeric.iloc[:1]).drop(columns = ['person_id']).values\n",
    "\n",
    "    predictor = final_patient_cohort_concept_feat.iloc[:, :-1].values\n",
    "    target = (final_patient_cohort_concept_feat[[diagnosis_name]]).values\n",
    "\n",
    "    X_train, X_test, y_train, y_test = train_test_split(predictor, target, test_size=0.25, random_state=42)\n",
    "\n",
    "    # transform the dataset\n",
    "    oversample = SMOTE()\n",
    "    X_train_res, y_train_res = oversample.fit_resample(X_train, y_train)\n",
    "\n",
    "    # Feature Scaling\n",
    "    sc_X = StandardScaler()\n",
    "    X_train = sc_X.fit_transform(X_train_res)\n",
    "    X_test = sc_X.transform(X_test)\n",
    "\n",
    "    # Split the data into train and test\n",
    "    # def on_regressionButton_clicked():\n",
    "\n",
    "    # Split the data into train and test\n",
    "    # def on_regressionButton_clicked():\n",
    "\n",
    "\n",
    "    # Fitting Random Forest classifier to the Training set\n",
    "    lgb_classifier = lgb.LGBMClassifier()\n",
    "    lgb_classifier.fit(X_train_res, y_train_res)\n",
    "\n",
    "    # Predicting the Test set results\n",
    "    y_pred_lgb = lgb_classifier.predict(X_test)\n",
    "    print('y_preds_lgb:', y_pred_lgb)\n",
    "\n",
    "    # accuracy\n",
    "    # accuarcy_lgb = accuracy_score(y_test, y_pred_lgb)\n",
    "    # print('accuarcy_rf:', accuarcy_lgb)\n",
    "\n",
    "    # Making the confusion Matrix\n",
    "    cm_lgb = confusion_matrix(y_test, y_pred_lgb)\n",
    "    print('confusion matrix_lgb:', cm_lgb)\n",
    "\n",
    "    patient_pred_lgb = lgb_classifier.predict(patient_feat)\n",
    "    text_prediction_lgb = widgets.Text(value = dict_pred[int(patient_pred_lgb[0])], description= 'Prediction:', style =style)\n",
    "\n",
    "    def lightGBM_report():\n",
    "        lightGBM_report_output = widgets.Output() \n",
    "        lightGBM_report_output.clear_output()\n",
    "\n",
    "        patient_pred_lgb = lgb_classifier.predict(patient_feat)\n",
    "        print('patient_pred_lgb:', dict_pred[int(patient_pred_lgb[0])])\n",
    "        text_prediction_lgb = widgets.Text(value = dict_pred[int(patient_pred_lgb[0])], description= 'Prediction:', style =style)\n",
    "        report = classification_report(y_test, y_pred_lgb, output_dict=True)\n",
    "        df_report = pd.DataFrame(report).transpose()\n",
    "\n",
    "        with lightGBM_report_output:\n",
    "            display(df_report)\n",
    "\n",
    "        items = [text_prediction_lgb, lightGBM_report_output]\n",
    "        box = Box(children=items)\n",
    "        return box\n",
    "\n",
    "\n",
    "    display(lightGBM_report())\n",
    "\n",
    "    return on_lightGBMButton_clicked(dropdown_diagnosis_name.value)"
   ]
  },
  {
   "cell_type": "code",
   "execution_count": 472,
   "id": "9cd7d60a",
   "metadata": {
    "extensions": {
     "jupyter_dashboards": {
      "version": 1,
      "views": {
       "grid_default": {},
       "report_default": {
        "hidden": true
       }
      }
     }
    }
   },
   "outputs": [],
   "source": [
    "#CatBoost Model"
   ]
  },
  {
   "cell_type": "code",
   "execution_count": 473,
   "id": "d9200b08",
   "metadata": {
    "extensions": {
     "jupyter_dashboards": {
      "version": 1,
      "views": {
       "grid_default": {},
       "report_default": {
        "hidden": true
       }
      }
     }
    }
   },
   "outputs": [],
   "source": [
    "# ## CatBoost model fitting\n",
    "\n",
    "# # Applying grid search to find the best model and best parameters\n",
    "\n",
    "# import time\n",
    "# # Split the data into train and test\n",
    "# def on_catboostButton_clicked(diagnosis_name):\n",
    "   \n",
    "#     final_patient_cohort_concept=conc()\n",
    "#     diagnosis_name = dropdown_diagnosis_name.value\n",
    "#     dict_pred = {1: 'Diagnosis Present', 0: 'Diagnosis Not Present'}\n",
    "#     final_patient_ind_value_numeric=con()\n",
    "#     final_patient_cohort_concept_feat = final_patient_cohort_concept.drop(columns = ['person_id'])\n",
    "    \n",
    "    \n",
    "#     # Split the data into train and test\n",
    "#     # def on_regressionButton_clicked():\n",
    "\n",
    "#     # Fitting Random Forest classifier to the Training set\n",
    "#     # transform the dataset\n",
    "#     oversample = SMOTE(random_state=100)\n",
    "#     X_train_res, y_train_res = oversample.fit_resample(X_train, y_train)\n",
    "\n",
    "\n",
    "#     # Feature Scaling\n",
    "#     sc_X = StandardScaler()\n",
    "#     X_train = sc_X.fit_transform(X_train_res)\n",
    "#     X_test = sc_X.transform(X_test)\n",
    "     \n",
    "#     Rfclassifier = RandomForestClassifier(n_estimators=10, criterion='entropy', class_weight=\"balanced_subsample\", random_state=0)\n",
    "\n",
    "#     Rfclassifier.fit(X_train_res, y_train_res.ravel())\n",
    "\n",
    "\n",
    "#     # predict for the patient\n",
    " \n",
    "#     start_time = time.time()\n",
    "\n",
    "#     patient_feat = (final_patient_ind_value_numeric.iloc[:1]).drop(columns = ['person_id']).values\n",
    "    \n",
    "#     predictor = final_patient_cohort_concept_feat.iloc[:, :-1].values\n",
    "#     target = (final_patient_cohort_concept_feat[[diagnosis_name]]).values\n",
    "#     X_train, X_test, y_train, y_test = train_test_split(predictor, target, test_size=0.25, random_state=42)\n",
    "\n",
    "#  # Feature Scaling\n",
    "\n",
    "#     sc_X = StandardScaler()\n",
    "#     X_train = sc_X.fit_transform(X_train)\n",
    "#     X_test = sc_X.transform(X_test)\n",
    "\n",
    "# # # Fitting Random Forest classifier to the Training set\n",
    "#     rfc = CatBoostClassifier(iterations=10)\n",
    "#     error_score='raise'\n",
    "\n",
    "#     forest_params = [{'max_depth': list(range(10, 15)), 'max_features': list(range(0,14))}]\n",
    "\n",
    "#     clf = GridSearchCV(rfc, forest_params, cv = 5, scoring='accuracy')\n",
    "\n",
    "#     model = clf.fit(X_train, y_train.ravel())\n",
    "\n",
    "#     print(model.best_params_)\n",
    "\n",
    "#     print(model.best_score_)\n",
    "\n",
    "\n",
    "#     print(model.best_estimator_)\n",
    "\n",
    "#     pred = model.best_estimator_.predict(X_test)\n",
    "#     print('prediction:', pred)\n",
    "\n",
    "#     patient_pred = model.best_estimator_.predict(patient_feat)\n",
    "#     print('patient_pred_rf:', patient_pred_rf[0])\n",
    "\n",
    "\n",
    "#     print(classification_report(y_test, pred))\n",
    "    \n",
    "#     return\n",
    "\n",
    "# on_catboostButton_clicked(diagnosis_name)"
   ]
  },
  {
   "cell_type": "code",
   "execution_count": 474,
   "id": "6456df82",
   "metadata": {
    "extensions": {
     "jupyter_dashboards": {
      "version": 1,
      "views": {
       "grid_default": {},
       "report_default": {
        "hidden": true
       }
      }
     }
    }
   },
   "outputs": [],
   "source": [
    "# AUC Plot"
   ]
  },
  {
   "cell_type": "code",
   "execution_count": 475,
   "id": "f9840668",
   "metadata": {
    "extensions": {
     "jupyter_dashboards": {
      "version": 1,
      "views": {
       "grid_default": {},
       "report_default": {
        "hidden": false
       }
      }
     }
    }
   },
   "outputs": [],
   "source": [
    "def auc(diagnosis_name):\n",
    "    diagnosis_name = dropdown_diagnosis_name.value\n",
    "    display(Markdown(\"## AUC Results are as follows:\"))\n",
    "    print(diagnosis_name)\n",
    "#     values_map3 = {}\n",
    "#     values_map3['diagnosis_name'] = diagnosis_name\n",
    "#     values_map3\n",
    "#     get_patient_id = (\"\"\"select patient_id from encounter_diagnosis where diagnosis_coded IN (select * from (select concept_id from concept where description = \"{diagnosis_name}\") as pqr )\"\"\") \n",
    "#     get_patient_id = get_patient_id.format(**values_map3) \n",
    "#     get_patient_id = pd.read_sql(get_patient_id, con=conn)  \n",
    "    #get_patient_id\n",
    "     \n",
    "    diagnosis_name = dropdown_diagnosis_name.value\n",
    "    final_patient_ind_value_numeric=con()\n",
    "    final_patient_cohort_concept=final_patient_cohort_concept_1(dropdown_diagnosis_name.value)\n",
    "    final_patient_cohort_concept_feat = final_patient_cohort_concept.drop(columns = ['person_id'])\n",
    "    \n",
    "    diagnosis_name = dropdown_diagnosis_name.value\n",
    "#     old_diagnosis_name = None\n",
    "#     if old_diagnosis_name != diagnosis_name:\n",
    "#         try:\n",
    "#             final_patient_cohort_concept=final_patient_cohort_concept_1(diagnosis_name)\n",
    "#             final_patient_cohort_concept.drop([old_diagnosis_name], axis =1, inplace=True)\n",
    "#         except Exception as ex:\n",
    "#             #print(ex)\n",
    "#             pass\n",
    "#         old_diagnosis_name = diagnosis_name   \n",
    "    #final_patient_cohort_concept_feat\n",
    "    dict_pred = {1: 'Diagnosis Present', 0: 'Diagnosis Not Present'}\n",
    "    import time\n",
    "    start_time = time.time()\n",
    "\n",
    "    patient_feat = (final_patient_ind_value_numeric.iloc[:1]).drop(columns = ['person_id']).values\n",
    "\n",
    "    predictor = final_patient_cohort_concept_feat.iloc[:, :-1].values\n",
    "    target = (final_patient_cohort_concept_feat[[diagnosis_name]]).values\n",
    "    #display(final_patient_cohort_concept_feat)\n",
    "    #display(final_patient_cohort_concept[[\"Acute kidney failure, unspecified\"]].value_counts())\n",
    "    X_train, X_test, y_train, y_test = train_test_split(predictor, target, test_size=0.25, random_state=42,stratify=target)\n",
    "    #print(y_train)\n",
    "\n",
    "    # transform the dataset\n",
    "    oversample = SMOTE(random_state=100)\n",
    "    X_train_res, y_train_res = oversample.fit_resample(X_train, y_train)\n",
    "\n",
    "\n",
    "    # Feature Scaling\n",
    "    sc_X = StandardScaler()\n",
    "    X_train = sc_X.fit_transform(X_train_res)\n",
    "    X_test = sc_X.transform(X_test)\n",
    "     \n",
    "    Rfclassifier = RandomForestClassifier(n_estimators=10, criterion='entropy', class_weight=\"balanced_subsample\", random_state=0)\n",
    "    Rfclassifier.fit(X_train_res, y_train_res.ravel())\n",
    "\n",
    "    # Split the data into train and test\n",
    "    # def on_regressionButton_clicked():\n",
    "\n",
    "    # Split the data into train and test\n",
    "    # def on_regressionButton_clicked():\n",
    "\n",
    "\n",
    "    # Fitting Random Forest classifier to the Training set\n",
    "\n",
    "    lgb_classifier = lgb.LGBMClassifier()\n",
    "    lgb_classifier.fit(X_train_res, y_train_res)\n",
    "\n",
    "    # Predicting the Test set results\n",
    "    y_pred_lgb = lgb_classifier.predict(X_test)\n",
    "\n",
    "    # accuracy\n",
    "    # accuarcy_lgb = accuracy_score(y_test, y_pred_lgb)\n",
    "    # print('accuarcy_rf:', accuarcy_lgb)\n",
    "\n",
    "    # Making the confusion Matrix\n",
    "    cm_lgb = confusion_matrix(y_test, y_pred_lgb)\n",
    "\n",
    "    patient_pred_lgb = lgb_classifier.predict(patient_feat)\n",
    "    text_prediction_lgb = widgets.Text(value = dict_pred[int(patient_pred_lgb[0])], description= '<b>Prediction:</b>', style =style)\n",
    "\n",
    "    auc_rf= widgets.Output() \n",
    "    auc_rf.clear_output()\n",
    "    \n",
    "#     auc_gbm = widgets.Output()\n",
    "#     auc_gbm.clear_output()\n",
    "    \n",
    "    predictor_prob_rf = Rfclassifier.predict_proba(X_test)\n",
    "    x_rf = skplt.metrics.plot_precision_recall_curve(y_test, predictor_prob_rf)\n",
    "    \n",
    "    lgb_classifier = lgb.LGBMClassifier()\n",
    "    lgb_classifier.fit(X_train_res, y_train_res)\n",
    "    \n",
    "    predictor_prob_gbm = lgb_classifier.predict_proba(X_test)\n",
    "    x_gbm = skplt.metrics.plot_precision_recall_curve(y_test, predictor_prob_gbm)\n",
    "    \n",
    "    \n",
    "    with auc_rf:\n",
    "        plt.show(x_rf)\n",
    "        plt.show(x_gbm)\n",
    "        skplt.metrics.plot_precision_recall_curve(y_test, predictor_prob_rf).plot()\n",
    "        x_gbm.plot()\n",
    "    items = [auc_rf]\n",
    "    box = Box(children=items)\n",
    "    display(auc_rf)\n",
    "    \n",
    "    return \n",
    "    auc(diagnosis_name)    "
   ]
  },
  {
   "cell_type": "code",
   "execution_count": 476,
   "id": "9b714a17",
   "metadata": {
    "extensions": {
     "jupyter_dashboards": {
      "version": 1,
      "views": {
       "grid_default": {},
       "report_default": {
        "hidden": true
       }
      }
     }
    }
   },
   "outputs": [],
   "source": [
    "#FAST AI"
   ]
  },
  {
   "cell_type": "code",
   "execution_count": 477,
   "id": "d933c281",
   "metadata": {
    "extensions": {
     "jupyter_dashboards": {
      "version": 1,
      "views": {
       "grid_default": {},
       "report_default": {
        "hidden": true
       }
      }
     }
    }
   },
   "outputs": [],
   "source": [
    "def fastai_report(diagnosis_name): \n",
    "    \n",
    "    import time\n",
    "    diagnosis_name = dropdown_diagnosis_name.value\n",
    "    display(Markdown(\"## FASTAI Report for:\"))\n",
    "    print(diagnosis_name)\n",
    "#values_map3 = {}\n",
    "#     values_map3['diagnosis_name'] = diagnosis_name\n",
    "#     values_map3\n",
    "#     get_patient_id = (\"\"\"select patient_id from encounter_diagnosis where diagnosis_coded IN (select * from (select concept_id from concept where description = \"{diagnosis_name}\") as pqr )\"\"\") \n",
    "#     get_patient_id = get_patient_id.format(**values_map3) \n",
    "#     get_patient_id = pd.read_sql(get_patient_id, con=conn)  \n",
    "    #get_patient_id\n",
    "     \n",
    "    diagnosis_name = dropdown_diagnosis_name.value\n",
    "    final_patient_ind_value_numeric=con()\n",
    "    final_patient_cohort_concept=final_patient_cohort_concept_1(dropdown_diagnosis_name.value)\n",
    "    final_patient_cohort_concept_feat = final_patient_cohort_concept.drop(columns = ['person_id'])\n",
    "    \n",
    "    start_time = time.time()\n",
    "\n",
    "    cont_names = list(final_patient_cohort_concept_feat.columns[:-1])\n",
    "\n",
    "    norm = Normalize()\n",
    "    to = TabularPandas(final_patient_cohort_concept_feat, norm, cont_names=cont_names)\n",
    "    norms = to.procs.normalize\n",
    "\n",
    "    procs = [Categorify, FillMissing, Normalize]\n",
    "    cont_names = list(final_patient_cohort_concept_feat.columns[:-1])\n",
    "\n",
    "    y_names = final_patient_cohort_concept_feat.columns[-1]\n",
    "    y_block = CategoryBlock()\n",
    "\n",
    "    splits = RandomSplitter()(range_of(final_patient_cohort_concept_feat))\n",
    "\n",
    "    to = TabularPandas(final_patient_cohort_concept_feat, procs=[], cont_names=cont_names,\n",
    "                       y_names=y_names, y_block=y_block, splits=splits)\n",
    "\n",
    "    dls = to.dataloaders()\n",
    "    trn_dl = TabDataLoader(to.train, bs=64, shuffle=True, drop_last=True)\n",
    "    val_dl = TabDataLoader(to.valid, bs=128)\n",
    "    dls = DataLoaders(trn_dl, val_dl)\n",
    "\n",
    "    emb_szs = get_emb_sz(to); emb_szs\n",
    "    cont_len = len(to.cont_names); cont_len\n",
    "    batch = dls.one_batch(); len(batch)\n",
    "    batch[0][0], batch[1][0]\n",
    "    net = TabularModel(emb_szs, cont_len, 2, [200,100])\n",
    "\n",
    "    learn = tabular_learner(dls, [200,100], metrics=accuracy)\n",
    "    learn.lr_find() \n",
    "\n",
    "    dls = to.dataloaders(bs=1024)\n",
    "    learn = tabular_learner(dls, [200,100], metrics=accuracy)\n",
    "    learn.fit_one_cycle(10,cbs=EarlyStoppingCallback(monitor='accuracy', min_delta=0.01, patience=3))\n",
    "\n",
    "    def fastai_report(diagnosis_name):\n",
    "        fastai_report_output = widgets.Output() \n",
    "        fastai_report_output.clear_output()\n",
    "\n",
    "    #patient_pred_lgb = lgb_classifier.predict(patient_feat)\n",
    "    #print('patient_pred_lgb:', dict_pred[int(patient_pred_lgb[0])])\n",
    "    #text_prediction_fastai = widgets.Text(value = dict_pred[int(patient_pred_lgb[0])], description= '<b>Prediction:</b>', style =style)\n",
    "        interpret = ClassificationInterpretation.from_learner(learn)\n",
    "        interpret = interpret.print_classification_report()\n",
    "        df_report = pd.DataFrame(interpret).transpose()\n",
    "\n",
    "        with fastai_report_output:\n",
    "            display(df_report)\n",
    "\n",
    "        items = [fastai_report_output]\n",
    "        box = Box(children=items)\n",
    "        return box\n",
    "\n",
    "    \n",
    "    fastai_report(diagnosis_name)\n",
    "\n",
    "# interpret = ClassificationInterpretation.from_learner(learn)\n",
    "# interpret.print_classification_report()\n",
    "\n",
    "# print(\"--- %s seconds ---\" % (time.time() - start_time))\n",
    "\n",
    "# interpret = ClassificationInterpretation.from_learner(learn)\n",
    "# interpret.print_classification_report()\n",
    "\n",
    "# print(\"--- %s seconds ---\" % (time.time() - start_time))"
   ]
  },
  {
   "cell_type": "code",
   "execution_count": 478,
   "id": "4b6f748f",
   "metadata": {
    "extensions": {
     "jupyter_dashboards": {
      "version": 1,
      "views": {
       "grid_default": {},
       "report_default": {
        "hidden": true
       }
      }
     }
    }
   },
   "outputs": [],
   "source": [
    "# from IPython.core.display import display, HTML\n",
    "# display(HTML('''\n",
    "# <script>\n",
    "# $('option').mousedown(function(e) {\n",
    "#     e.preventDefault();\n",
    "#     $(this).prop('selected', !$(this).prop('selected'));\n",
    "#     return false;\n",
    "# });\n",
    "# </script>\n",
    "# '''))"
   ]
  }
 ],
 "metadata": {
  "extensions": {
   "jupyter_dashboards": {
    "activeView": "report_default",
    "version": 1,
    "views": {
     "grid_default": {
      "cellMargin": 10,
      "defaultCellHeight": 20,
      "maxColumns": 12,
      "name": "grid",
      "type": "grid"
     },
     "report_default": {
      "name": "report",
      "type": "report"
     }
    }
   }
  },
  "kernelspec": {
   "display_name": "Python 3 (ipykernel)",
   "language": "python",
   "name": "python3"
  },
  "language_info": {
   "codemirror_mode": {
    "name": "ipython",
    "version": 3
   },
   "file_extension": ".py",
   "mimetype": "text/x-python",
   "name": "python",
   "nbconvert_exporter": "python",
   "pygments_lexer": "ipython3",
   "version": "3.8.10"
  }
 },
 "nbformat": 4,
 "nbformat_minor": 5
}
